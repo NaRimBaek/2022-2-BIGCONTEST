{
 "cells": [
  {
   "cell_type": "code",
   "execution_count": 1,
   "metadata": {
    "executionInfo": {
     "elapsed": 561,
     "status": "ok",
     "timestamp": 1665491037917,
     "user": {
      "displayName": "강채리",
      "userId": "09528481703241706041"
     },
     "user_tz": -540
    },
    "id": "f11AGpclxgAR"
   },
   "outputs": [
    {
     "data": {
      "text/html": [
       "<style type='text/css'>\n",
       ".datatable table.frame { margin-bottom: 0; }\n",
       ".datatable table.frame thead { border-bottom: none; }\n",
       ".datatable table.frame tr.coltypes td {  color: #FFFFFF;  line-height: 6px;  padding: 0 0.5em;}\n",
       ".datatable .bool    { background: #DDDD99; }\n",
       ".datatable .object  { background: #565656; }\n",
       ".datatable .int     { background: #5D9E5D; }\n",
       ".datatable .float   { background: #4040CC; }\n",
       ".datatable .str     { background: #CC4040; }\n",
       ".datatable .time    { background: #40CC40; }\n",
       ".datatable .row_index {  background: var(--jp-border-color3);  border-right: 1px solid var(--jp-border-color0);  color: var(--jp-ui-font-color3);  font-size: 9px;}\n",
       ".datatable .frame tbody td { text-align: left; }\n",
       ".datatable .frame tr.coltypes .row_index {  background: var(--jp-border-color0);}\n",
       ".datatable th:nth-child(2) { padding-left: 12px; }\n",
       ".datatable .hellipsis {  color: var(--jp-cell-editor-border-color);}\n",
       ".datatable .vellipsis {  background: var(--jp-layout-color0);  color: var(--jp-cell-editor-border-color);}\n",
       ".datatable .na {  color: var(--jp-cell-editor-border-color);  font-size: 80%;}\n",
       ".datatable .sp {  opacity: 0.25;}\n",
       ".datatable .footer { font-size: 9px; }\n",
       ".datatable .frame_dimensions {  background: var(--jp-border-color3);  border-top: 1px solid var(--jp-border-color0);  color: var(--jp-ui-font-color3);  display: inline-block;  opacity: 0.6;  padding: 1px 10px 1px 5px;}\n",
       "</style>\n"
      ],
      "text/plain": [
       "<IPython.core.display.HTML object>"
      ]
     },
     "metadata": {},
     "output_type": "display_data"
    },
    {
     "name": "stderr",
     "output_type": "stream",
     "text": [
      "/var/folders/2y/t2fct91n6c515y6sv4v690lc0000gn/T/ipykernel_92311/2927597290.py:47: DeprecationWarning: `set_matplotlib_formats` is deprecated since IPython 7.23, directly use `matplotlib_inline.backend_inline.set_matplotlib_formats()`\n",
      "  set_matplotlib_formats('retina')\n"
     ]
    },
    {
     "data": {
      "image/png": "[encoded data removed]",
      "text/plain": [
       "<Figure size 144x144 with 1 Axes>"
      ]
     },
     "metadata": {
      "image/png": {
       "height": 145,
       "width": 201
      },
      "needs_background": "light"
     },
     "output_type": "display_data"
    }
   ],
   "source": [
    "# Data processing\n",
    "# ==============================================================================\n",
    "import os \n",
    "import datatable\n",
    "\n",
    "\n",
    "import pandas as pd\n",
    "import numpy as np\n",
    "import openpyxl\n",
    "import math\n",
    "import datetime as dt\n",
    "\n",
    "# Plots\n",
    "# ==============================================================================\n",
    "import matplotlib as mpl\n",
    "import matplotlib.pyplot as plt\n",
    "import seaborn as sns; sns.set(style='whitegrid',font_scale=1.2) \n",
    "from statsmodels.graphics.tsaplots import plot_acf\n",
    "from statsmodels.graphics.tsaplots import plot_pacf\n",
    "import plotly.express as px\n",
    "plt.style.use('fivethirtyeight')\n",
    "plt.rcParams['lines.linewidth'] = 1.5\n",
    "%matplotlib inline\n",
    "\n",
    "## * 이 셀이 제대로 작동하지 않고 길게 warning 메시지가 나올 경우, 상단의 메뉴에서 <런타임>-<런타임 다시 시작>을 클릭한 뒤 처음부터 코드를 실행하세요 \n",
    "# 그래프 한글 폰트 설정\n",
    "\n",
    "import matplotlib \n",
    "import platform \n",
    "from matplotlib import font_manager, rc \n",
    "%config InlineBackend.figure_format = 'retina'\n",
    "\n",
    "# '-' 부호가 제대로 표시되게 하는 설정 \n",
    "matplotlib.rcParams['axes.unicode_minus'] = False\n",
    "# 운영 체제마다 한글이 보이게 하는 설정 \n",
    "if platform.system() == 'Windows': # 윈도우\n",
    "    path = \"c:\\Windows\\Fonts\\malgun.ttf\"\n",
    "    font_name = font_manager.FontProperties(fname=path).get_name() \n",
    "    rc('font', family=font_name)\n",
    "elif platform.system() == 'Darwin': #맥\n",
    "    rc('font', family='AppleGothic')\n",
    "elif platform.system() == 'Linux': # 리눅스\n",
    "    rc('font', family='NanumBarunGothic')\n",
    "\n",
    "#폰트 선명하게 보이게 하기 위해\n",
    "from IPython.display import set_matplotlib_formats\n",
    "set_matplotlib_formats('retina')\n",
    "\n",
    "## Test\n",
    "plt.figure(figsize=(2,2))\n",
    "plt.text(0.3, 0.3, '한글 폰트 테스트', size=15)\n",
    "plt.show() \n",
    "\n",
    "# Configuration\n",
    "# ==============================================================================\n",
    "import warnings\n",
    "warnings.filterwarnings('ignore')\n",
    "%config Completer.use_jedi = False"
   ]
  },
  {
   "cell_type": "code",
   "execution_count": 2,
   "metadata": {
    "executionInfo": {
     "elapsed": 15400,
     "status": "ok",
     "timestamp": 1665491053316,
     "user": {
      "displayName": "강채리",
      "userId": "09528481703241706041"
     },
     "user_tz": -540
    },
    "id": "y5EKxA-uxgC0"
   },
   "outputs": [],
   "source": [
    "loan = pd.read_csv('/Users/baeknarim/데이터분석분야_퓨처스부문_포포나무팀/추가제출파일/DATA/RAWDATA/2022빅콘테스트_데이터분석리그_데이터분석분야_퓨처스부문_데이터셋_220908/loan_result.csv')\n",
    "user = pd.read_csv('/Users/baeknarim/데이터분석분야_퓨처스부문_포포나무팀/추가제출파일/DATA/RAWDATA/2022빅콘테스트_데이터분석리그_데이터분석분야_퓨처스부문_데이터셋_220908/user_spec.csv')"
   ]
  },
  {
   "cell_type": "code",
   "execution_count": 3,
   "metadata": {
    "executionInfo": {
     "elapsed": 1596,
     "status": "ok",
     "timestamp": 1665493587092,
     "user": {
      "displayName": "강채리",
      "userId": "09528481703241706041"
     },
     "user_tz": -540
    },
    "id": "QMw09ov5ZPQg"
   },
   "outputs": [],
   "source": [
    "loan2 =loan.copy()\n",
    "user2 = user.copy()"
   ]
  },
  {
   "cell_type": "code",
   "execution_count": 4,
   "metadata": {
    "colab": {
     "base_uri": "https://localhost:8080/"
    },
    "executionInfo": {
     "elapsed": 612,
     "status": "ok",
     "timestamp": 1665493587702,
     "user": {
      "displayName": "강채리",
      "userId": "09528481703241706041"
     },
     "user_tz": -540
    },
    "id": "3Pl2loHP1fII",
    "outputId": "1615790c-41ae-4f62-ce92-9eede611fcea"
   },
   "outputs": [
    {
     "data": {
      "text/plain": [
       "application_id                               0\n",
       "user_id                                      0\n",
       "birth_year                               12961\n",
       "gender                                   12961\n",
       "insert_time                                  0\n",
       "credit_score                            105115\n",
       "yearly_income                               90\n",
       "income_type                                 85\n",
       "company_enter_month                     171760\n",
       "employment_type                             85\n",
       "houseown_type                               85\n",
       "desired_amount                              85\n",
       "purpose                                     85\n",
       "personal_rehabilitation_yn              587461\n",
       "personal_rehabilitation_complete_yn    1203354\n",
       "existing_loan_cnt                       198556\n",
       "existing_loan_amt                       313774\n",
       "dtype: int64"
      ]
     },
     "execution_count": 4,
     "metadata": {},
     "output_type": "execute_result"
    }
   ],
   "source": [
    "user2.isna().sum()"
   ]
  },
  {
   "cell_type": "code",
   "execution_count": 5,
   "metadata": {
    "executionInfo": {
     "elapsed": 3609,
     "status": "ok",
     "timestamp": 1665493592947,
     "user": {
      "displayName": "강채리",
      "userId": "09528481703241706041"
     },
     "user_tz": -540
    },
    "id": "14gcsH411G8B"
   },
   "outputs": [],
   "source": [
    "user2 = user2.sort_values(['user_id','insert_time'])"
   ]
  },
  {
   "cell_type": "markdown",
   "metadata": {
    "id": "W1wKwI9zZT08"
   },
   "source": [
    "# loan_rate, loan_limit이 NA인 행 제거"
   ]
  },
  {
   "cell_type": "code",
   "execution_count": 6,
   "metadata": {
    "colab": {
     "base_uri": "https://localhost:8080/"
    },
    "executionInfo": {
     "elapsed": 4,
     "status": "ok",
     "timestamp": 1665493592948,
     "user": {
      "displayName": "강채리",
      "userId": "09528481703241706041"
     },
     "user_tz": -540
    },
    "id": "AjKMOivSZSSw",
    "outputId": "334b8f70-d6d6-4d20-ea1f-b327399145bd"
   },
   "outputs": [
    {
     "data": {
      "text/plain": [
       "application_id                 0\n",
       "loanapply_insert_time          0\n",
       "bank_id                        0\n",
       "product_id                     0\n",
       "loan_limit                  7495\n",
       "loan_rate                   7495\n",
       "is_applied               3257239\n",
       "dtype: int64"
      ]
     },
     "execution_count": 6,
     "metadata": {},
     "output_type": "execute_result"
    }
   ],
   "source": [
    "loan2.isna().sum()"
   ]
  },
  {
   "cell_type": "code",
   "execution_count": 7,
   "metadata": {
    "colab": {
     "base_uri": "https://localhost:8080/"
    },
    "executionInfo": {
     "elapsed": 3,
     "status": "ok",
     "timestamp": 1665491066076,
     "user": {
      "displayName": "강채리",
      "userId": "09528481703241706041"
     },
     "user_tz": -540
    },
    "id": "Az_az2RLfqYP",
    "outputId": "48e14249-762c-4d03-f32d-dd9ef9a49cbc"
   },
   "outputs": [
    {
     "data": {
      "text/plain": [
       "(13527363, 7)"
      ]
     },
     "execution_count": 7,
     "metadata": {},
     "output_type": "execute_result"
    }
   ],
   "source": [
    "loan2.shape"
   ]
  },
  {
   "cell_type": "code",
   "execution_count": 8,
   "metadata": {
    "colab": {
     "base_uri": "https://localhost:8080/",
     "height": 424
    },
    "executionInfo": {
     "elapsed": 610,
     "status": "ok",
     "timestamp": 1665491092360,
     "user": {
      "displayName": "강채리",
      "userId": "09528481703241706041"
     },
     "user_tz": -540
    },
    "id": "0Loy8ijqfS-S",
    "outputId": "869880cc-10f2-418d-bf15-f6012522cf8f"
   },
   "outputs": [
    {
     "data": {
      "text/html": [
       "<div>\n",
       "<style scoped>\n",
       "    .dataframe tbody tr th:only-of-type {\n",
       "        vertical-align: middle;\n",
       "    }\n",
       "\n",
       "    .dataframe tbody tr th {\n",
       "        vertical-align: top;\n",
       "    }\n",
       "\n",
       "    .dataframe thead th {\n",
       "        text-align: right;\n",
       "    }\n",
       "</style>\n",
       "<table border=\"1\" class=\"dataframe\">\n",
       "  <thead>\n",
       "    <tr style=\"text-align: right;\">\n",
       "      <th></th>\n",
       "      <th>application_id</th>\n",
       "      <th>loanapply_insert_time</th>\n",
       "      <th>bank_id</th>\n",
       "      <th>product_id</th>\n",
       "      <th>loan_limit</th>\n",
       "      <th>loan_rate</th>\n",
       "      <th>is_applied</th>\n",
       "    </tr>\n",
       "  </thead>\n",
       "  <tbody>\n",
       "    <tr>\n",
       "      <th>461</th>\n",
       "      <td>1029177</td>\n",
       "      <td>2022-06-07 15:29:06</td>\n",
       "      <td>51</td>\n",
       "      <td>21</td>\n",
       "      <td>NaN</td>\n",
       "      <td>NaN</td>\n",
       "      <td>NaN</td>\n",
       "    </tr>\n",
       "    <tr>\n",
       "      <th>4318</th>\n",
       "      <td>1086409</td>\n",
       "      <td>2022-06-07 18:11:31</td>\n",
       "      <td>13</td>\n",
       "      <td>262</td>\n",
       "      <td>NaN</td>\n",
       "      <td>NaN</td>\n",
       "      <td>NaN</td>\n",
       "    </tr>\n",
       "    <tr>\n",
       "      <th>6971</th>\n",
       "      <td>1193826</td>\n",
       "      <td>2022-06-07 17:13:03</td>\n",
       "      <td>1</td>\n",
       "      <td>202</td>\n",
       "      <td>NaN</td>\n",
       "      <td>NaN</td>\n",
       "      <td>NaN</td>\n",
       "    </tr>\n",
       "    <tr>\n",
       "      <th>8459</th>\n",
       "      <td>447492</td>\n",
       "      <td>2022-06-07 17:12:08</td>\n",
       "      <td>30</td>\n",
       "      <td>232</td>\n",
       "      <td>NaN</td>\n",
       "      <td>NaN</td>\n",
       "      <td>NaN</td>\n",
       "    </tr>\n",
       "    <tr>\n",
       "      <th>9220</th>\n",
       "      <td>260060</td>\n",
       "      <td>2022-06-07 11:45:43</td>\n",
       "      <td>30</td>\n",
       "      <td>85</td>\n",
       "      <td>NaN</td>\n",
       "      <td>NaN</td>\n",
       "      <td>NaN</td>\n",
       "    </tr>\n",
       "    <tr>\n",
       "      <th>...</th>\n",
       "      <td>...</td>\n",
       "      <td>...</td>\n",
       "      <td>...</td>\n",
       "      <td>...</td>\n",
       "      <td>...</td>\n",
       "      <td>...</td>\n",
       "      <td>...</td>\n",
       "    </tr>\n",
       "    <tr>\n",
       "      <th>13521728</th>\n",
       "      <td>1222550</td>\n",
       "      <td>2022-06-03 16:51:24</td>\n",
       "      <td>13</td>\n",
       "      <td>262</td>\n",
       "      <td>NaN</td>\n",
       "      <td>NaN</td>\n",
       "      <td>NaN</td>\n",
       "    </tr>\n",
       "    <tr>\n",
       "      <th>13522701</th>\n",
       "      <td>135727</td>\n",
       "      <td>2022-06-03 10:59:08</td>\n",
       "      <td>10</td>\n",
       "      <td>149</td>\n",
       "      <td>NaN</td>\n",
       "      <td>NaN</td>\n",
       "      <td>NaN</td>\n",
       "    </tr>\n",
       "    <tr>\n",
       "      <th>13523316</th>\n",
       "      <td>687402</td>\n",
       "      <td>2022-06-03 12:12:31</td>\n",
       "      <td>1</td>\n",
       "      <td>102</td>\n",
       "      <td>NaN</td>\n",
       "      <td>NaN</td>\n",
       "      <td>NaN</td>\n",
       "    </tr>\n",
       "    <tr>\n",
       "      <th>13523827</th>\n",
       "      <td>621491</td>\n",
       "      <td>2022-06-03 17:05:01</td>\n",
       "      <td>51</td>\n",
       "      <td>21</td>\n",
       "      <td>NaN</td>\n",
       "      <td>NaN</td>\n",
       "      <td>NaN</td>\n",
       "    </tr>\n",
       "    <tr>\n",
       "      <th>13526948</th>\n",
       "      <td>1719382</td>\n",
       "      <td>2022-06-03 11:31:15</td>\n",
       "      <td>13</td>\n",
       "      <td>262</td>\n",
       "      <td>NaN</td>\n",
       "      <td>NaN</td>\n",
       "      <td>NaN</td>\n",
       "    </tr>\n",
       "  </tbody>\n",
       "</table>\n",
       "<p>7495 rows × 7 columns</p>\n",
       "</div>"
      ],
      "text/plain": [
       "          application_id loanapply_insert_time  bank_id  product_id  \\\n",
       "461              1029177   2022-06-07 15:29:06       51          21   \n",
       "4318             1086409   2022-06-07 18:11:31       13         262   \n",
       "6971             1193826   2022-06-07 17:13:03        1         202   \n",
       "8459              447492   2022-06-07 17:12:08       30         232   \n",
       "9220              260060   2022-06-07 11:45:43       30          85   \n",
       "...                  ...                   ...      ...         ...   \n",
       "13521728         1222550   2022-06-03 16:51:24       13         262   \n",
       "13522701          135727   2022-06-03 10:59:08       10         149   \n",
       "13523316          687402   2022-06-03 12:12:31        1         102   \n",
       "13523827          621491   2022-06-03 17:05:01       51          21   \n",
       "13526948         1719382   2022-06-03 11:31:15       13         262   \n",
       "\n",
       "          loan_limit  loan_rate  is_applied  \n",
       "461              NaN        NaN         NaN  \n",
       "4318             NaN        NaN         NaN  \n",
       "6971             NaN        NaN         NaN  \n",
       "8459             NaN        NaN         NaN  \n",
       "9220             NaN        NaN         NaN  \n",
       "...              ...        ...         ...  \n",
       "13521728         NaN        NaN         NaN  \n",
       "13522701         NaN        NaN         NaN  \n",
       "13523316         NaN        NaN         NaN  \n",
       "13523827         NaN        NaN         NaN  \n",
       "13526948         NaN        NaN         NaN  \n",
       "\n",
       "[7495 rows x 7 columns]"
      ]
     },
     "execution_count": 8,
     "metadata": {},
     "output_type": "execute_result"
    }
   ],
   "source": [
    "loan2.loc[loan2['loan_limit'].isna()]"
   ]
  },
  {
   "cell_type": "code",
   "execution_count": 9,
   "metadata": {
    "executionInfo": {
     "elapsed": 552,
     "status": "ok",
     "timestamp": 1665493595675,
     "user": {
      "displayName": "강채리",
      "userId": "09528481703241706041"
     },
     "user_tz": -540
    },
    "id": "TcM5-NcbdICD"
   },
   "outputs": [],
   "source": [
    "loan2 = loan2.dropna(subset=['loan_limit'])"
   ]
  },
  {
   "cell_type": "code",
   "execution_count": 10,
   "metadata": {
    "colab": {
     "base_uri": "https://localhost:8080/"
    },
    "executionInfo": {
     "elapsed": 632,
     "status": "ok",
     "timestamp": 1665492034477,
     "user": {
      "displayName": "강채리",
      "userId": "09528481703241706041"
     },
     "user_tz": -540
    },
    "id": "Y84QdE-td8tC",
    "outputId": "5135452b-d612-42fc-8994-5f8a4d7ac21d"
   },
   "outputs": [
    {
     "data": {
      "text/plain": [
       "application_id                 0\n",
       "loanapply_insert_time          0\n",
       "bank_id                        0\n",
       "product_id                     0\n",
       "loan_limit                     0\n",
       "loan_rate                      0\n",
       "is_applied               3255482\n",
       "dtype: int64"
      ]
     },
     "execution_count": 10,
     "metadata": {},
     "output_type": "execute_result"
    }
   ],
   "source": [
    "loan2.isna().sum()"
   ]
  },
  {
   "cell_type": "markdown",
   "metadata": {
    "id": "dXmQ7yNWf1sN"
   },
   "source": [
    "# loan_result와 user_spec을 각각 train/test로 나누기"
   ]
  },
  {
   "cell_type": "code",
   "execution_count": 11,
   "metadata": {
    "executionInfo": {
     "elapsed": 6302,
     "status": "ok",
     "timestamp": 1665493609475,
     "user": {
      "displayName": "강채리",
      "userId": "09528481703241706041"
     },
     "user_tz": -540
    },
    "id": "vOrK0fNaeh9D"
   },
   "outputs": [],
   "source": [
    "loan2['loanapply_insert_time'] = pd.to_datetime(loan2['loanapply_insert_time'])\n",
    "user2['insert_time'] = pd.to_datetime(user2['insert_time'] )"
   ]
  },
  {
   "cell_type": "code",
   "execution_count": 12,
   "metadata": {
    "executionInfo": {
     "elapsed": 1725,
     "status": "ok",
     "timestamp": 1665493611197,
     "user": {
      "displayName": "강채리",
      "userId": "09528481703241706041"
     },
     "user_tz": -540
    },
    "id": "aS_XIFeyhLY2"
   },
   "outputs": [],
   "source": [
    "loan_train = loan2.loc[loan2['loanapply_insert_time']<'2022-06-01'].sort_values('loanapply_insert_time')"
   ]
  },
  {
   "cell_type": "code",
   "execution_count": 13,
   "metadata": {
    "executionInfo": {
     "elapsed": 713,
     "status": "ok",
     "timestamp": 1665493611908,
     "user": {
      "displayName": "강채리",
      "userId": "09528481703241706041"
     },
     "user_tz": -540
    },
    "id": "i44FfvQYhLs2"
   },
   "outputs": [],
   "source": [
    "user_train = user2.loc[user2['insert_time']<'2022-06-01'].sort_values('insert_time')"
   ]
  },
  {
   "cell_type": "code",
   "execution_count": 14,
   "metadata": {
    "executionInfo": {
     "elapsed": 843,
     "status": "ok",
     "timestamp": 1665493612749,
     "user": {
      "displayName": "강채리",
      "userId": "09528481703241706041"
     },
     "user_tz": -540
    },
    "id": "xWKXKhhLhLvJ"
   },
   "outputs": [],
   "source": [
    "loan_test = loan2.loc[loan2['loanapply_insert_time']>='2022-06-01'].sort_values('loanapply_insert_time')"
   ]
  },
  {
   "cell_type": "code",
   "execution_count": 15,
   "metadata": {
    "executionInfo": {
     "elapsed": 3,
     "status": "ok",
     "timestamp": 1665493612749,
     "user": {
      "displayName": "강채리",
      "userId": "09528481703241706041"
     },
     "user_tz": -540
    },
    "id": "xlYgZqzxhLw6"
   },
   "outputs": [],
   "source": [
    "user_test = user2.loc[user2['insert_time']>='2022-06-01'].sort_values('insert_time')"
   ]
  },
  {
   "cell_type": "code",
   "execution_count": 16,
   "metadata": {
    "colab": {
     "base_uri": "https://localhost:8080/"
    },
    "executionInfo": {
     "elapsed": 3,
     "status": "ok",
     "timestamp": 1665493612749,
     "user": {
      "displayName": "강채리",
      "userId": "09528481703241706041"
     },
     "user_tz": -540
    },
    "id": "OKjZ6sbYh3DO",
    "outputId": "822c8610-db0d-4f5f-bf92-31c374536e80"
   },
   "outputs": [
    {
     "name": "stdout",
     "output_type": "stream",
     "text": [
      "(10264386, 7) (3255482, 7) (1029390, 17) (364826, 17)\n"
     ]
    }
   ],
   "source": [
    "print(loan_train.shape, loan_test.shape, user_train.shape, user_test.shape)"
   ]
  },
  {
   "cell_type": "code",
   "execution_count": 17,
   "metadata": {
    "colab": {
     "base_uri": "https://localhost:8080/"
    },
    "executionInfo": {
     "elapsed": 1165,
     "status": "ok",
     "timestamp": 1665491215053,
     "user": {
      "displayName": "강채리",
      "userId": "09528481703241706041"
     },
     "user_tz": -540
    },
    "id": "0A7IXbU1iDXd",
    "outputId": "4fee48b0-f5ae-4831-b278-99aadcd6b226"
   },
   "outputs": [
    {
     "data": {
      "text/plain": [
       "1394216"
      ]
     },
     "execution_count": 17,
     "metadata": {},
     "output_type": "execute_result"
    }
   ],
   "source": [
    "1029390+364826"
   ]
  },
  {
   "cell_type": "markdown",
   "metadata": {
    "id": "Kqzb8635yTsm"
   },
   "source": [
    "# train 내에서 bfill&ffill"
   ]
  },
  {
   "cell_type": "markdown",
   "metadata": {
    "id": "HEaVBZ9HCEYV"
   },
   "source": [
    "train"
   ]
  },
  {
   "cell_type": "code",
   "execution_count": 18,
   "metadata": {
    "colab": {
     "base_uri": "https://localhost:8080/"
    },
    "executionInfo": {
     "elapsed": 3,
     "status": "ok",
     "timestamp": 1665493615381,
     "user": {
      "displayName": "강채리",
      "userId": "09528481703241706041"
     },
     "user_tz": -540
    },
    "id": "0rwSaIng7SDD",
    "outputId": "79c0aa49-6fff-42cf-a8f3-67c119511f84"
   },
   "outputs": [
    {
     "data": {
      "text/plain": [
       "application_id                              0\n",
       "user_id                                     0\n",
       "birth_year                               8603\n",
       "gender                                   8603\n",
       "insert_time                                 0\n",
       "credit_score                            85638\n",
       "yearly_income                              23\n",
       "income_type                                23\n",
       "company_enter_month                    123040\n",
       "employment_type                            23\n",
       "houseown_type                              23\n",
       "desired_amount                             23\n",
       "purpose                                    23\n",
       "personal_rehabilitation_yn             585382\n",
       "personal_rehabilitation_complete_yn    922059\n",
       "existing_loan_cnt                      155986\n",
       "existing_loan_amt                      239909\n",
       "dtype: int64"
      ]
     },
     "execution_count": 18,
     "metadata": {},
     "output_type": "execute_result"
    }
   ],
   "source": [
    "user_train.isna().sum()"
   ]
  },
  {
   "cell_type": "code",
   "execution_count": 19,
   "metadata": {
    "executionInfo": {
     "elapsed": 4964,
     "status": "ok",
     "timestamp": 1665493625405,
     "user": {
      "displayName": "강채리",
      "userId": "09528481703241706041"
     },
     "user_tz": -540
    },
    "id": "KM4hBFE75LLV"
   },
   "outputs": [],
   "source": [
    "user_train['birth_year'] = user_train.groupby('user_id')['birth_year'].ffill()\n",
    "user_train['birth_year'] = user_train.groupby('user_id')['birth_year'].bfill()\n",
    "\n",
    "user_train['gender'] = user_train.groupby('user_id')['gender'].ffill()\n",
    "user_train['gender'] = user_train.groupby('user_id')['gender'].bfill()\n",
    "\n",
    "user_train['credit_score'] = user_train.groupby('user_id')['credit_score'].ffill()\n",
    "user_train['credit_score'] = user_train.groupby('user_id')['credit_score'].bfill()\n",
    "\n",
    "user_train['yearly_income'] = user_train.groupby('user_id')['yearly_income'].ffill()\n",
    "user_train['yearly_income'] = user_train.groupby('user_id')['yearly_income'].bfill()\n",
    "\n",
    "user_train['income_type'] = user_train.groupby('user_id')['income_type'].ffill()\n",
    "user_train['income_type'] = user_train.groupby('user_id')['income_type'].bfill()\n",
    "\n",
    "user_train['company_enter_month'] = user_train.groupby('user_id')['company_enter_month'].ffill()\n",
    "user_train['company_enter_month'] = user_train.groupby('user_id')['company_enter_month'].bfill()\n",
    "\n",
    "user_train['employment_type'] = user_train.groupby('user_id')['employment_type'].ffill()\n",
    "user_train['employment_type'] = user_train.groupby('user_id')['employment_type'].bfill()\n",
    "\n",
    "user_train['houseown_type'] = user_train.groupby('user_id')['houseown_type'].ffill()\n",
    "user_train['houseown_type'] = user_train.groupby('user_id')['houseown_type'].bfill()\n",
    "\n",
    "user_train['desired_amount'] = user_train.groupby('user_id')['desired_amount'].ffill()\n",
    "user_train['desired_amount'] = user_train.groupby('user_id')['desired_amount'].bfill()\n",
    "\n",
    "user_train['purpose'] = user_train.groupby('user_id')['purpose'].ffill()\n",
    "user_train['purpose'] = user_train.groupby('user_id')['purpose'].bfill()\n"
   ]
  },
  {
   "cell_type": "code",
   "execution_count": 20,
   "metadata": {
    "colab": {
     "base_uri": "https://localhost:8080/"
    },
    "executionInfo": {
     "elapsed": 534,
     "status": "ok",
     "timestamp": 1665493628911,
     "user": {
      "displayName": "강채리",
      "userId": "09528481703241706041"
     },
     "user_tz": -540
    },
    "id": "yaC3u_6o8ohM",
    "outputId": "10f7d7f4-3359-41dd-ce37-dbb7273c4d08"
   },
   "outputs": [
    {
     "data": {
      "text/plain": [
       "application_id                              0\n",
       "user_id                                     0\n",
       "birth_year                               6581\n",
       "gender                                   6581\n",
       "insert_time                                 0\n",
       "credit_score                            74666\n",
       "yearly_income                               4\n",
       "income_type                                 4\n",
       "company_enter_month                     87353\n",
       "employment_type                             4\n",
       "houseown_type                               4\n",
       "desired_amount                              4\n",
       "purpose                                     4\n",
       "personal_rehabilitation_yn             585382\n",
       "personal_rehabilitation_complete_yn    922059\n",
       "existing_loan_cnt                      155986\n",
       "existing_loan_amt                      239909\n",
       "dtype: int64"
      ]
     },
     "execution_count": 20,
     "metadata": {},
     "output_type": "execute_result"
    }
   ],
   "source": [
    "user_train.isna().sum()"
   ]
  },
  {
   "cell_type": "markdown",
   "metadata": {
    "id": "rKkMCg9qCGNx"
   },
   "source": [
    "test"
   ]
  },
  {
   "cell_type": "code",
   "execution_count": 21,
   "metadata": {
    "colab": {
     "base_uri": "https://localhost:8080/"
    },
    "executionInfo": {
     "elapsed": 733,
     "status": "ok",
     "timestamp": 1665493639763,
     "user": {
      "displayName": "강채리",
      "userId": "09528481703241706041"
     },
     "user_tz": -540
    },
    "id": "l4ZTRek6CztO",
    "outputId": "cfe157f8-73c9-4fd4-b628-9a0ddddd3d39"
   },
   "outputs": [
    {
     "data": {
      "text/plain": [
       "1394216"
      ]
     },
     "execution_count": 21,
     "metadata": {},
     "output_type": "execute_result"
    }
   ],
   "source": [
    "user_train.shape[0]+user_test.shape[0]"
   ]
  },
  {
   "cell_type": "code",
   "execution_count": 22,
   "metadata": {
    "executionInfo": {
     "elapsed": 757,
     "status": "ok",
     "timestamp": 1665493643262,
     "user": {
      "displayName": "강채리",
      "userId": "09528481703241706041"
     },
     "user_tz": -540
    },
    "id": "rcQ_J1oXCsVo"
   },
   "outputs": [],
   "source": [
    "user2 = pd.concat([user_train, user_test], axis= 0)"
   ]
  },
  {
   "cell_type": "code",
   "execution_count": 23,
   "metadata": {
    "colab": {
     "base_uri": "https://localhost:8080/",
     "height": 661
    },
    "executionInfo": {
     "elapsed": 1442,
     "status": "ok",
     "timestamp": 1665493644700,
     "user": {
      "displayName": "강채리",
      "userId": "09528481703241706041"
     },
     "user_tz": -540
    },
    "id": "KQ7jXMJLIuwr",
    "outputId": "2f8be920-63c7-46c8-8573-730e2cf3a132"
   },
   "outputs": [
    {
     "data": {
      "text/html": [
       "<div>\n",
       "<style scoped>\n",
       "    .dataframe tbody tr th:only-of-type {\n",
       "        vertical-align: middle;\n",
       "    }\n",
       "\n",
       "    .dataframe tbody tr th {\n",
       "        vertical-align: top;\n",
       "    }\n",
       "\n",
       "    .dataframe thead th {\n",
       "        text-align: right;\n",
       "    }\n",
       "</style>\n",
       "<table border=\"1\" class=\"dataframe\">\n",
       "  <thead>\n",
       "    <tr style=\"text-align: right;\">\n",
       "      <th></th>\n",
       "      <th>application_id</th>\n",
       "      <th>user_id</th>\n",
       "      <th>birth_year</th>\n",
       "      <th>gender</th>\n",
       "      <th>insert_time</th>\n",
       "      <th>credit_score</th>\n",
       "      <th>yearly_income</th>\n",
       "      <th>income_type</th>\n",
       "      <th>company_enter_month</th>\n",
       "      <th>employment_type</th>\n",
       "      <th>houseown_type</th>\n",
       "      <th>desired_amount</th>\n",
       "      <th>purpose</th>\n",
       "      <th>personal_rehabilitation_yn</th>\n",
       "      <th>personal_rehabilitation_complete_yn</th>\n",
       "      <th>existing_loan_cnt</th>\n",
       "      <th>existing_loan_amt</th>\n",
       "    </tr>\n",
       "  </thead>\n",
       "  <tbody>\n",
       "    <tr>\n",
       "      <th>1290534</th>\n",
       "      <td>1031304</td>\n",
       "      <td>1</td>\n",
       "      <td>2000.0</td>\n",
       "      <td>1.0</td>\n",
       "      <td>2022-05-03 14:51:00</td>\n",
       "      <td>750.0</td>\n",
       "      <td>20000000.0</td>\n",
       "      <td>OTHERINCOME</td>\n",
       "      <td>NaN</td>\n",
       "      <td>기타</td>\n",
       "      <td>전월세</td>\n",
       "      <td>0.0</td>\n",
       "      <td>생활비</td>\n",
       "      <td>0.0</td>\n",
       "      <td>NaN</td>\n",
       "      <td>1.0</td>\n",
       "      <td>NaN</td>\n",
       "    </tr>\n",
       "    <tr>\n",
       "      <th>1290535</th>\n",
       "      <td>1767402</td>\n",
       "      <td>1</td>\n",
       "      <td>2000.0</td>\n",
       "      <td>1.0</td>\n",
       "      <td>2022-05-03 14:53:33</td>\n",
       "      <td>750.0</td>\n",
       "      <td>20000000.0</td>\n",
       "      <td>OTHERINCOME</td>\n",
       "      <td>NaN</td>\n",
       "      <td>기타</td>\n",
       "      <td>전월세</td>\n",
       "      <td>1000000.0</td>\n",
       "      <td>생활비</td>\n",
       "      <td>0.0</td>\n",
       "      <td>NaN</td>\n",
       "      <td>1.0</td>\n",
       "      <td>NaN</td>\n",
       "    </tr>\n",
       "    <tr>\n",
       "      <th>971242</th>\n",
       "      <td>1096882</td>\n",
       "      <td>7</td>\n",
       "      <td>1985.0</td>\n",
       "      <td>1.0</td>\n",
       "      <td>2022-05-22 16:42:47</td>\n",
       "      <td>580.0</td>\n",
       "      <td>22000000.0</td>\n",
       "      <td>EARNEDINCOME2</td>\n",
       "      <td>201907.0</td>\n",
       "      <td>계약직</td>\n",
       "      <td>기타가족소유</td>\n",
       "      <td>10000000.0</td>\n",
       "      <td>생활비</td>\n",
       "      <td>0.0</td>\n",
       "      <td>NaN</td>\n",
       "      <td>7.0</td>\n",
       "      <td>46000000.0</td>\n",
       "    </tr>\n",
       "    <tr>\n",
       "      <th>1150725</th>\n",
       "      <td>248576</td>\n",
       "      <td>9</td>\n",
       "      <td>1996.0</td>\n",
       "      <td>1.0</td>\n",
       "      <td>2022-05-21 23:41:09</td>\n",
       "      <td>810.0</td>\n",
       "      <td>29000000.0</td>\n",
       "      <td>EARNEDINCOME</td>\n",
       "      <td>202201.0</td>\n",
       "      <td>계약직</td>\n",
       "      <td>기타가족소유</td>\n",
       "      <td>15000000.0</td>\n",
       "      <td>사업자금</td>\n",
       "      <td>0.0</td>\n",
       "      <td>NaN</td>\n",
       "      <td>1.0</td>\n",
       "      <td>NaN</td>\n",
       "    </tr>\n",
       "    <tr>\n",
       "      <th>355849</th>\n",
       "      <td>1180616</td>\n",
       "      <td>11</td>\n",
       "      <td>1997.0</td>\n",
       "      <td>1.0</td>\n",
       "      <td>2022-03-24 10:58:22</td>\n",
       "      <td>640.0</td>\n",
       "      <td>25000000.0</td>\n",
       "      <td>EARNEDINCOME</td>\n",
       "      <td>202106.0</td>\n",
       "      <td>정규직</td>\n",
       "      <td>기타가족소유</td>\n",
       "      <td>2000000.0</td>\n",
       "      <td>생활비</td>\n",
       "      <td>NaN</td>\n",
       "      <td>NaN</td>\n",
       "      <td>1.0</td>\n",
       "      <td>14000000.0</td>\n",
       "    </tr>\n",
       "    <tr>\n",
       "      <th>...</th>\n",
       "      <td>...</td>\n",
       "      <td>...</td>\n",
       "      <td>...</td>\n",
       "      <td>...</td>\n",
       "      <td>...</td>\n",
       "      <td>...</td>\n",
       "      <td>...</td>\n",
       "      <td>...</td>\n",
       "      <td>...</td>\n",
       "      <td>...</td>\n",
       "      <td>...</td>\n",
       "      <td>...</td>\n",
       "      <td>...</td>\n",
       "      <td>...</td>\n",
       "      <td>...</td>\n",
       "      <td>...</td>\n",
       "      <td>...</td>\n",
       "    </tr>\n",
       "    <tr>\n",
       "      <th>691957</th>\n",
       "      <td>1889786</td>\n",
       "      <td>879694</td>\n",
       "      <td>1991.0</td>\n",
       "      <td>0.0</td>\n",
       "      <td>2022-03-31 20:17:31</td>\n",
       "      <td>NaN</td>\n",
       "      <td>39000000.0</td>\n",
       "      <td>EARNEDINCOME</td>\n",
       "      <td>201909.0</td>\n",
       "      <td>정규직</td>\n",
       "      <td>전월세</td>\n",
       "      <td>10000000.0</td>\n",
       "      <td>생활비</td>\n",
       "      <td>NaN</td>\n",
       "      <td>NaN</td>\n",
       "      <td>NaN</td>\n",
       "      <td>NaN</td>\n",
       "    </tr>\n",
       "    <tr>\n",
       "      <th>1181092</th>\n",
       "      <td>1774704</td>\n",
       "      <td>879695</td>\n",
       "      <td>1996.0</td>\n",
       "      <td>1.0</td>\n",
       "      <td>2022-05-27 12:50:55</td>\n",
       "      <td>NaN</td>\n",
       "      <td>30000000.0</td>\n",
       "      <td>EARNEDINCOME2</td>\n",
       "      <td>202202.0</td>\n",
       "      <td>정규직</td>\n",
       "      <td>전월세</td>\n",
       "      <td>15000000.0</td>\n",
       "      <td>대환대출</td>\n",
       "      <td>0.0</td>\n",
       "      <td>0.0</td>\n",
       "      <td>NaN</td>\n",
       "      <td>NaN</td>\n",
       "    </tr>\n",
       "    <tr>\n",
       "      <th>289906</th>\n",
       "      <td>2149910</td>\n",
       "      <td>879696</td>\n",
       "      <td>1997.0</td>\n",
       "      <td>1.0</td>\n",
       "      <td>2022-03-14 05:23:30</td>\n",
       "      <td>610.0</td>\n",
       "      <td>37000000.0</td>\n",
       "      <td>EARNEDINCOME</td>\n",
       "      <td>202110.0</td>\n",
       "      <td>정규직</td>\n",
       "      <td>전월세</td>\n",
       "      <td>10000000.0</td>\n",
       "      <td>생활비</td>\n",
       "      <td>NaN</td>\n",
       "      <td>NaN</td>\n",
       "      <td>3.0</td>\n",
       "      <td>20000000.0</td>\n",
       "    </tr>\n",
       "    <tr>\n",
       "      <th>60175</th>\n",
       "      <td>1856758</td>\n",
       "      <td>879696</td>\n",
       "      <td>1997.0</td>\n",
       "      <td>1.0</td>\n",
       "      <td>2022-03-14 05:40:38</td>\n",
       "      <td>610.0</td>\n",
       "      <td>37000000.0</td>\n",
       "      <td>EARNEDINCOME</td>\n",
       "      <td>202110.0</td>\n",
       "      <td>정규직</td>\n",
       "      <td>전월세</td>\n",
       "      <td>10000000.0</td>\n",
       "      <td>생활비</td>\n",
       "      <td>NaN</td>\n",
       "      <td>NaN</td>\n",
       "      <td>3.0</td>\n",
       "      <td>20000000.0</td>\n",
       "    </tr>\n",
       "    <tr>\n",
       "      <th>403673</th>\n",
       "      <td>1543548</td>\n",
       "      <td>879697</td>\n",
       "      <td>1962.0</td>\n",
       "      <td>1.0</td>\n",
       "      <td>2022-05-10 20:40:52</td>\n",
       "      <td>NaN</td>\n",
       "      <td>70000000.0</td>\n",
       "      <td>EARNEDINCOME</td>\n",
       "      <td>202204.0</td>\n",
       "      <td>계약직</td>\n",
       "      <td>자가</td>\n",
       "      <td>200000000.0</td>\n",
       "      <td>주택구입</td>\n",
       "      <td>0.0</td>\n",
       "      <td>NaN</td>\n",
       "      <td>NaN</td>\n",
       "      <td>NaN</td>\n",
       "    </tr>\n",
       "  </tbody>\n",
       "</table>\n",
       "<p>1394216 rows × 17 columns</p>\n",
       "</div>"
      ],
      "text/plain": [
       "         application_id  user_id  birth_year  gender         insert_time  \\\n",
       "1290534         1031304        1      2000.0     1.0 2022-05-03 14:51:00   \n",
       "1290535         1767402        1      2000.0     1.0 2022-05-03 14:53:33   \n",
       "971242          1096882        7      1985.0     1.0 2022-05-22 16:42:47   \n",
       "1150725          248576        9      1996.0     1.0 2022-05-21 23:41:09   \n",
       "355849          1180616       11      1997.0     1.0 2022-03-24 10:58:22   \n",
       "...                 ...      ...         ...     ...                 ...   \n",
       "691957          1889786   879694      1991.0     0.0 2022-03-31 20:17:31   \n",
       "1181092         1774704   879695      1996.0     1.0 2022-05-27 12:50:55   \n",
       "289906          2149910   879696      1997.0     1.0 2022-03-14 05:23:30   \n",
       "60175           1856758   879696      1997.0     1.0 2022-03-14 05:40:38   \n",
       "403673          1543548   879697      1962.0     1.0 2022-05-10 20:40:52   \n",
       "\n",
       "         credit_score  yearly_income    income_type  company_enter_month  \\\n",
       "1290534         750.0     20000000.0    OTHERINCOME                  NaN   \n",
       "1290535         750.0     20000000.0    OTHERINCOME                  NaN   \n",
       "971242          580.0     22000000.0  EARNEDINCOME2             201907.0   \n",
       "1150725         810.0     29000000.0   EARNEDINCOME             202201.0   \n",
       "355849          640.0     25000000.0   EARNEDINCOME             202106.0   \n",
       "...               ...            ...            ...                  ...   \n",
       "691957            NaN     39000000.0   EARNEDINCOME             201909.0   \n",
       "1181092           NaN     30000000.0  EARNEDINCOME2             202202.0   \n",
       "289906          610.0     37000000.0   EARNEDINCOME             202110.0   \n",
       "60175           610.0     37000000.0   EARNEDINCOME             202110.0   \n",
       "403673            NaN     70000000.0   EARNEDINCOME             202204.0   \n",
       "\n",
       "        employment_type houseown_type  desired_amount purpose  \\\n",
       "1290534              기타           전월세             0.0     생활비   \n",
       "1290535              기타           전월세       1000000.0     생활비   \n",
       "971242              계약직        기타가족소유      10000000.0     생활비   \n",
       "1150725             계약직        기타가족소유      15000000.0    사업자금   \n",
       "355849              정규직        기타가족소유       2000000.0     생활비   \n",
       "...                 ...           ...             ...     ...   \n",
       "691957              정규직           전월세      10000000.0     생활비   \n",
       "1181092             정규직           전월세      15000000.0    대환대출   \n",
       "289906              정규직           전월세      10000000.0     생활비   \n",
       "60175               정규직           전월세      10000000.0     생활비   \n",
       "403673              계약직            자가     200000000.0    주택구입   \n",
       "\n",
       "         personal_rehabilitation_yn  personal_rehabilitation_complete_yn  \\\n",
       "1290534                         0.0                                  NaN   \n",
       "1290535                         0.0                                  NaN   \n",
       "971242                          0.0                                  NaN   \n",
       "1150725                         0.0                                  NaN   \n",
       "355849                          NaN                                  NaN   \n",
       "...                             ...                                  ...   \n",
       "691957                          NaN                                  NaN   \n",
       "1181092                         0.0                                  0.0   \n",
       "289906                          NaN                                  NaN   \n",
       "60175                           NaN                                  NaN   \n",
       "403673                          0.0                                  NaN   \n",
       "\n",
       "         existing_loan_cnt  existing_loan_amt  \n",
       "1290534                1.0                NaN  \n",
       "1290535                1.0                NaN  \n",
       "971242                 7.0         46000000.0  \n",
       "1150725                1.0                NaN  \n",
       "355849                 1.0         14000000.0  \n",
       "...                    ...                ...  \n",
       "691957                 NaN                NaN  \n",
       "1181092                NaN                NaN  \n",
       "289906                 3.0         20000000.0  \n",
       "60175                  3.0         20000000.0  \n",
       "403673                 NaN                NaN  \n",
       "\n",
       "[1394216 rows x 17 columns]"
      ]
     },
     "execution_count": 23,
     "metadata": {},
     "output_type": "execute_result"
    }
   ],
   "source": [
    "user2.sort_values(['user_id','insert_time'])"
   ]
  },
  {
   "cell_type": "code",
   "execution_count": 24,
   "metadata": {
    "colab": {
     "base_uri": "https://localhost:8080/"
    },
    "executionInfo": {
     "elapsed": 739,
     "status": "ok",
     "timestamp": 1665493648529,
     "user": {
      "displayName": "강채리",
      "userId": "09528481703241706041"
     },
     "user_tz": -540
    },
    "id": "tO_q0nQQDz6B",
    "outputId": "7d1ed590-c27e-4437-9b6c-e94fc8a8d2ac"
   },
   "outputs": [
    {
     "data": {
      "text/plain": [
       "application_id                               0\n",
       "user_id                                      0\n",
       "birth_year                               10939\n",
       "gender                                   10939\n",
       "insert_time                                  0\n",
       "credit_score                             94143\n",
       "yearly_income                               71\n",
       "income_type                                 66\n",
       "company_enter_month                     136073\n",
       "employment_type                             66\n",
       "houseown_type                               66\n",
       "desired_amount                              66\n",
       "purpose                                     66\n",
       "personal_rehabilitation_yn              587461\n",
       "personal_rehabilitation_complete_yn    1203354\n",
       "existing_loan_cnt                       198556\n",
       "existing_loan_amt                       313774\n",
       "dtype: int64"
      ]
     },
     "execution_count": 24,
     "metadata": {},
     "output_type": "execute_result"
    }
   ],
   "source": [
    "user2.isna().sum()"
   ]
  },
  {
   "cell_type": "code",
   "execution_count": 25,
   "metadata": {
    "executionInfo": {
     "elapsed": 5146,
     "status": "ok",
     "timestamp": 1665493658506,
     "user": {
      "displayName": "강채리",
      "userId": "09528481703241706041"
     },
     "user_tz": -540
    },
    "id": "H-fVc3trCsYB"
   },
   "outputs": [],
   "source": [
    "user2['birth_year'] = user2.groupby('user_id')['birth_year'].ffill()\n",
    "\n",
    "user2['gender'] = user2.groupby('user_id')['gender'].ffill()\n",
    "\n",
    "user2['credit_score'] = user2.groupby('user_id')['credit_score'].ffill()\n",
    "\n",
    "user2['yearly_income'] = user2.groupby('user_id')['yearly_income'].ffill()\n",
    "\n",
    "user2['income_type'] = user2.groupby('user_id')['income_type'].ffill()\n",
    "\n",
    "user2['company_enter_month'] = user2.groupby('user_id')['company_enter_month'].ffill()\n",
    "\n",
    "user2['employment_type'] = user2.groupby('user_id')['employment_type'].ffill()\n",
    "\n",
    "user2['houseown_type'] = user2.groupby('user_id')['houseown_type'].ffill()\n",
    "\n",
    "user2['desired_amount'] = user2.groupby('user_id')['desired_amount'].ffill()\n",
    "\n",
    "user2['purpose'] = user2.groupby('user_id')['purpose'].ffill()\n",
    "\n",
    "user2['existing_loan_cnt'] = user2.groupby('user_id')['existing_loan_cnt'].ffill()\n",
    "\n",
    "user2['existing_loan_amt'] = user2.groupby('user_id')['existing_loan_amt'].ffill()"
   ]
  },
  {
   "cell_type": "code",
   "execution_count": 26,
   "metadata": {
    "colab": {
     "base_uri": "https://localhost:8080/"
    },
    "executionInfo": {
     "elapsed": 685,
     "status": "ok",
     "timestamp": 1665493683012,
     "user": {
      "displayName": "강채리",
      "userId": "09528481703241706041"
     },
     "user_tz": -540
    },
    "id": "ALEZLG0dCsac",
    "outputId": "e089823b-38f8-4de9-9e35-fcd97f0111dc"
   },
   "outputs": [
    {
     "data": {
      "text/plain": [
       "application_id                               0\n",
       "user_id                                      0\n",
       "birth_year                                9724\n",
       "gender                                    9724\n",
       "insert_time                                  0\n",
       "credit_score                             94143\n",
       "yearly_income                               28\n",
       "income_type                                 25\n",
       "company_enter_month                     123542\n",
       "employment_type                             25\n",
       "houseown_type                               25\n",
       "desired_amount                              25\n",
       "purpose                                     25\n",
       "personal_rehabilitation_yn              587461\n",
       "personal_rehabilitation_complete_yn    1203354\n",
       "existing_loan_cnt                       198556\n",
       "existing_loan_amt                       313774\n",
       "dtype: int64"
      ]
     },
     "execution_count": 26,
     "metadata": {},
     "output_type": "execute_result"
    }
   ],
   "source": [
    "user2.isna().sum()"
   ]
  },
  {
   "cell_type": "code",
   "execution_count": 27,
   "metadata": {
    "executionInfo": {
     "elapsed": 918,
     "status": "ok",
     "timestamp": 1665493712146,
     "user": {
      "displayName": "강채리",
      "userId": "09528481703241706041"
     },
     "user_tz": -540
    },
    "id": "WNu4PGT1Cscq"
   },
   "outputs": [],
   "source": [
    "user_train = user2.loc[user2['insert_time']<'2022-06-01'].sort_values('insert_time')\n",
    "user_test = user2.loc[user2['insert_time']>='2022-06-01'].sort_values('insert_time')"
   ]
  },
  {
   "cell_type": "markdown",
   "metadata": {
    "id": "N1ctx9CfiN2a"
   },
   "source": [
    "# train 끼리, test끼리 합치기"
   ]
  },
  {
   "cell_type": "code",
   "execution_count": 28,
   "metadata": {
    "executionInfo": {
     "elapsed": 5675,
     "status": "ok",
     "timestamp": 1665493718320,
     "user": {
      "displayName": "강채리",
      "userId": "09528481703241706041"
     },
     "user_tz": -540
    },
    "id": "2-O7MFzaiQeq"
   },
   "outputs": [],
   "source": [
    "train  = pd.merge(loan_train, user_train, on='application_id', how='left')\n"
   ]
  },
  {
   "cell_type": "code",
   "execution_count": 29,
   "metadata": {
    "executionInfo": {
     "elapsed": 1899,
     "status": "ok",
     "timestamp": 1665493720216,
     "user": {
      "displayName": "강채리",
      "userId": "09528481703241706041"
     },
     "user_tz": -540
    },
    "id": "P2dbJ9jeiQlS"
   },
   "outputs": [],
   "source": [
    "test  = pd.merge(loan_test, user_test, on='application_id', how='left')"
   ]
  },
  {
   "cell_type": "code",
   "execution_count": 30,
   "metadata": {
    "colab": {
     "base_uri": "https://localhost:8080/"
    },
    "executionInfo": {
     "elapsed": 5,
     "status": "ok",
     "timestamp": 1665493720217,
     "user": {
      "displayName": "강채리",
      "userId": "09528481703241706041"
     },
     "user_tz": -540
    },
    "id": "ui0nYrlPi5L7",
    "outputId": "bed900e7-a19a-430c-aa42-ccb619d76dff"
   },
   "outputs": [
    {
     "name": "stdout",
     "output_type": "stream",
     "text": [
      "train shape: (10264386, 23)\n",
      "test shape: (3255482, 23)\n"
     ]
    }
   ],
   "source": [
    "print('train shape:', train.shape)\n",
    "print('test shape:', test.shape)"
   ]
  },
  {
   "cell_type": "code",
   "execution_count": 31,
   "metadata": {
    "colab": {
     "base_uri": "https://localhost:8080/"
    },
    "executionInfo": {
     "elapsed": 1739,
     "status": "ok",
     "timestamp": 1665493721953,
     "user": {
      "displayName": "강채리",
      "userId": "09528481703241706041"
     },
     "user_tz": -540
    },
    "id": "88wAE7F0i5N6",
    "outputId": "bf0d982a-a293-4a4f-e5e3-2ac01e22159a"
   },
   "outputs": [
    {
     "data": {
      "text/plain": [
       "application_id                               0\n",
       "loanapply_insert_time                        0\n",
       "bank_id                                      0\n",
       "product_id                                   0\n",
       "loan_limit                                   0\n",
       "loan_rate                                    0\n",
       "is_applied                                   0\n",
       "user_id                                      0\n",
       "birth_year                               76988\n",
       "gender                                   76988\n",
       "insert_time                                  0\n",
       "credit_score                           1111078\n",
       "yearly_income                                0\n",
       "income_type                                  0\n",
       "company_enter_month                     239741\n",
       "employment_type                              0\n",
       "houseown_type                                0\n",
       "desired_amount                               0\n",
       "purpose                                      0\n",
       "personal_rehabilitation_yn             5870447\n",
       "personal_rehabilitation_complete_yn    9227205\n",
       "existing_loan_cnt                      2143050\n",
       "existing_loan_amt                      3043012\n",
       "dtype: int64"
      ]
     },
     "execution_count": 31,
     "metadata": {},
     "output_type": "execute_result"
    }
   ],
   "source": [
    "train.isna().sum()"
   ]
  },
  {
   "cell_type": "code",
   "execution_count": 32,
   "metadata": {
    "colab": {
     "base_uri": "https://localhost:8080/"
    },
    "executionInfo": {
     "elapsed": 5,
     "status": "ok",
     "timestamp": 1665493721953,
     "user": {
      "displayName": "강채리",
      "userId": "09528481703241706041"
     },
     "user_tz": -540
    },
    "id": "wEAlj-q1i5Q1",
    "outputId": "295b5a51-240a-438b-b005-baf4dd8aa0e5"
   },
   "outputs": [
    {
     "data": {
      "text/plain": [
       "application_id                               0\n",
       "loanapply_insert_time                        0\n",
       "bank_id                                      0\n",
       "product_id                                   0\n",
       "loan_limit                                   0\n",
       "loan_rate                                    0\n",
       "is_applied                             3255482\n",
       "user_id                                      0\n",
       "birth_year                               30815\n",
       "gender                                   30815\n",
       "insert_time                                  0\n",
       "credit_score                            265321\n",
       "yearly_income                                6\n",
       "income_type                                  0\n",
       "company_enter_month                      80112\n",
       "employment_type                              0\n",
       "houseown_type                                0\n",
       "desired_amount                               0\n",
       "purpose                                      0\n",
       "personal_rehabilitation_yn               15463\n",
       "personal_rehabilitation_complete_yn    2560283\n",
       "existing_loan_cnt                       541673\n",
       "existing_loan_amt                       845706\n",
       "dtype: int64"
      ]
     },
     "execution_count": 32,
     "metadata": {},
     "output_type": "execute_result"
    }
   ],
   "source": [
    "test.isna().sum()"
   ]
  },
  {
   "cell_type": "markdown",
   "metadata": {
    "id": "zZp1kUQtEho-"
   },
   "source": [
    "# 반올림 변수들 0 -> 범위의 중간값으로\n",
    "\n",
    "\n",
    "> yearly_income, desired_amount, existing_loan_amt: 50만\n",
    "\n",
    "> loan_limit도 데이터 설명서와 다르게 실제 데이터는 50만이 적절해보임."
   ]
  },
  {
   "cell_type": "code",
   "execution_count": 33,
   "metadata": {
    "colab": {
     "base_uri": "https://localhost:8080/",
     "height": 300
    },
    "executionInfo": {
     "elapsed": 6003,
     "status": "ok",
     "timestamp": 1665493791409,
     "user": {
      "displayName": "강채리",
      "userId": "09528481703241706041"
     },
     "user_tz": -540
    },
    "id": "7Mh8pdrHKejN",
    "outputId": "4293ae28-2f79-40c2-e41f-9a9451a2c72a"
   },
   "outputs": [
    {
     "data": {
      "text/html": [
       "<div>\n",
       "<style scoped>\n",
       "    .dataframe tbody tr th:only-of-type {\n",
       "        vertical-align: middle;\n",
       "    }\n",
       "\n",
       "    .dataframe tbody tr th {\n",
       "        vertical-align: top;\n",
       "    }\n",
       "\n",
       "    .dataframe thead th {\n",
       "        text-align: right;\n",
       "    }\n",
       "</style>\n",
       "<table border=\"1\" class=\"dataframe\">\n",
       "  <thead>\n",
       "    <tr style=\"text-align: right;\">\n",
       "      <th></th>\n",
       "      <th>yearly_income</th>\n",
       "      <th>desired_amount</th>\n",
       "      <th>existing_loan_amt</th>\n",
       "      <th>loan_limit</th>\n",
       "    </tr>\n",
       "  </thead>\n",
       "  <tbody>\n",
       "    <tr>\n",
       "      <th>count</th>\n",
       "      <td>1.026439e+07</td>\n",
       "      <td>1.026439e+07</td>\n",
       "      <td>7.221374e+06</td>\n",
       "      <td>1.026439e+07</td>\n",
       "    </tr>\n",
       "    <tr>\n",
       "      <th>mean</th>\n",
       "      <td>4.792393e+07</td>\n",
       "      <td>5.160682e+07</td>\n",
       "      <td>8.168324e+07</td>\n",
       "      <td>2.260828e+07</td>\n",
       "    </tr>\n",
       "    <tr>\n",
       "      <th>std</th>\n",
       "      <td>1.318979e+08</td>\n",
       "      <td>2.323845e+08</td>\n",
       "      <td>9.825311e+07</td>\n",
       "      <td>2.230741e+07</td>\n",
       "    </tr>\n",
       "    <tr>\n",
       "      <th>min</th>\n",
       "      <td>0.000000e+00</td>\n",
       "      <td>0.000000e+00</td>\n",
       "      <td>0.000000e+00</td>\n",
       "      <td>0.000000e+00</td>\n",
       "    </tr>\n",
       "    <tr>\n",
       "      <th>25%</th>\n",
       "      <td>2.900000e+07</td>\n",
       "      <td>1.000000e+07</td>\n",
       "      <td>2.500000e+07</td>\n",
       "      <td>9.000000e+06</td>\n",
       "    </tr>\n",
       "    <tr>\n",
       "      <th>50%</th>\n",
       "      <td>3.600000e+07</td>\n",
       "      <td>2.800000e+07</td>\n",
       "      <td>4.900000e+07</td>\n",
       "      <td>1.800000e+07</td>\n",
       "    </tr>\n",
       "    <tr>\n",
       "      <th>75%</th>\n",
       "      <td>5.000000e+07</td>\n",
       "      <td>5.000000e+07</td>\n",
       "      <td>9.700000e+07</td>\n",
       "      <td>3.300000e+07</td>\n",
       "    </tr>\n",
       "    <tr>\n",
       "      <th>max</th>\n",
       "      <td>1.000000e+10</td>\n",
       "      <td>1.000000e+10</td>\n",
       "      <td>7.512000e+09</td>\n",
       "      <td>1.000000e+10</td>\n",
       "    </tr>\n",
       "  </tbody>\n",
       "</table>\n",
       "</div>"
      ],
      "text/plain": [
       "       yearly_income  desired_amount  existing_loan_amt    loan_limit\n",
       "count   1.026439e+07    1.026439e+07       7.221374e+06  1.026439e+07\n",
       "mean    4.792393e+07    5.160682e+07       8.168324e+07  2.260828e+07\n",
       "std     1.318979e+08    2.323845e+08       9.825311e+07  2.230741e+07\n",
       "min     0.000000e+00    0.000000e+00       0.000000e+00  0.000000e+00\n",
       "25%     2.900000e+07    1.000000e+07       2.500000e+07  9.000000e+06\n",
       "50%     3.600000e+07    2.800000e+07       4.900000e+07  1.800000e+07\n",
       "75%     5.000000e+07    5.000000e+07       9.700000e+07  3.300000e+07\n",
       "max     1.000000e+10    1.000000e+10       7.512000e+09  1.000000e+10"
      ]
     },
     "execution_count": 33,
     "metadata": {},
     "output_type": "execute_result"
    }
   ],
   "source": [
    "train[['yearly_income','desired_amount','existing_loan_amt','loan_limit']].describe()"
   ]
  },
  {
   "cell_type": "code",
   "execution_count": 34,
   "metadata": {
    "colab": {
     "base_uri": "https://localhost:8080/",
     "height": 488
    },
    "executionInfo": {
     "elapsed": 3342,
     "status": "ok",
     "timestamp": 1665492944168,
     "user": {
      "displayName": "강채리",
      "userId": "09528481703241706041"
     },
     "user_tz": -540
    },
    "id": "nMwuwQfhHVGC",
    "outputId": "f468523f-c28d-40a0-c904-4c92923ae9d5"
   },
   "outputs": [
    {
     "data": {
      "text/html": [
       "<div>\n",
       "<style scoped>\n",
       "    .dataframe tbody tr th:only-of-type {\n",
       "        vertical-align: middle;\n",
       "    }\n",
       "\n",
       "    .dataframe tbody tr th {\n",
       "        vertical-align: top;\n",
       "    }\n",
       "\n",
       "    .dataframe thead th {\n",
       "        text-align: right;\n",
       "    }\n",
       "</style>\n",
       "<table border=\"1\" class=\"dataframe\">\n",
       "  <thead>\n",
       "    <tr style=\"text-align: right;\">\n",
       "      <th></th>\n",
       "      <th>application_id</th>\n",
       "      <th>loanapply_insert_time</th>\n",
       "      <th>bank_id</th>\n",
       "      <th>product_id</th>\n",
       "      <th>loan_limit</th>\n",
       "      <th>loan_rate</th>\n",
       "      <th>is_applied</th>\n",
       "      <th>user_id</th>\n",
       "      <th>birth_year</th>\n",
       "      <th>gender</th>\n",
       "      <th>...</th>\n",
       "      <th>income_type</th>\n",
       "      <th>company_enter_month</th>\n",
       "      <th>employment_type</th>\n",
       "      <th>houseown_type</th>\n",
       "      <th>desired_amount</th>\n",
       "      <th>purpose</th>\n",
       "      <th>personal_rehabilitation_yn</th>\n",
       "      <th>personal_rehabilitation_complete_yn</th>\n",
       "      <th>existing_loan_cnt</th>\n",
       "      <th>existing_loan_amt</th>\n",
       "    </tr>\n",
       "  </thead>\n",
       "  <tbody>\n",
       "    <tr>\n",
       "      <th>3037</th>\n",
       "      <td>1155479</td>\n",
       "      <td>2022-03-01 01:19:19</td>\n",
       "      <td>13</td>\n",
       "      <td>262</td>\n",
       "      <td>3000000.0</td>\n",
       "      <td>16.6</td>\n",
       "      <td>0.0</td>\n",
       "      <td>467460</td>\n",
       "      <td>1998.0</td>\n",
       "      <td>1.0</td>\n",
       "      <td>...</td>\n",
       "      <td>OTHERINCOME</td>\n",
       "      <td>NaN</td>\n",
       "      <td>기타</td>\n",
       "      <td>기타가족소유</td>\n",
       "      <td>10000000.0</td>\n",
       "      <td>생활비</td>\n",
       "      <td>NaN</td>\n",
       "      <td>NaN</td>\n",
       "      <td>2.0</td>\n",
       "      <td>6000000.0</td>\n",
       "    </tr>\n",
       "    <tr>\n",
       "      <th>3038</th>\n",
       "      <td>1155479</td>\n",
       "      <td>2022-03-01 01:19:20</td>\n",
       "      <td>15</td>\n",
       "      <td>204</td>\n",
       "      <td>5000000.0</td>\n",
       "      <td>15.0</td>\n",
       "      <td>0.0</td>\n",
       "      <td>467460</td>\n",
       "      <td>1998.0</td>\n",
       "      <td>1.0</td>\n",
       "      <td>...</td>\n",
       "      <td>OTHERINCOME</td>\n",
       "      <td>NaN</td>\n",
       "      <td>기타</td>\n",
       "      <td>기타가족소유</td>\n",
       "      <td>10000000.0</td>\n",
       "      <td>생활비</td>\n",
       "      <td>NaN</td>\n",
       "      <td>NaN</td>\n",
       "      <td>2.0</td>\n",
       "      <td>6000000.0</td>\n",
       "    </tr>\n",
       "    <tr>\n",
       "      <th>3039</th>\n",
       "      <td>1155479</td>\n",
       "      <td>2022-03-01 01:19:20</td>\n",
       "      <td>14</td>\n",
       "      <td>197</td>\n",
       "      <td>3000000.0</td>\n",
       "      <td>16.9</td>\n",
       "      <td>0.0</td>\n",
       "      <td>467460</td>\n",
       "      <td>1998.0</td>\n",
       "      <td>1.0</td>\n",
       "      <td>...</td>\n",
       "      <td>OTHERINCOME</td>\n",
       "      <td>NaN</td>\n",
       "      <td>기타</td>\n",
       "      <td>기타가족소유</td>\n",
       "      <td>10000000.0</td>\n",
       "      <td>생활비</td>\n",
       "      <td>NaN</td>\n",
       "      <td>NaN</td>\n",
       "      <td>2.0</td>\n",
       "      <td>6000000.0</td>\n",
       "    </tr>\n",
       "    <tr>\n",
       "      <th>3040</th>\n",
       "      <td>1155479</td>\n",
       "      <td>2022-03-01 01:19:20</td>\n",
       "      <td>34</td>\n",
       "      <td>239</td>\n",
       "      <td>3000000.0</td>\n",
       "      <td>16.9</td>\n",
       "      <td>0.0</td>\n",
       "      <td>467460</td>\n",
       "      <td>1998.0</td>\n",
       "      <td>1.0</td>\n",
       "      <td>...</td>\n",
       "      <td>OTHERINCOME</td>\n",
       "      <td>NaN</td>\n",
       "      <td>기타</td>\n",
       "      <td>기타가족소유</td>\n",
       "      <td>10000000.0</td>\n",
       "      <td>생활비</td>\n",
       "      <td>NaN</td>\n",
       "      <td>NaN</td>\n",
       "      <td>2.0</td>\n",
       "      <td>6000000.0</td>\n",
       "    </tr>\n",
       "    <tr>\n",
       "      <th>3772</th>\n",
       "      <td>847721</td>\n",
       "      <td>2022-03-01 01:40:21</td>\n",
       "      <td>19</td>\n",
       "      <td>231</td>\n",
       "      <td>10000000.0</td>\n",
       "      <td>15.0</td>\n",
       "      <td>0.0</td>\n",
       "      <td>877378</td>\n",
       "      <td>1987.0</td>\n",
       "      <td>0.0</td>\n",
       "      <td>...</td>\n",
       "      <td>FREELANCER</td>\n",
       "      <td>201601.0</td>\n",
       "      <td>기타</td>\n",
       "      <td>기타가족소유</td>\n",
       "      <td>20000000.0</td>\n",
       "      <td>사업자금</td>\n",
       "      <td>NaN</td>\n",
       "      <td>NaN</td>\n",
       "      <td>1.0</td>\n",
       "      <td>20000000.0</td>\n",
       "    </tr>\n",
       "    <tr>\n",
       "      <th>...</th>\n",
       "      <td>...</td>\n",
       "      <td>...</td>\n",
       "      <td>...</td>\n",
       "      <td>...</td>\n",
       "      <td>...</td>\n",
       "      <td>...</td>\n",
       "      <td>...</td>\n",
       "      <td>...</td>\n",
       "      <td>...</td>\n",
       "      <td>...</td>\n",
       "      <td>...</td>\n",
       "      <td>...</td>\n",
       "      <td>...</td>\n",
       "      <td>...</td>\n",
       "      <td>...</td>\n",
       "      <td>...</td>\n",
       "      <td>...</td>\n",
       "      <td>...</td>\n",
       "      <td>...</td>\n",
       "      <td>...</td>\n",
       "      <td>...</td>\n",
       "    </tr>\n",
       "    <tr>\n",
       "      <th>10250798</th>\n",
       "      <td>1780985</td>\n",
       "      <td>2022-05-31 20:18:35</td>\n",
       "      <td>64</td>\n",
       "      <td>254</td>\n",
       "      <td>32000000.0</td>\n",
       "      <td>9.9</td>\n",
       "      <td>0.0</td>\n",
       "      <td>455299</td>\n",
       "      <td>1991.0</td>\n",
       "      <td>0.0</td>\n",
       "      <td>...</td>\n",
       "      <td>OTHERINCOME</td>\n",
       "      <td>NaN</td>\n",
       "      <td>기타</td>\n",
       "      <td>기타가족소유</td>\n",
       "      <td>10000000.0</td>\n",
       "      <td>생활비</td>\n",
       "      <td>0.0</td>\n",
       "      <td>0.0</td>\n",
       "      <td>NaN</td>\n",
       "      <td>NaN</td>\n",
       "    </tr>\n",
       "    <tr>\n",
       "      <th>10250799</th>\n",
       "      <td>1780985</td>\n",
       "      <td>2022-05-31 20:18:35</td>\n",
       "      <td>15</td>\n",
       "      <td>204</td>\n",
       "      <td>14000000.0</td>\n",
       "      <td>14.3</td>\n",
       "      <td>0.0</td>\n",
       "      <td>455299</td>\n",
       "      <td>1991.0</td>\n",
       "      <td>0.0</td>\n",
       "      <td>...</td>\n",
       "      <td>OTHERINCOME</td>\n",
       "      <td>NaN</td>\n",
       "      <td>기타</td>\n",
       "      <td>기타가족소유</td>\n",
       "      <td>10000000.0</td>\n",
       "      <td>생활비</td>\n",
       "      <td>0.0</td>\n",
       "      <td>0.0</td>\n",
       "      <td>NaN</td>\n",
       "      <td>NaN</td>\n",
       "    </tr>\n",
       "    <tr>\n",
       "      <th>10262409</th>\n",
       "      <td>1961049</td>\n",
       "      <td>2022-05-31 23:08:19</td>\n",
       "      <td>14</td>\n",
       "      <td>197</td>\n",
       "      <td>3000000.0</td>\n",
       "      <td>15.8</td>\n",
       "      <td>0.0</td>\n",
       "      <td>311776</td>\n",
       "      <td>1996.0</td>\n",
       "      <td>1.0</td>\n",
       "      <td>...</td>\n",
       "      <td>OTHERINCOME</td>\n",
       "      <td>NaN</td>\n",
       "      <td>기타</td>\n",
       "      <td>기타가족소유</td>\n",
       "      <td>100000000.0</td>\n",
       "      <td>주택구입</td>\n",
       "      <td>0.0</td>\n",
       "      <td>NaN</td>\n",
       "      <td>1.0</td>\n",
       "      <td>NaN</td>\n",
       "    </tr>\n",
       "    <tr>\n",
       "      <th>10262410</th>\n",
       "      <td>1961049</td>\n",
       "      <td>2022-05-31 23:08:19</td>\n",
       "      <td>1</td>\n",
       "      <td>61</td>\n",
       "      <td>20000000.0</td>\n",
       "      <td>13.9</td>\n",
       "      <td>0.0</td>\n",
       "      <td>311776</td>\n",
       "      <td>1996.0</td>\n",
       "      <td>1.0</td>\n",
       "      <td>...</td>\n",
       "      <td>OTHERINCOME</td>\n",
       "      <td>NaN</td>\n",
       "      <td>기타</td>\n",
       "      <td>기타가족소유</td>\n",
       "      <td>100000000.0</td>\n",
       "      <td>주택구입</td>\n",
       "      <td>0.0</td>\n",
       "      <td>NaN</td>\n",
       "      <td>1.0</td>\n",
       "      <td>NaN</td>\n",
       "    </tr>\n",
       "    <tr>\n",
       "      <th>10262411</th>\n",
       "      <td>1961049</td>\n",
       "      <td>2022-05-31 23:08:19</td>\n",
       "      <td>29</td>\n",
       "      <td>265</td>\n",
       "      <td>3000000.0</td>\n",
       "      <td>12.5</td>\n",
       "      <td>0.0</td>\n",
       "      <td>311776</td>\n",
       "      <td>1996.0</td>\n",
       "      <td>1.0</td>\n",
       "      <td>...</td>\n",
       "      <td>OTHERINCOME</td>\n",
       "      <td>NaN</td>\n",
       "      <td>기타</td>\n",
       "      <td>기타가족소유</td>\n",
       "      <td>100000000.0</td>\n",
       "      <td>주택구입</td>\n",
       "      <td>0.0</td>\n",
       "      <td>NaN</td>\n",
       "      <td>1.0</td>\n",
       "      <td>NaN</td>\n",
       "    </tr>\n",
       "  </tbody>\n",
       "</table>\n",
       "<p>28538 rows × 23 columns</p>\n",
       "</div>"
      ],
      "text/plain": [
       "          application_id loanapply_insert_time  bank_id  product_id  \\\n",
       "3037             1155479   2022-03-01 01:19:19       13         262   \n",
       "3038             1155479   2022-03-01 01:19:20       15         204   \n",
       "3039             1155479   2022-03-01 01:19:20       14         197   \n",
       "3040             1155479   2022-03-01 01:19:20       34         239   \n",
       "3772              847721   2022-03-01 01:40:21       19         231   \n",
       "...                  ...                   ...      ...         ...   \n",
       "10250798         1780985   2022-05-31 20:18:35       64         254   \n",
       "10250799         1780985   2022-05-31 20:18:35       15         204   \n",
       "10262409         1961049   2022-05-31 23:08:19       14         197   \n",
       "10262410         1961049   2022-05-31 23:08:19        1          61   \n",
       "10262411         1961049   2022-05-31 23:08:19       29         265   \n",
       "\n",
       "          loan_limit  loan_rate  is_applied  user_id  birth_year  gender  ...  \\\n",
       "3037       3000000.0       16.6         0.0   467460      1998.0     1.0  ...   \n",
       "3038       5000000.0       15.0         0.0   467460      1998.0     1.0  ...   \n",
       "3039       3000000.0       16.9         0.0   467460      1998.0     1.0  ...   \n",
       "3040       3000000.0       16.9         0.0   467460      1998.0     1.0  ...   \n",
       "3772      10000000.0       15.0         0.0   877378      1987.0     0.0  ...   \n",
       "...              ...        ...         ...      ...         ...     ...  ...   \n",
       "10250798  32000000.0        9.9         0.0   455299      1991.0     0.0  ...   \n",
       "10250799  14000000.0       14.3         0.0   455299      1991.0     0.0  ...   \n",
       "10262409   3000000.0       15.8         0.0   311776      1996.0     1.0  ...   \n",
       "10262410  20000000.0       13.9         0.0   311776      1996.0     1.0  ...   \n",
       "10262411   3000000.0       12.5         0.0   311776      1996.0     1.0  ...   \n",
       "\n",
       "          income_type  company_enter_month  employment_type houseown_type  \\\n",
       "3037      OTHERINCOME                  NaN               기타        기타가족소유   \n",
       "3038      OTHERINCOME                  NaN               기타        기타가족소유   \n",
       "3039      OTHERINCOME                  NaN               기타        기타가족소유   \n",
       "3040      OTHERINCOME                  NaN               기타        기타가족소유   \n",
       "3772       FREELANCER             201601.0               기타        기타가족소유   \n",
       "...               ...                  ...              ...           ...   \n",
       "10250798  OTHERINCOME                  NaN               기타        기타가족소유   \n",
       "10250799  OTHERINCOME                  NaN               기타        기타가족소유   \n",
       "10262409  OTHERINCOME                  NaN               기타        기타가족소유   \n",
       "10262410  OTHERINCOME                  NaN               기타        기타가족소유   \n",
       "10262411  OTHERINCOME                  NaN               기타        기타가족소유   \n",
       "\n",
       "          desired_amount purpose personal_rehabilitation_yn  \\\n",
       "3037          10000000.0     생활비                        NaN   \n",
       "3038          10000000.0     생활비                        NaN   \n",
       "3039          10000000.0     생활비                        NaN   \n",
       "3040          10000000.0     생활비                        NaN   \n",
       "3772          20000000.0    사업자금                        NaN   \n",
       "...                  ...     ...                        ...   \n",
       "10250798      10000000.0     생활비                        0.0   \n",
       "10250799      10000000.0     생활비                        0.0   \n",
       "10262409     100000000.0    주택구입                        0.0   \n",
       "10262410     100000000.0    주택구입                        0.0   \n",
       "10262411     100000000.0    주택구입                        0.0   \n",
       "\n",
       "          personal_rehabilitation_complete_yn existing_loan_cnt  \\\n",
       "3037                                      NaN               2.0   \n",
       "3038                                      NaN               2.0   \n",
       "3039                                      NaN               2.0   \n",
       "3040                                      NaN               2.0   \n",
       "3772                                      NaN               1.0   \n",
       "...                                       ...               ...   \n",
       "10250798                                  0.0               NaN   \n",
       "10250799                                  0.0               NaN   \n",
       "10262409                                  NaN               1.0   \n",
       "10262410                                  NaN               1.0   \n",
       "10262411                                  NaN               1.0   \n",
       "\n",
       "          existing_loan_amt  \n",
       "3037              6000000.0  \n",
       "3038              6000000.0  \n",
       "3039              6000000.0  \n",
       "3040              6000000.0  \n",
       "3772             20000000.0  \n",
       "...                     ...  \n",
       "10250798                NaN  \n",
       "10250799                NaN  \n",
       "10262409                NaN  \n",
       "10262410                NaN  \n",
       "10262411                NaN  \n",
       "\n",
       "[28538 rows x 23 columns]"
      ]
     },
     "execution_count": 34,
     "metadata": {},
     "output_type": "execute_result"
    }
   ],
   "source": [
    "train.loc[train['yearly_income'] == 0]"
   ]
  },
  {
   "cell_type": "code",
   "execution_count": 35,
   "metadata": {
    "executionInfo": {
     "elapsed": 632,
     "status": "ok",
     "timestamp": 1665493807881,
     "user": {
      "displayName": "강채리",
      "userId": "09528481703241706041"
     },
     "user_tz": -540
    },
    "id": "Xela4gZ2xgHk"
   },
   "outputs": [],
   "source": [
    "train.loc[train['yearly_income'] == 0, 'yearly_income'] = 500000\n",
    "test.loc[test['yearly_income'] == 0, 'yearly_income'] = 500000\n",
    "\n",
    "train.loc[train['desired_amount'] == 0, 'desired_amount'] = 500000\n",
    "test.loc[test['desired_amount'] == 0, 'desired_amount'] = 500000\n",
    "\n",
    "train.loc[train['existing_loan_amt'] == 0, 'existing_loan_amt'] = 500000\n",
    "test.loc[test['existing_loan_amt'] == 0, 'existing_loan_amt'] = 500000\n",
    "\n",
    "train.loc[train['loan_limit'] == 0, 'loan_limit'] = 500000\n",
    "test.loc[test['loan_limit'] == 0, 'loan_limit'] = 500000"
   ]
  },
  {
   "cell_type": "code",
   "execution_count": 36,
   "metadata": {
    "colab": {
     "base_uri": "https://localhost:8080/",
     "height": 143
    },
    "executionInfo": {
     "elapsed": 5,
     "status": "ok",
     "timestamp": 1665493079080,
     "user": {
      "displayName": "강채리",
      "userId": "09528481703241706041"
     },
     "user_tz": -540
    },
    "id": "oMQdUdvbxgMS",
    "outputId": "7a77036d-6690-48d9-b8f0-5216d9100eed"
   },
   "outputs": [
    {
     "data": {
      "text/html": [
       "<div>\n",
       "<style scoped>\n",
       "    .dataframe tbody tr th:only-of-type {\n",
       "        vertical-align: middle;\n",
       "    }\n",
       "\n",
       "    .dataframe tbody tr th {\n",
       "        vertical-align: top;\n",
       "    }\n",
       "\n",
       "    .dataframe thead th {\n",
       "        text-align: right;\n",
       "    }\n",
       "</style>\n",
       "<table border=\"1\" class=\"dataframe\">\n",
       "  <thead>\n",
       "    <tr style=\"text-align: right;\">\n",
       "      <th></th>\n",
       "      <th>application_id</th>\n",
       "      <th>loanapply_insert_time</th>\n",
       "      <th>bank_id</th>\n",
       "      <th>product_id</th>\n",
       "      <th>loan_limit</th>\n",
       "      <th>loan_rate</th>\n",
       "      <th>is_applied</th>\n",
       "      <th>user_id</th>\n",
       "      <th>birth_year</th>\n",
       "      <th>gender</th>\n",
       "      <th>...</th>\n",
       "      <th>income_type</th>\n",
       "      <th>company_enter_month</th>\n",
       "      <th>employment_type</th>\n",
       "      <th>houseown_type</th>\n",
       "      <th>desired_amount</th>\n",
       "      <th>purpose</th>\n",
       "      <th>personal_rehabilitation_yn</th>\n",
       "      <th>personal_rehabilitation_complete_yn</th>\n",
       "      <th>existing_loan_cnt</th>\n",
       "      <th>existing_loan_amt</th>\n",
       "    </tr>\n",
       "  </thead>\n",
       "  <tbody>\n",
       "  </tbody>\n",
       "</table>\n",
       "<p>0 rows × 23 columns</p>\n",
       "</div>"
      ],
      "text/plain": [
       "Empty DataFrame\n",
       "Columns: [application_id, loanapply_insert_time, bank_id, product_id, loan_limit, loan_rate, is_applied, user_id, birth_year, gender, insert_time, credit_score, yearly_income, income_type, company_enter_month, employment_type, houseown_type, desired_amount, purpose, personal_rehabilitation_yn, personal_rehabilitation_complete_yn, existing_loan_cnt, existing_loan_amt]\n",
       "Index: []\n",
       "\n",
       "[0 rows x 23 columns]"
      ]
     },
     "execution_count": 36,
     "metadata": {},
     "output_type": "execute_result"
    }
   ],
   "source": [
    "train.loc[(train['yearly_income']==0) | (train['desired_amount']==0) | (train['existing_loan_amt']==0) | (train['loan_limit']==0)]"
   ]
  },
  {
   "cell_type": "code",
   "execution_count": 37,
   "metadata": {
    "colab": {
     "base_uri": "https://localhost:8080/"
    },
    "executionInfo": {
     "elapsed": 527,
     "status": "ok",
     "timestamp": 1665493847722,
     "user": {
      "displayName": "강채리",
      "userId": "09528481703241706041"
     },
     "user_tz": -540
    },
    "id": "qzchniK0HsFO",
    "outputId": "280f162c-15a7-43c8-8acf-a6b57b746786"
   },
   "outputs": [
    {
     "name": "stdout",
     "output_type": "stream",
     "text": [
      "train: (10264386, 23)\n",
      "test: (3255482, 23)\n"
     ]
    }
   ],
   "source": [
    "print('train:', train.shape)\n",
    "print('test:', test.shape)"
   ]
  },
  {
   "cell_type": "code",
   "execution_count": 38,
   "metadata": {
    "colab": {
     "base_uri": "https://localhost:8080/"
    },
    "executionInfo": {
     "elapsed": 3780,
     "status": "ok",
     "timestamp": 1665493109582,
     "user": {
      "displayName": "강채리",
      "userId": "09528481703241706041"
     },
     "user_tz": -540
    },
    "id": "EbAuVT7CHwu_",
    "outputId": "de9f7d06-ab2f-4437-c72c-b6c96bd77dc3"
   },
   "outputs": [
    {
     "data": {
      "text/plain": [
       "application_id                               0\n",
       "loanapply_insert_time                        0\n",
       "bank_id                                      0\n",
       "product_id                                   0\n",
       "loan_limit                                   0\n",
       "loan_rate                                    0\n",
       "is_applied                                   0\n",
       "user_id                                      0\n",
       "birth_year                               76988\n",
       "gender                                   76988\n",
       "insert_time                                  0\n",
       "credit_score                           1111078\n",
       "yearly_income                                0\n",
       "income_type                                  0\n",
       "company_enter_month                     239741\n",
       "employment_type                              0\n",
       "houseown_type                                0\n",
       "desired_amount                               0\n",
       "purpose                                      0\n",
       "personal_rehabilitation_yn             5870447\n",
       "personal_rehabilitation_complete_yn    9227205\n",
       "existing_loan_cnt                      2143050\n",
       "existing_loan_amt                      3043012\n",
       "dtype: int64"
      ]
     },
     "execution_count": 38,
     "metadata": {},
     "output_type": "execute_result"
    }
   ],
   "source": [
    "train.isna().sum()"
   ]
  },
  {
   "cell_type": "code",
   "execution_count": 39,
   "metadata": {
    "colab": {
     "base_uri": "https://localhost:8080/"
    },
    "executionInfo": {
     "elapsed": 1023,
     "status": "ok",
     "timestamp": 1665493113246,
     "user": {
      "displayName": "강채리",
      "userId": "09528481703241706041"
     },
     "user_tz": -540
    },
    "id": "7eDbYrCJH_eV",
    "outputId": "34b1c11f-cc52-45b2-c7a1-3aa6b74fd059"
   },
   "outputs": [
    {
     "data": {
      "text/plain": [
       "application_id                               0\n",
       "loanapply_insert_time                        0\n",
       "bank_id                                      0\n",
       "product_id                                   0\n",
       "loan_limit                                   0\n",
       "loan_rate                                    0\n",
       "is_applied                             3255482\n",
       "user_id                                      0\n",
       "birth_year                               30815\n",
       "gender                                   30815\n",
       "insert_time                                  0\n",
       "credit_score                            265321\n",
       "yearly_income                                6\n",
       "income_type                                  0\n",
       "company_enter_month                      80112\n",
       "employment_type                              0\n",
       "houseown_type                                0\n",
       "desired_amount                               0\n",
       "purpose                                      0\n",
       "personal_rehabilitation_yn               15463\n",
       "personal_rehabilitation_complete_yn    2560283\n",
       "existing_loan_cnt                       541673\n",
       "existing_loan_amt                       845706\n",
       "dtype: int64"
      ]
     },
     "execution_count": 39,
     "metadata": {},
     "output_type": "execute_result"
    }
   ],
   "source": [
    "test.isna().sum()"
   ]
  },
  {
   "cell_type": "code",
   "execution_count": 40,
   "metadata": {
    "executionInfo": {
     "elapsed": 167850,
     "status": "ok",
     "timestamp": 1665494155428,
     "user": {
      "displayName": "강채리",
      "userId": "09528481703241706041"
     },
     "user_tz": -540
    },
    "id": "jrGEkbp0IAv_"
   },
   "outputs": [],
   "source": [
    "train.to_csv('/Users/baeknarim/데이터분석분야_퓨처스부문_포포나무팀/추가제출파일/DATA/전처리데이터/전처리DATA/train_test전처리1/train_1011_1.csv',index=False)\n",
    "test.to_csv('/Users/baeknarim/데이터분석분야_퓨처스부문_포포나무팀/추가제출파일/DATA/전처리데이터/전처리DATA/train_test전처리1/test_1011_1.csv',index=False)"
   ]
  },
  {
   "cell_type": "code",
   "execution_count": null,
   "metadata": {},
   "outputs": [],
   "source": []
  }
 ],
 "metadata": {
  "accelerator": "GPU",
  "colab": {
   "authorship_tag": "ABX9TyMgkGCGxVommCFPoryfl5Yv",
   "mount_file_id": "10BCfiaLafu9F9akODey8BS2jInOWhK7x",
   "provenance": []
  },
  "kernelspec": {
   "display_name": "Python 3 (ipykernel)",
   "language": "python",
   "name": "python3"
  },
  "language_info": {
   "codemirror_mode": {
    "name": "ipython",
    "version": 3
   },
   "file_extension": ".py",
   "mimetype": "text/x-python",
   "name": "python",
   "nbconvert_exporter": "python",
   "pygments_lexer": "ipython3",
   "version": "3.9.12"
  }
 },
 "nbformat": 4,
 "nbformat_minor": 1
}
