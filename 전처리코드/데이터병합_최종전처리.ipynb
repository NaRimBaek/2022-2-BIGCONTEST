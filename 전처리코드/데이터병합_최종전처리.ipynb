{
 "cells": [
  {
   "cell_type": "markdown",
   "metadata": {
    "heading_collapsed": true,
    "id": "6py13V8mw1Bv"
   },
   "source": [
    "## 환경설정 및 패키지 설치"
   ]
  },
  {
   "cell_type": "code",
   "execution_count": 1,
   "metadata": {
    "ExecuteTime": {
     "end_time": "2022-10-13T18:21:00.669292Z",
     "start_time": "2022-10-13T18:20:57.984095Z"
    },
    "colab": {
     "base_uri": "https://localhost:8080/",
     "height": 0
    },
    "executionInfo": {
     "elapsed": 14941,
     "status": "ok",
     "timestamp": 1664444755126,
     "user": {
      "displayName": "­유찬미(자연과학대학 통계학과)",
      "userId": "00505559781721355771"
     },
     "user_tz": -540
    },
    "hidden": true,
    "id": "jLVyecyww3K0",
    "outputId": "af5f4e26-c715-4d19-a820-23835ac201c6"
   },
   "outputs": [
    {
     "data": {
      "text/html": [
       "<style type='text/css'>\n",
       ".datatable table.frame { margin-bottom: 0; }\n",
       ".datatable table.frame thead { border-bottom: none; }\n",
       ".datatable table.frame tr.coltypes td {  color: #FFFFFF;  line-height: 6px;  padding: 0 0.5em;}\n",
       ".datatable .bool    { background: #DDDD99; }\n",
       ".datatable .object  { background: #565656; }\n",
       ".datatable .int     { background: #5D9E5D; }\n",
       ".datatable .float   { background: #4040CC; }\n",
       ".datatable .str     { background: #CC4040; }\n",
       ".datatable .time    { background: #40CC40; }\n",
       ".datatable .row_index {  background: var(--jp-border-color3);  border-right: 1px solid var(--jp-border-color0);  color: var(--jp-ui-font-color3);  font-size: 9px;}\n",
       ".datatable .frame tbody td { text-align: left; }\n",
       ".datatable .frame tr.coltypes .row_index {  background: var(--jp-border-color0);}\n",
       ".datatable th:nth-child(2) { padding-left: 12px; }\n",
       ".datatable .hellipsis {  color: var(--jp-cell-editor-border-color);}\n",
       ".datatable .vellipsis {  background: var(--jp-layout-color0);  color: var(--jp-cell-editor-border-color);}\n",
       ".datatable .na {  color: var(--jp-cell-editor-border-color);  font-size: 80%;}\n",
       ".datatable .sp {  opacity: 0.25;}\n",
       ".datatable .footer { font-size: 9px; }\n",
       ".datatable .frame_dimensions {  background: var(--jp-border-color3);  border-top: 1px solid var(--jp-border-color0);  color: var(--jp-ui-font-color3);  display: inline-block;  opacity: 0.6;  padding: 1px 10px 1px 5px;}\n",
       "</style>\n"
      ],
      "text/plain": [
       "<IPython.core.display.HTML object>"
      ]
     },
     "metadata": {},
     "output_type": "display_data"
    },
    {
     "name": "stderr",
     "output_type": "stream",
     "text": [
      "/var/folders/2y/t2fct91n6c515y6sv4v690lc0000gn/T/ipykernel_75087/2927597290.py:47: DeprecationWarning: `set_matplotlib_formats` is deprecated since IPython 7.23, directly use `matplotlib_inline.backend_inline.set_matplotlib_formats()`\n",
      "  set_matplotlib_formats('retina')\n"
     ]
    },
    {
     "data": {
      "image/png": "[encoded data removed]",
      "text/plain": [
       "<Figure size 144x144 with 1 Axes>"
      ]
     },
     "metadata": {
      "image/png": {
       "height": 145,
       "width": 201
      },
      "needs_background": "light"
     },
     "output_type": "display_data"
    }
   ],
   "source": [
    "# Data processing\n",
    "# ==============================================================================\n",
    "import os \n",
    "import datatable\n",
    "\n",
    "\n",
    "import pandas as pd\n",
    "import numpy as np\n",
    "import openpyxl\n",
    "import math\n",
    "import datetime as dt\n",
    "\n",
    "# Plots\n",
    "# ==============================================================================\n",
    "import matplotlib as mpl\n",
    "import matplotlib.pyplot as plt\n",
    "import seaborn as sns; sns.set(style='whitegrid',font_scale=1.2) \n",
    "from statsmodels.graphics.tsaplots import plot_acf\n",
    "from statsmodels.graphics.tsaplots import plot_pacf\n",
    "import plotly.express as px\n",
    "plt.style.use('fivethirtyeight')\n",
    "plt.rcParams['lines.linewidth'] = 1.5\n",
    "%matplotlib inline\n",
    "\n",
    "## * 이 셀이 제대로 작동하지 않고 길게 warning 메시지가 나올 경우, 상단의 메뉴에서 <런타임>-<런타임 다시 시작>을 클릭한 뒤 처음부터 코드를 실행하세요 \n",
    "# 그래프 한글 폰트 설정\n",
    "\n",
    "import matplotlib \n",
    "import platform \n",
    "from matplotlib import font_manager, rc \n",
    "%config InlineBackend.figure_format = 'retina'\n",
    "\n",
    "# '-' 부호가 제대로 표시되게 하는 설정 \n",
    "matplotlib.rcParams['axes.unicode_minus'] = False\n",
    "# 운영 체제마다 한글이 보이게 하는 설정 \n",
    "if platform.system() == 'Windows': # 윈도우\n",
    "    path = \"c:\\Windows\\Fonts\\malgun.ttf\"\n",
    "    font_name = font_manager.FontProperties(fname=path).get_name() \n",
    "    rc('font', family=font_name)\n",
    "elif platform.system() == 'Darwin': #맥\n",
    "    rc('font', family='AppleGothic')\n",
    "elif platform.system() == 'Linux': # 리눅스\n",
    "    rc('font', family='NanumBarunGothic')\n",
    "\n",
    "#폰트 선명하게 보이게 하기 위해\n",
    "from IPython.display import set_matplotlib_formats\n",
    "set_matplotlib_formats('retina')\n",
    "\n",
    "## Test\n",
    "plt.figure(figsize=(2,2))\n",
    "plt.text(0.3, 0.3, '한글 폰트 테스트', size=15)\n",
    "plt.show() \n",
    "\n",
    "# Configuration\n",
    "# ==============================================================================\n",
    "import warnings\n",
    "warnings.filterwarnings('ignore')\n",
    "%config Completer.use_jedi = False"
   ]
  },
  {
   "cell_type": "markdown",
   "metadata": {
    "heading_collapsed": true,
    "id": "NBDlB_bMv2jq"
   },
   "source": [
    "## 데이터 불러오기 "
   ]
  },
  {
   "cell_type": "code",
   "execution_count": 2,
   "metadata": {
    "ExecuteTime": {
     "end_time": "2022-10-13T18:21:27.451252Z",
     "start_time": "2022-10-13T18:21:08.642813Z"
    },
    "hidden": true
   },
   "outputs": [],
   "source": [
    "\n",
    "############################### 결측처리된 데이터 ##############################\n",
    "train = pd.read_csv('/Users/baeknarim/데이터분석분야_퓨처스부문_포포나무팀/추가제출파일/DATA/전처리데이터/전처리DATA/train_test전처리1/train_1011_2.csv', encoding='utf-8') \n",
    "test = pd.read_csv('/Users/baeknarim/데이터분석분야_퓨처스부문_포포나무팀/추가제출파일/DATA/전처리데이터/전처리DATA/train_test전처리1/test_1011_2.csv', encoding='utf-8')\n",
    "############################################################################\n",
    "\n",
    "################################## 외부 데이터 ################################\n",
    "NaverKeywords = pd.read_csv('/Users/baeknarim/데이터분석분야_퓨처스부문_포포나무팀/추가제출파일/DATA/외부데이터/NaverKeywords.csv') \n",
    "log_data_train = pd.read_csv('/Users/baeknarim/데이터분석분야_퓨처스부문_포포나무팀/추가제출파일/DATA/전처리데이터/LOGDATA/log_new_1013/log_new_1013_train.csv') # 10/10 ver\n",
    "log_data_test = pd.read_csv('/Users/baeknarim/데이터분석분야_퓨처스부문_포포나무팀/추가제출파일/DATA/전처리데이터/LOGDATA/log_new_1013/log_new_1013_test.csv') # 10/10 ver\n",
    "cofix=pd.read_excel(\"/Users/baeknarim/데이터분석분야_퓨처스부문_포포나무팀/추가제출파일/DATA/외부데이터/COFIX.xlsx\") \n",
    "cofix = cofix.iloc[1:] \n",
    "############################################################################"
   ]
  },
  {
   "cell_type": "code",
   "execution_count": 3,
   "metadata": {
    "ExecuteTime": {
     "end_time": "2022-10-13T18:21:38.930708Z",
     "start_time": "2022-10-13T18:21:32.912482Z"
    },
    "hidden": true
   },
   "outputs": [
    {
     "name": "stdout",
     "output_type": "stream",
     "text": [
      "0\n",
      "3255482\n",
      "0\n",
      "24273\n",
      "16000\n",
      "0\n"
     ]
    }
   ],
   "source": [
    "print(train.isna().sum().sum())\n",
    "print(test.isna().sum().sum())\n",
    "print(NaverKeywords.isna().sum().sum())\n",
    "print(log_data_train.isna().sum().sum())\n",
    "print(log_data_test.isna().sum().sum())\n",
    "print(cofix.isna().sum().sum()) "
   ]
  },
  {
   "cell_type": "code",
   "execution_count": 4,
   "metadata": {
    "ExecuteTime": {
     "end_time": "2022-10-13T18:22:37.850447Z",
     "start_time": "2022-10-13T18:22:37.836454Z"
    },
    "hidden": true
   },
   "outputs": [
    {
     "data": {
      "text/plain": [
       "3255482"
      ]
     },
     "execution_count": 4,
     "metadata": {},
     "output_type": "execute_result"
    }
   ],
   "source": [
    "test['is_applied'].isna().sum()"
   ]
  },
  {
   "cell_type": "markdown",
   "metadata": {
    "heading_collapsed": true
   },
   "source": [
    "## 중요 파생변수  - popularity, group"
   ]
  },
  {
   "cell_type": "code",
   "execution_count": 5,
   "metadata": {
    "ExecuteTime": {
     "end_time": "2022-10-13T18:23:05.481925Z",
     "start_time": "2022-10-13T18:23:05.467497Z"
    },
    "code_folding": [
     0
    ],
    "hidden": true
   },
   "outputs": [],
   "source": [
    "def add_popularity(train, test):     \n",
    "    \n",
    "    full_data = pd.concat([train, test], axis=0).reset_index(drop=True)\n",
    "    train_index = train.shape[0] \n",
    "    \n",
    "    full_data['is_applied'] = full_data['is_applied'].astype(float)\n",
    "    \n",
    "    ## popularity 계산을 위해 loanapply_insert_time -> loanapply_insert_time (초 단위), 이후 제거 \n",
    "    refer_time = dt.datetime(2022, 2, 28) \n",
    "    full_data['loanapply_insert_time'] = pd.to_datetime(full_data['loanapply_insert_time']) \n",
    "    full_data['loanapply_insert_time_s'] = (full_data['loanapply_insert_time'] - refer_time).dt.total_seconds().astype(int)  \n",
    "    \n",
    "    ## bank_popularity: 은행의 인기도 \n",
    "    full_data['bank_cumcnt'] = full_data.sort_values(by='loanapply_insert_time_s').groupby('bank_id').cumcount() + 1\n",
    "    full_data['bank_cumappliedcnt'] = full_data.sort_values(by='loanapply_insert_time_s').groupby('bank_id')['is_applied'].cumsum()\n",
    "    full_data['bank_popularity'] = full_data['bank_cumappliedcnt'] / full_data['bank_cumcnt'] \n",
    "    full_data.drop(['bank_cumappliedcnt'],axis=1,inplace=True) \n",
    "    full_data[['bank_cumcnt','bank_popularity']].fillna(0, inplace=True)\n",
    "    print('bank_cumcnt is done.')\n",
    "    print('bank_popularity is done.')\n",
    "    \n",
    "    ## product_popularity: 상품의 인기도 \n",
    "    full_data['product_cumcnt'] = full_data.sort_values(by='loanapply_insert_time_s').groupby('product_id').cumcount() + 1\n",
    "    full_data['product_cumappliedcnt'] = full_data.sort_values(by='loanapply_insert_time_s').groupby('product_id')['is_applied'].cumsum()\n",
    "    full_data['product_popularity'] = full_data['product_cumappliedcnt'] / full_data['product_cumcnt'] \n",
    "    full_data.drop(['product_cumappliedcnt'],axis=1,inplace=True) \n",
    "    full_data[['product_cumcnt','product_popularity']].fillna(0, inplace=True)\n",
    "    print('product_cumcnt is done.') \n",
    "    print('product_popularity is done.')\n",
    "    \n",
    "    full_data['is_applied'] = full_data['is_applied'].fillna(-1).astype(int).astype(str).replace('-1', np.nan)\n",
    "    \n",
    "    train = full_data.loc[full_data.index.isin(np.arange(train_index))]\n",
    "    test = full_data.loc[~full_data.index.isin(np.arange(train_index))]\n",
    "    \n",
    "    return train, test"
   ]
  },
  {
   "cell_type": "code",
   "execution_count": 6,
   "metadata": {
    "ExecuteTime": {
     "end_time": "2022-10-13T18:23:32.875054Z",
     "start_time": "2022-10-13T18:23:32.860777Z"
    },
    "code_folding": [
     0
    ],
    "hidden": true
   },
   "outputs": [],
   "source": [
    "def popularity_ReplaceTestNA(train, test):  \n",
    "    \n",
    "    \n",
    "    data = pd.concat([train, test], axis=0).reset_index(drop=True)\n",
    "    train_index = train.shape[0] \n",
    "    \n",
    "    ## 1) bank_popularity NA 처리 \n",
    "\n",
    "    \n",
    "#     #만일 bank_popularity, product_popularity Na 있으면, loan_rate 차이 적은 bank_id, product_id 의 popularity로 대체 \n",
    "#     full_data['bank_popularity'].fillna((full_data['bank_popularity'].mean()), inplace=True)\n",
    "#     full_data['product_popularity'].fillna((full_data['product_popularity'].mean()), inplace=True)\n",
    "\n",
    "#     full_data['is_applied'] = full_data['is_applied'].astype(float)\n",
    "    \n",
    "    # bank_popularity 가 결측이면 \n",
    "    if data['bank_popularity'].isna().sum() != 0 :\n",
    "        \n",
    "        # 케이스 1) train에 존재하는 bank_id 일 경우 \n",
    "        data['bank_popularity'] = data.groupby('bank_id')['bank_popularity'].ffill()  # train의 가장 마지막 값으로 채우기 (mle 수렴한다고 가정)\n",
    "        \n",
    "        \n",
    "        # 케이스 2) train에 없는 새로 생긴 bank_id 일 경우\n",
    "        \n",
    "        # bank_popularity 가 NA인 user_id 리스트 \n",
    "        na_banks = list(set(data.loc[data['bank_popularity'].isna(), 'bank_id']))\n",
    "        notNA_df = data[data['bank_popularity'].notna()] \n",
    "\n",
    "        for i in range(len(na_banks)): \n",
    "\n",
    "            ## 현재 NA인 bank_popularity 의 loan_rate 최댓값 \n",
    "            loan_rate_NA_max = data.loc[data['bank_id'] == na_banks[i],'loan_rate'].max() \n",
    "            # loan_rate 차이가 최소인 열 구하기 \n",
    "            min_diff_idx = (loan_rate_NA_max - notNA_df['loan_rate']).abs().idxmin()\n",
    "            # 그 열들의 평균 bank_popularity \n",
    "            data.loc[data['bank_id'] == na_banks[i], 'bank_popularity'] = np.nanmean(\n",
    "                    notNA_df.iloc[min_diff_idx, notNA_df.columns.get_loc(\"bank_popularity\")])\n",
    "        print('bank_popularity NA is done.') \n",
    "        \n",
    "    \n",
    "    ## 2) product_popularity  NA 처리 \n",
    "    if data['product_popularity'].isna().sum() != 0 :\n",
    "        \n",
    "        # 케이스 1) train에 존재하는 product_id 일 경우 \n",
    "        data['product_popularity'] = data.groupby('product_id')['product_popularity'].ffill()  # train의 가장 마지막 값으로 채우기 (mle 수렴한다고 가정)\n",
    "        \n",
    "    \n",
    "        # 케이스 2) train에 없는 새로 생긴 product_id 일 경우\n",
    "    \n",
    "        # product_popularity 가 NA인 user_id 리스트 \n",
    "        na_products = list(set(data.loc[data['product_popularity'].isna(), 'product_id']))\n",
    "        notNA_df = data[data['product_popularity'].notna()]\n",
    "\n",
    "        for i in range(len(na_products)): \n",
    "            \n",
    "            ## 현재 NA인 product_popularity 의 loan_rate 최댓값 \n",
    "            loan_rate_NA_max = data.loc[data['product_id'] == na_products[i],'loan_rate'].max()\n",
    "            \n",
    "#             # loan_rate 차이가 최소인 열 구하기 \n",
    "#             min_diff_idx = (loan_rate_NA_max - notNA_df['loan_rate']).abs().idxmin()\n",
    "#             # 그 열들의 평균 bank_popularity \n",
    "#             data.loc[data['product_id'] == na_products[i], 'product_popularity'] = np.nanmean(\n",
    "#                     notNA_df.iloc[min_diff_idx, notNA_df.columns.get_loc(\"product_popularity\")])\n",
    "\n",
    "            # loan_rate 차이가 최소인 값 구하기 \n",
    "            min_diff = (loan_rate_NA_max - notNA_df['loan_rate']).abs().min()\n",
    "            # 그 값을 갖는 열들의 평균 bank_popularity \n",
    "            data.loc[data['product_id'] == na_products[i], 'product_popularity'] = np.median(\n",
    "                notNA_df.loc[(loan_rate_NA_max - notNA_df['loan_rate']).abs() == min_diff, 'product_popularity']) \n",
    "        print('product_popularity NA is done.')     \n",
    "            \n",
    "    \n",
    "    train = data.loc[data.index.isin(np.arange(train_index))]\n",
    "    test = data.loc[~data.index.isin(np.arange(train_index))]\n",
    "    \n",
    "    return train, test "
   ]
  },
  {
   "cell_type": "code",
   "execution_count": 7,
   "metadata": {
    "ExecuteTime": {
     "end_time": "2022-10-13T18:25:19.226617Z",
     "start_time": "2022-10-13T18:24:00.319523Z"
    },
    "hidden": true
   },
   "outputs": [
    {
     "name": "stdout",
     "output_type": "stream",
     "text": [
      "bank_cumcnt is done.\n",
      "bank_popularity is done.\n",
      "product_cumcnt is done.\n",
      "product_popularity is done.\n",
      "bank_popularity NA is done.\n",
      "product_popularity NA is done.\n"
     ]
    }
   ],
   "source": [
    "train_merged, test_merged = add_popularity(train, test)\n",
    "train_merged, test_merged = popularity_ReplaceTestNA(train_merged, test_merged)"
   ]
  },
  {
   "cell_type": "code",
   "execution_count": 8,
   "metadata": {
    "ExecuteTime": {
     "end_time": "2022-10-13T18:31:26.138122Z",
     "start_time": "2022-10-13T18:31:18.801639Z"
    },
    "hidden": true
   },
   "outputs": [
    {
     "name": "stdout",
     "output_type": "stream",
     "text": [
      "0\n",
      "3255482\n",
      "3255482\n",
      "0\n",
      "0\n",
      "0\n"
     ]
    }
   ],
   "source": [
    "## 잘 되었는지 확인 \n",
    "print(train_merged.isna().sum().sum()) \n",
    "print(test_merged.isna().sum().sum()) \n",
    "\n",
    "# 원래 존재하는 NA \n",
    "print(test_merged['is_applied'].isna().sum()) \n",
    "print(test_merged['yearly_income'].isna().sum()) \n",
    "\n",
    "# 0인지 확인 \n",
    "print(test_merged['bank_popularity'].isna().sum()) \n",
    "print(test_merged['product_popularity'].isna().sum()) "
   ]
  },
  {
   "cell_type": "code",
   "execution_count": 9,
   "metadata": {
    "ExecuteTime": {
     "end_time": "2022-10-13T18:32:14.199643Z",
     "start_time": "2022-10-13T18:32:14.170115Z"
    },
    "code_folding": [
     12
    ],
    "hidden": true
   },
   "outputs": [],
   "source": [
    "# 은행 분류 정의 (EDA 결과를 바탕으로)\n",
    "bank_cluster1= [55, 14, 44, 21, 42, 38, 34, 46, 29, 39, 15, 6, 61, 64, 13, 57, 32, 20, 35, 59, 31, 50, 27, 7, 25, 36, 1, 26, 24, 54, 22, 49, 8, 37, 58, 12, 43, 19, 33, 47, 30, 28, 10, 41, 18, 62, 17, 5, 63, 23, 11, 51, 45, 40, 56, 4, 2, 16, 52, 9]\n",
    "bank_cluster2= [29, 55, 42, 3, 46, 21, 14, 64, 15, 20, 57, 39, 35, 52, 44, 27, 59, 8, 45, 54, 50, 43, 26, 1, 61, 49, 31, 37, 58, 12, 36, 7, 25, 38, 19, 47, 18, 22, 62, 30, 5, 33, 24, 63, 23, 32, 40, 60, 28, 41, 56, 4, 16, 17, 2, 9]\n",
    "bank_cluster3= [13, 55, 35, 38, 64, 15, 34, 3, 6, 24, 14, 44, 37, 46, 21, 32, 57, 61, 42, 1, 43, 36, 20, 59, 25, 22, 50, 11, 26, 54, 49, 7, 31, 58, 12, 19, 33, 30, 47, 28, 10, 41, 17, 5, 63, 23, 40, 51, 56, 2]\n",
    "\n",
    "# 대출상품 분류 정의 (EDA 결과를 바탕으로)\n",
    "product_cluster1= [12, 128, 171, 196, 216, 113, 8, 215, 140, 197, 227, 265, 62, 204, 36, 92, 25, 258, 141, 254, 186, 262, 71, 56, 111, 249, 51, 15, 38, 150, 239, 174, 142, 176, 220, 191, 245, 90, 185, 163, 192, 67, 61, 80, 263, 259, 157, 82, 70, 1, 221, 60, 91, 39, 144, 31, 107, 206, 243, 175, 29, 68, 58, 224, 35, 246, 168, 147, 231, 264, 110, 138, 121, 235, 217, 266, 267, 96, 149, 65, 222, 26, 223, 16, 139, 114, 49, 78, 85, 40, 131, 200, 19, 194, 226, 233, 236, 108, 170, 169, 162, 270, 57, 20, 43, 247, 86, 22, 161, 129, 146, 252, 94, 98, 30, 79, 5, 81, 240, 59, 248, 123, 268, 137, 93, 42, 124, 24, 211, 238, 100, 126, 7, 181, 166, 187, 159, 250]\n",
    "product_cluster2= [265, 25, 258, 205, 227, 196, 128, 254, 152, 141, 111, 12, 71, 62, 216, 197, 38, 249, 234, 171, 148, 251, 187, 91, 270, 119, 259, 22, 31, 142, 246, 80, 90, 8, 185, 1, 144, 245, 92, 195, 136, 244, 206, 39, 175, 140, 68, 61, 35, 15, 60, 191, 75, 224, 163, 58, 103, 134, 127, 47, 223, 16, 78, 235, 131, 188, 94, 176, 49, 138, 96, 164, 200, 48, 121, 194, 189, 229, 20, 226, 184, 236, 266, 257, 261, 129, 267, 157, 183, 63, 217, 51, 110, 174, 30, 263, 161, 222, 162, 5, 108, 59, 67, 268, 137, 225, 264, 233, 42, 147, 168, 146, 166, 220, 238, 19, 26, 7, 181, 55, 250, 105, 190]\n",
    "product_cluster3= [123, 12, 29, 262, 113, 254, 204, 215, 15, 205, 36, 263, 197, 239, 152, 8, 192, 38, 141, 206, 186, 25, 227, 140, 196, 56, 71, 92, 128, 258, 171, 61, 246, 157, 111, 67, 150, 169, 221, 216, 142, 118, 80, 163, 107, 70, 168, 245, 81, 1, 259, 39, 191, 220, 174, 266, 243, 249, 175, 35, 90, 68, 159, 185, 60, 51, 144, 161, 91, 231, 110, 85, 138, 86, 217, 49, 98, 223, 16, 65, 149, 235, 57, 139, 222, 264, 40, 19, 194, 100, 43, 226, 170, 79, 108, 236, 233, 129, 252, 26, 162, 267, 224, 147, 46, 30, 5, 124, 248, 247, 121, 114, 58, 137, 126, 93, 24, 146, 7, 181]\n",
    "\n",
    "    \n",
    "## bank_group: bank의 loan_rate, loan_limit을 기준으로 그룹핑 \n",
    "def BankProductGroups(data, variable, cluster1, cluster2, cluster3):\n",
    "    \n",
    "    ## 차집합을 이용해 7개의 클러스터로 나눔\n",
    "    c123 = list(set(cluster1) & set(cluster2) & set(cluster3)) \n",
    "\n",
    "    c1 = list((set(cluster1) - set(cluster2)) - set(cluster3))\n",
    "    c2 = list((set(cluster2) - set(cluster3)) - set(cluster1))\n",
    "    c3 = list((set(cluster3) - set(cluster1)) - set(cluster2))\n",
    "\n",
    "    c12 = list((set(cluster1) & set(cluster2)) - set(c123))\n",
    "    c23 = list((set(cluster2) & set(cluster3)) - set(c123))\n",
    "    c31 = list((set(cluster3) & set(cluster1)) - set(c123))\n",
    "\n",
    "    clusters_list = [c1, c2, c3, c12, c23, c31, c123]\n",
    "\n",
    "    ## 내용이 없는 클러스터일 경우 삭제 \n",
    "    clusters_list = [cluster for cluster in clusters_list if cluster != []]\n",
    "#     print(clusters_list)\n",
    "    \n",
    "    ## bank_group, product_group: bank_id 를 loan_rate,loan_limit 이용해 clustering 한 결과 \n",
    "    for i, value in enumerate(clusters_list):\n",
    "        \n",
    "        # 각 group 에 속한 bank_id 혹은 product_id 를 확인할 수 있음 \n",
    "#         print(str(variable), 'cluster: ', (i+1), value)\n",
    "        print('cluster ', str(i), 'len: ', len(value), '\\n', value)\n",
    "        \n",
    "        if variable == 'bank_id':\n",
    "            data.loc[data[variable].isin(value), 'bank_group'] = i+1\n",
    "        elif variable == 'product_id':\n",
    "            data.loc[data[variable].isin(value), 'product_group'] = i+1 \n",
    "    \n",
    "    print(str(variable), 'group done.') \n",
    "    print('\\n')\n",
    "\n",
    "    return data "
   ]
  },
  {
   "cell_type": "code",
   "execution_count": 10,
   "metadata": {
    "ExecuteTime": {
     "end_time": "2022-10-13T18:33:03.069338Z",
     "start_time": "2022-10-13T18:33:03.054348Z"
    },
    "code_folding": [
     0
    ],
    "hidden": true
   },
   "outputs": [],
   "source": [
    "def bpGroup_ReplaceTestNA(train, test):  \n",
    "    \n",
    "    \n",
    "    data = pd.concat([train, test], axis=0).reset_index(drop=True)\n",
    "    train_index = train.shape[0] \n",
    "    \n",
    "    ## 1) bank_group NA 처리 \n",
    "    \n",
    "    # bank_group 가 결측이면 \n",
    "    if data['bank_group'].isna().sum() != 0 :\n",
    "        \n",
    "        # 케이스 1) train에 존재하는 bank_id 일 경우 \n",
    "        ## train의 가장 마지막 값으로 채우기 (mle 수렴한다고 가정)\n",
    "        \n",
    "        data['bank_group'] = data.groupby('bank_id')['bank_group'].ffill()  \n",
    "        \n",
    "        # 케이스 2) train에 없는 새로 생긴 bank_id 일 경우\n",
    "        \n",
    "        # bank_popularity 가 NA인 user_id 리스트 \n",
    "        na_banks = list(set(data.loc[data['bank_group'].isna(), 'bank_id']))\n",
    "        notNA_df = data[data['bank_group'].notna()] \n",
    "\n",
    "        for i in range(len(na_banks)): \n",
    "\n",
    "            ## 현재 NA인 bank_popularity 의 loan_rate 최댓값 \n",
    "            loan_rate_NA_max = data.loc[data['bank_id'] == na_banks[i],'loan_rate'].max() \n",
    "            # loan_rate 차이가 최소인 열 구하기 \n",
    "            min_diff_idx = (loan_rate_NA_max - notNA_df['loan_rate']).abs().idxmin()\n",
    "            # 그 열들의 평균 bank_popularity \n",
    "            data.loc[data['bank_id'] == na_banks[i], 'bank_group'] = np.nanmean(\n",
    "                    notNA_df.iloc[min_diff_idx, notNA_df.columns.get_loc(\"bank_group\")])\n",
    "        print('bank_group NA is done.') \n",
    "        \n",
    "    \n",
    "    ## 2) product_group  NA 처리 \n",
    "    if data['product_group'].isna().sum() != 0 : \n",
    "        \n",
    "        # 케이스 1) train에 존재하는 product_id 일 경우 \n",
    "        # train의 가장 마지막 값으로 채우기 (mle 수렴한다고 가정)\n",
    "        data['product_group'] = data.groupby('product_id')['product_group'].ffill()  \n",
    "    \n",
    "        # 케이스 2) train에 없는 새로 생긴 product_id 일 경우\n",
    "    \n",
    "        # product_popularity 가 NA인 user_id 리스트 \n",
    "        na_products = list(set(data.loc[data['product_group'].isna(), 'product_id']))\n",
    "        notNA_df = data[data['product_group'].notna()]\n",
    "\n",
    "        for i in range(len(na_products)): \n",
    "            \n",
    "            ## 현재 NA인 product_popularity 의 loan_rate 최댓값 \n",
    "            loan_rate_NA_max = data.loc[data['product_id'] == na_products[i],'loan_rate'].max()\n",
    "            # loan_rate 차이가 최소인 열 구하기 \n",
    "            min_diff_idx = (loan_rate_NA_max - notNA_df['loan_rate']).abs().idxmin()\n",
    "            # 그 열들의 평균 bank_popularity \n",
    "            data.loc[data['product_id'] == na_products[i], 'product_group'] = np.nanmean(\n",
    "                    notNA_df.iloc[min_diff_idx, notNA_df.columns.get_loc(\"product_group\")])\n",
    "        print('product_group NA is done.')     \n",
    "            \n",
    "    \n",
    "    train = data.loc[data.index.isin(np.arange(train_index))]\n",
    "    test = data.loc[~data.index.isin(np.arange(train_index))]\n",
    "    \n",
    "    return train, test "
   ]
  },
  {
   "cell_type": "code",
   "execution_count": 11,
   "metadata": {
    "ExecuteTime": {
     "end_time": "2022-10-13T18:38:20.397114Z",
     "start_time": "2022-10-13T18:38:11.614935Z"
    },
    "code_folding": [],
    "hidden": true
   },
   "outputs": [
    {
     "name": "stdout",
     "output_type": "stream",
     "text": [
      "cluster  0 len:  1 \n",
      " [60]\n",
      "cluster  1 len:  11 \n",
      " [4, 39, 8, 9, 45, 16, 18, 52, 27, 29, 62]\n",
      "cluster  2 len:  1 \n",
      " [3]\n",
      "cluster  3 len:  6 \n",
      " [34, 6, 10, 11, 13, 51]\n",
      "cluster  4 len:  43 \n",
      " [1, 2, 5, 7, 12, 14, 15, 17, 19, 20, 21, 22, 23, 24, 25, 26, 28, 30, 31, 32, 33, 35, 36, 37, 38, 40, 41, 42, 43, 44, 46, 47, 49, 50, 54, 55, 56, 57, 58, 59, 61, 63, 64]\n",
      "bank_id group done.\n",
      "\n",
      "\n",
      "cluster  0 len:  3 \n",
      " [240, 82, 211]\n",
      "cluster  1 len:  26 \n",
      " [257, 261, 134, 136, 148, 164, 47, 48, 55, 184, 183, 188, 189, 190, 63, 195, 75, 225, 229, 103, 105, 234, 244, 119, 251, 127]\n",
      "cluster  2 len:  2 \n",
      " [46, 118]\n",
      "cluster  3 len:  19 \n",
      " [131, 265, 268, 270, 20, 22, 31, 166, 42, 176, 187, 59, 62, 200, 78, 94, 96, 238, 250]\n",
      "cluster  4 len:  2 \n",
      " [152, 205]\n",
      "cluster  5 len:  40 \n",
      " [262, 139, 149, 150, 24, 29, 159, 36, 40, 169, 170, 43, 56, 57, 186, 192, 65, 70, 204, 79, 81, 85, 86, 215, 93, 221, 98, 100, 231, 107, 239, 113, 114, 243, 252, 247, 248, 123, 124, 126]\n",
      "cluster  6 len:  76 \n",
      " [128, 1, 129, 258, 259, 5, 7, 8, 137, 138, 263, 12, 140, 141, 15, 16, 142, 144, 19, 146, 147, 25, 26, 157, 30, 161, 162, 35, 163, 38, 39, 168, 171, 174, 175, 49, 264, 51, 181, 185, 58, 266, 60, 61, 191, 267, 194, 67, 68, 196, 197, 71, 206, 80, 216, 217, 90, 91, 92, 220, 222, 223, 224, 226, 227, 249, 233, 235, 108, 236, 110, 111, 245, 246, 121, 254]\n",
      "product_id group done.\n",
      "\n",
      "\n",
      "cluster  0 len:  1 \n",
      " [60]\n",
      "cluster  1 len:  11 \n",
      " [4, 39, 8, 9, 45, 16, 18, 52, 27, 29, 62]\n",
      "cluster  2 len:  1 \n",
      " [3]\n",
      "cluster  3 len:  6 \n",
      " [34, 6, 10, 11, 13, 51]\n",
      "cluster  4 len:  43 \n",
      " [1, 2, 5, 7, 12, 14, 15, 17, 19, 20, 21, 22, 23, 24, 25, 26, 28, 30, 31, 32, 33, 35, 36, 37, 38, 40, 41, 42, 43, 44, 46, 47, 49, 50, 54, 55, 56, 57, 58, 59, 61, 63, 64]\n",
      "bank_id group done.\n",
      "\n",
      "\n",
      "cluster  0 len:  3 \n",
      " [240, 82, 211]\n",
      "cluster  1 len:  26 \n",
      " [257, 261, 134, 136, 148, 164, 47, 48, 55, 184, 183, 188, 189, 190, 63, 195, 75, 225, 229, 103, 105, 234, 244, 119, 251, 127]\n",
      "cluster  2 len:  2 \n",
      " [46, 118]\n",
      "cluster  3 len:  19 \n",
      " [131, 265, 268, 270, 20, 22, 31, 166, 42, 176, 187, 59, 62, 200, 78, 94, 96, 238, 250]\n",
      "cluster  4 len:  2 \n",
      " [152, 205]\n",
      "cluster  5 len:  40 \n",
      " [262, 139, 149, 150, 24, 29, 159, 36, 40, 169, 170, 43, 56, 57, 186, 192, 65, 70, 204, 79, 81, 85, 86, 215, 93, 221, 98, 100, 231, 107, 239, 113, 114, 243, 252, 247, 248, 123, 124, 126]\n",
      "cluster  6 len:  76 \n",
      " [128, 1, 129, 258, 259, 5, 7, 8, 137, 138, 263, 12, 140, 141, 15, 16, 142, 144, 19, 146, 147, 25, 26, 157, 30, 161, 162, 35, 163, 38, 39, 168, 171, 174, 175, 49, 264, 51, 181, 185, 58, 266, 60, 61, 191, 267, 194, 67, 68, 196, 197, 71, 206, 80, 216, 217, 90, 91, 92, 220, 222, 223, 224, 226, 227, 249, 233, 235, 108, 236, 110, 111, 245, 246, 121, 254]\n",
      "product_id group done.\n",
      "\n",
      "\n",
      "bank_group NA is done.\n",
      "product_group NA is done.\n"
     ]
    }
   ],
   "source": [
    "## train 적용 \n",
    "train_merged1 = BankProductGroups(train_merged, 'bank_id', bank_cluster1, bank_cluster2, bank_cluster3)\n",
    "train_merged1 = BankProductGroups(train_merged, 'product_id', product_cluster1, product_cluster2, product_cluster3)\n",
    "\n",
    "## test 적용 \n",
    "test_merged1 = BankProductGroups(test_merged, 'bank_id', bank_cluster1, bank_cluster2, bank_cluster3)\n",
    "test_merged1 = BankProductGroups(test_merged, 'product_id', product_cluster1, product_cluster2, product_cluster3)\n",
    "\n",
    "## test NA 처리\n",
    "test_merged1, test_merged1 = bpGroup_ReplaceTestNA(test_merged1, test_merged1) "
   ]
  },
  {
   "cell_type": "code",
   "execution_count": 12,
   "metadata": {
    "ExecuteTime": {
     "end_time": "2022-10-13T18:39:20.068106Z",
     "start_time": "2022-10-13T18:39:20.054143Z"
    },
    "hidden": true
   },
   "outputs": [
    {
     "data": {
      "text/html": [
       "<div>\n",
       "<style scoped>\n",
       "    .dataframe tbody tr th:only-of-type {\n",
       "        vertical-align: middle;\n",
       "    }\n",
       "\n",
       "    .dataframe tbody tr th {\n",
       "        vertical-align: top;\n",
       "    }\n",
       "\n",
       "    .dataframe thead th {\n",
       "        text-align: right;\n",
       "    }\n",
       "</style>\n",
       "<table border=\"1\" class=\"dataframe\">\n",
       "  <thead>\n",
       "    <tr style=\"text-align: right;\">\n",
       "      <th></th>\n",
       "      <th>application_id</th>\n",
       "      <th>loanapply_insert_time</th>\n",
       "      <th>bank_id</th>\n",
       "      <th>product_id</th>\n",
       "      <th>loan_limit</th>\n",
       "      <th>loan_rate</th>\n",
       "      <th>is_applied</th>\n",
       "      <th>user_id</th>\n",
       "      <th>birth_year</th>\n",
       "      <th>gender</th>\n",
       "      <th>...</th>\n",
       "      <th>existing_loan_cnt</th>\n",
       "      <th>existing_loan_amt</th>\n",
       "      <th>isjob</th>\n",
       "      <th>loanapply_insert_time_s</th>\n",
       "      <th>bank_cumcnt</th>\n",
       "      <th>bank_popularity</th>\n",
       "      <th>product_cumcnt</th>\n",
       "      <th>product_popularity</th>\n",
       "      <th>bank_group</th>\n",
       "      <th>product_group</th>\n",
       "    </tr>\n",
       "  </thead>\n",
       "  <tbody>\n",
       "  </tbody>\n",
       "</table>\n",
       "<p>0 rows × 31 columns</p>\n",
       "</div>"
      ],
      "text/plain": [
       "Empty DataFrame\n",
       "Columns: [application_id, loanapply_insert_time, bank_id, product_id, loan_limit, loan_rate, is_applied, user_id, birth_year, gender, insert_time, credit_score, yearly_income, income_type, company_enter_month, employment_type, houseown_type, desired_amount, purpose, personal_rehabilitation_yn, personal_rehabilitation_complete_yn, existing_loan_cnt, existing_loan_amt, isjob, loanapply_insert_time_s, bank_cumcnt, bank_popularity, product_cumcnt, product_popularity, bank_group, product_group]\n",
       "Index: []\n",
       "\n",
       "[0 rows x 31 columns]"
      ]
     },
     "execution_count": 12,
     "metadata": {},
     "output_type": "execute_result"
    }
   ],
   "source": [
    "test_merged1[test_merged1['bank_group'].isna()]"
   ]
  },
  {
   "cell_type": "code",
   "execution_count": 13,
   "metadata": {
    "ExecuteTime": {
     "end_time": "2022-10-13T18:40:19.683868Z",
     "start_time": "2022-10-13T18:40:19.496163Z"
    },
    "hidden": true,
    "scrolled": false
   },
   "outputs": [
    {
     "name": "stdout",
     "output_type": "stream",
     "text": [
      "Train bank_group\n",
      "5.0    7773863\n",
      "4.0    1232878\n",
      "2.0    1110427\n",
      "3.0     116568\n",
      "1.0      30613\n",
      "Name: bank_group, dtype: int64 \n",
      "\n",
      "Train product_group\n",
      "7.0    5119141\n",
      "6.0    2503314\n",
      "2.0    1523626\n",
      "4.0     883047\n",
      "3.0     118166\n",
      "5.0     116568\n",
      "1.0        487\n",
      "Name: product_group, dtype: int64 \n",
      "\n",
      "Test bank_group\n",
      "5.0    2476405\n",
      "2.0     380347\n",
      "4.0     354613\n",
      "3.0      34729\n",
      "1.0       9388\n",
      "Name: bank_group, dtype: int64 \n",
      "\n",
      "Test product_group\n",
      "7.0    1664622\n",
      "6.0     777890\n",
      "2.0     458250\n",
      "4.0     280084\n",
      "3.0      39798\n",
      "5.0      34729\n",
      "1.0        109\n",
      "Name: product_group, dtype: int64\n"
     ]
    }
   ],
   "source": [
    "## 잘 되었는지 확인 \n",
    "print('Train bank_group')\n",
    "print(train_merged1['bank_group'].value_counts(dropna=False), '\\n')\n",
    "print('Train product_group')\n",
    "print(train_merged1['product_group'].value_counts(dropna=False), '\\n')\n",
    "\n",
    "print('Test bank_group')\n",
    "print(test_merged1['bank_group'].value_counts(dropna=False), '\\n')\n",
    "print('Test product_group')\n",
    "print(test_merged1['product_group'].value_counts(dropna=False)) "
   ]
  },
  {
   "cell_type": "code",
   "execution_count": 14,
   "metadata": {
    "ExecuteTime": {
     "end_time": "2022-10-13T18:41:19.336695Z",
     "start_time": "2022-10-13T18:41:19.321736Z"
    },
    "hidden": true
   },
   "outputs": [
    {
     "data": {
      "text/plain": [
       "Series([], Name: bank_id, dtype: int64)"
      ]
     },
     "execution_count": 14,
     "metadata": {},
     "output_type": "execute_result"
    }
   ],
   "source": [
    "test_merged1.loc[test_merged1.bank_group.isna()].bank_id.value_counts()"
   ]
  },
  {
   "cell_type": "code",
   "execution_count": 15,
   "metadata": {
    "ExecuteTime": {
     "end_time": "2022-10-13T18:42:19.372138Z",
     "start_time": "2022-10-13T18:42:19.357179Z"
    },
    "hidden": true
   },
   "outputs": [
    {
     "data": {
      "text/plain": [
       "Series([], Name: product_id, dtype: int64)"
      ]
     },
     "execution_count": 15,
     "metadata": {},
     "output_type": "execute_result"
    }
   ],
   "source": [
    "test_merged1.loc[test_merged1.product_group.isna()].product_id.value_counts()"
   ]
  },
  {
   "cell_type": "code",
   "execution_count": 16,
   "metadata": {
    "ExecuteTime": {
     "end_time": "2022-10-13T18:43:19.266687Z",
     "start_time": "2022-10-13T18:43:18.999705Z"
    },
    "hidden": true
   },
   "outputs": [
    {
     "name": "stdout",
     "output_type": "stream",
     "text": [
      "0\n",
      "0\n",
      "0\n",
      "3255482\n",
      "0\n",
      "0\n",
      "0\n"
     ]
    }
   ],
   "source": [
    "## 잘 되었는지 확인 \n",
    "# train_merged6 \n",
    "print(train_merged1['is_applied'].isna().sum()) \n",
    "print(train_merged1['bank_popularity'].isna().sum()) \n",
    "print(train_merged1['product_popularity'].isna().sum()) \n",
    "\n",
    "# 원래 존재하는 NA \n",
    "print(test_merged1['is_applied'].isna().sum()) \n",
    "print(test_merged1['yearly_income'].isna().sum()) \n",
    "\n",
    "# 0인지 확인 \n",
    "print(test_merged1['bank_popularity'].isna().sum()) \n",
    "print(test_merged1['product_popularity'].isna().sum()) "
   ]
  },
  {
   "cell_type": "markdown",
   "metadata": {
    "heading_collapsed": true
   },
   "source": [
    "## 네이버키워드 데이터\n",
    "### 네이버키워드 데이터 병합을 위한 전처리"
   ]
  },
  {
   "cell_type": "markdown",
   "metadata": {
    "hidden": true
   },
   "source": [
    "네이버 통합 검색어 트렌드 데이터 설명\n",
    "- ages 변수: \n",
    "    - 1: 0∼12세, 2: 13∼18세, 3: 19∼24세, 4: 25∼29세, 5: 30∼34세, 6: 35∼39세, 7: 40∼44세, 8: 45∼49세, 9: 50∼54세, 10: 55∼59세, 11: 60세 이상"
   ]
  },
  {
   "cell_type": "code",
   "execution_count": 17,
   "metadata": {
    "ExecuteTime": {
     "end_time": "2022-10-13T18:45:22.814523Z",
     "start_time": "2022-10-13T18:45:22.798564Z"
    },
    "hidden": true
   },
   "outputs": [
    {
     "data": {
      "text/html": [
       "<div>\n",
       "<style scoped>\n",
       "    .dataframe tbody tr th:only-of-type {\n",
       "        vertical-align: middle;\n",
       "    }\n",
       "\n",
       "    .dataframe tbody tr th {\n",
       "        vertical-align: top;\n",
       "    }\n",
       "\n",
       "    .dataframe thead th {\n",
       "        text-align: right;\n",
       "    }\n",
       "</style>\n",
       "<table border=\"1\" class=\"dataframe\">\n",
       "  <thead>\n",
       "    <tr style=\"text-align: right;\">\n",
       "      <th></th>\n",
       "      <th>date</th>\n",
       "      <th>gender2</th>\n",
       "      <th>age_band</th>\n",
       "      <th>대출총괄_mo</th>\n",
       "      <th>대출총괄_pc</th>\n",
       "      <th>주택관련대출_mo</th>\n",
       "      <th>주택관련대출_pc</th>\n",
       "      <th>자동차대출_mo</th>\n",
       "      <th>자동차대출_pc</th>\n",
       "      <th>대환대출_mo</th>\n",
       "      <th>대환대출_pc</th>\n",
       "      <th>핀다대출외서비스_mo</th>\n",
       "      <th>핀다대출외서비스_pc</th>\n",
       "    </tr>\n",
       "  </thead>\n",
       "  <tbody>\n",
       "    <tr>\n",
       "      <th>0</th>\n",
       "      <td>2022-02-01</td>\n",
       "      <td>f</td>\n",
       "      <td>2</td>\n",
       "      <td>3.07017</td>\n",
       "      <td>0.0</td>\n",
       "      <td>0.43859</td>\n",
       "      <td>0.0</td>\n",
       "      <td>2.19298</td>\n",
       "      <td>3.40909</td>\n",
       "      <td>0.00000</td>\n",
       "      <td>0.0</td>\n",
       "      <td>0.73099</td>\n",
       "      <td>0.0</td>\n",
       "    </tr>\n",
       "    <tr>\n",
       "      <th>1</th>\n",
       "      <td>2022-02-01</td>\n",
       "      <td>m</td>\n",
       "      <td>2</td>\n",
       "      <td>6.70103</td>\n",
       "      <td>0.0</td>\n",
       "      <td>6.70103</td>\n",
       "      <td>0.0</td>\n",
       "      <td>11.85567</td>\n",
       "      <td>10.00000</td>\n",
       "      <td>0.51546</td>\n",
       "      <td>0.0</td>\n",
       "      <td>2.06185</td>\n",
       "      <td>10.0</td>\n",
       "    </tr>\n",
       "  </tbody>\n",
       "</table>\n",
       "</div>"
      ],
      "text/plain": [
       "        date gender2  age_band  대출총괄_mo  대출총괄_pc  주택관련대출_mo  주택관련대출_pc  \\\n",
       "0 2022-02-01       f         2  3.07017      0.0    0.43859        0.0   \n",
       "1 2022-02-01       m         2  6.70103      0.0    6.70103        0.0   \n",
       "\n",
       "   자동차대출_mo  자동차대출_pc  대환대출_mo  대환대출_pc  핀다대출외서비스_mo  핀다대출외서비스_pc  \n",
       "0   2.19298   3.40909  0.00000      0.0      0.73099          0.0  \n",
       "1  11.85567  10.00000  0.51546      0.0      2.06185         10.0  "
      ]
     },
     "execution_count": 17,
     "metadata": {},
     "output_type": "execute_result"
    }
   ],
   "source": [
    "## 0) 날짜형 변환 \n",
    "NaverKeywords['date'] = pd.to_datetime(NaverKeywords['date'])\n",
    "NaverKeywords['date'] = pd.to_datetime(NaverKeywords['date'])\n",
    "\n",
    "## 1) 네이버키워드 데이터 열이름 변경 \n",
    "NaverKeywords.rename(columns={'gender':'gender2', 'age':'age_band'}, inplace=True)\n",
    "\n",
    "NaverKeywords.head(2)"
   ]
  },
  {
   "cell_type": "markdown",
   "metadata": {
    "hidden": true
   },
   "source": [
    "### 기존 train/test와 네이버키워드 데이터를 병합"
   ]
  },
  {
   "cell_type": "code",
   "execution_count": 18,
   "metadata": {
    "ExecuteTime": {
     "end_time": "2022-10-13T18:46:22.326239Z",
     "start_time": "2022-10-13T18:46:22.311272Z"
    },
    "code_folding": [
     0
    ],
    "hidden": true
   },
   "outputs": [],
   "source": [
    "def NaverMerge(data):\n",
    "    \n",
    "    from datetime import timedelta\n",
    "    \n",
    "    ## 0) 날짜형 변환 \n",
    "    data['loanapply_insert_time'] = pd.to_datetime(data['loanapply_insert_time'])\n",
    "    data['insert_time'] = pd.to_datetime(data['insert_time'])\n",
    "    \n",
    "    ## 1) inser_time 이전일자 계산 \n",
    "    data['insert_time_lag1'] = data['insert_time'].dt.date - timedelta(days=1)\n",
    "    data['insert_time_lag1'] = pd.to_datetime(data['insert_time_lag1'])\n",
    "    \n",
    "    ## 2) gender 전처리 \n",
    "    data.loc[data['gender'] == 0, 'gender2'] = 'f'  # train에서 gender 0은 여성 \n",
    "    data.loc[data['gender'] == 1, 'gender2'] = 'm'  # train에서 gender 1은 여성 \n",
    "    \n",
    "    ## 3) age 생성 \n",
    "    data['age'] = 2022 - data['birth_year'] + 1 \n",
    "    \n",
    "    ## 4) age 전처리 -> age_band 생성 \n",
    "    ## 네이버 통합 검색어 트렌드 데이터 설명 참고 (https://developers.naver.com/)\n",
    "    data.loc[(data['age'] >= 0) & (data['age'] <= 12), 'age_band'] = 1  \n",
    "    data.loc[(data['age'] >= 13) & (data['age'] <= 18), 'age_band'] = 2\n",
    "    data.loc[(data['age'] >= 19) & (data['age'] <= 24), 'age_band'] = 3\n",
    "    data.loc[(data['age'] >= 25) & (data['age'] <= 29), 'age_band'] = 4\n",
    "    data.loc[(data['age'] >= 30) & (data['age'] <= 34), 'age_band'] = 5 \n",
    "    data.loc[(data['age'] >= 35) & (data['age'] <= 39), 'age_band'] = 6\n",
    "    data.loc[(data['age'] >= 40) & (data['age'] <= 44), 'age_band'] = 7\n",
    "    data.loc[(data['age'] >= 45) & (data['age'] <= 49), 'age_band'] = 8\n",
    "    data.loc[(data['age'] >= 50) & (data['age'] <= 54), 'age_band'] = 9 \n",
    "    data.loc[(data['age'] >= 55) & (data['age'] <= 59), 'age_band'] = 10\n",
    "    data.loc[(data['age'] >= 60), 'age_band'] = 11\n",
    "\n",
    "    data['age_band'] = data['age_band'].astype(int) \n",
    "    \n",
    "    \n",
    "    ## 5) 병합: insert_time의 1일 전 검색량과 병합 \n",
    "    data_merged = pd.merge(data, NaverKeywords, how='left', \n",
    "                        left_on=['insert_time_lag1','gender2','age_band'], right_on=['date','gender2','age_band'])\n",
    "    \n",
    "    ## 6) 불필요한 열 제거\n",
    "    data_merged.drop(['insert_time_lag1','gender2','age_band','date'], axis=1, inplace=True)\n",
    "    \n",
    "    ## 7) 진행상황 프린트 \n",
    "    print('Naver Keywords merged.')    \n",
    "    \n",
    "    return data_merged\n",
    "    "
   ]
  },
  {
   "cell_type": "code",
   "execution_count": 19,
   "metadata": {
    "ExecuteTime": {
     "end_time": "2022-10-13T18:47:48.990681Z",
     "start_time": "2022-10-13T18:47:21.559676Z"
    },
    "hidden": true
   },
   "outputs": [
    {
     "name": "stdout",
     "output_type": "stream",
     "text": [
      "Naver Keywords merged.\n",
      "Naver Keywords merged.\n"
     ]
    }
   ],
   "source": [
    "# 시간 소요 유의\n",
    "train_merged2 = NaverMerge(train_merged1) \n",
    "test_merged2 = NaverMerge(test_merged1)"
   ]
  },
  {
   "cell_type": "code",
   "execution_count": 20,
   "metadata": {
    "ExecuteTime": {
     "end_time": "2022-10-13T18:49:10.450600Z",
     "start_time": "2022-10-13T18:49:10.323799Z"
    },
    "hidden": true,
    "scrolled": true
   },
   "outputs": [
    {
     "data": {
      "text/html": [
       "<div>\n",
       "<style scoped>\n",
       "    .dataframe tbody tr th:only-of-type {\n",
       "        vertical-align: middle;\n",
       "    }\n",
       "\n",
       "    .dataframe tbody tr th {\n",
       "        vertical-align: top;\n",
       "    }\n",
       "\n",
       "    .dataframe thead th {\n",
       "        text-align: right;\n",
       "    }\n",
       "</style>\n",
       "<table border=\"1\" class=\"dataframe\">\n",
       "  <thead>\n",
       "    <tr style=\"text-align: right;\">\n",
       "      <th></th>\n",
       "      <th>insert_time</th>\n",
       "      <th>gender</th>\n",
       "      <th>age</th>\n",
       "      <th>대출총괄_mo</th>\n",
       "      <th>대출총괄_pc</th>\n",
       "      <th>주택관련대출_mo</th>\n",
       "      <th>주택관련대출_pc</th>\n",
       "      <th>자동차대출_mo</th>\n",
       "    </tr>\n",
       "  </thead>\n",
       "  <tbody>\n",
       "    <tr>\n",
       "      <th>0</th>\n",
       "      <td>2022-03-01 00:11:35</td>\n",
       "      <td>1.0</td>\n",
       "      <td>49.0</td>\n",
       "      <td>18.70047</td>\n",
       "      <td>15.23178</td>\n",
       "      <td>35.41996</td>\n",
       "      <td>40.39735</td>\n",
       "      <td>5.86370</td>\n",
       "    </tr>\n",
       "    <tr>\n",
       "      <th>1</th>\n",
       "      <td>2022-03-01 00:14:14</td>\n",
       "      <td>0.0</td>\n",
       "      <td>52.0</td>\n",
       "      <td>21.48541</td>\n",
       "      <td>13.75000</td>\n",
       "      <td>44.42970</td>\n",
       "      <td>45.00000</td>\n",
       "      <td>6.36604</td>\n",
       "    </tr>\n",
       "  </tbody>\n",
       "</table>\n",
       "</div>"
      ],
      "text/plain": [
       "          insert_time  gender   age   대출총괄_mo   대출총괄_pc  주택관련대출_mo  주택관련대출_pc  \\\n",
       "0 2022-03-01 00:11:35     1.0  49.0  18.70047  15.23178   35.41996   40.39735   \n",
       "1 2022-03-01 00:14:14     0.0  52.0  21.48541  13.75000   44.42970   45.00000   \n",
       "\n",
       "   자동차대출_mo  \n",
       "0   5.86370  \n",
       "1   6.36604  "
      ]
     },
     "execution_count": 20,
     "metadata": {},
     "output_type": "execute_result"
    }
   ],
   "source": [
    "# 병합 잘 되었는지 확인 \n",
    "train_merged2[['insert_time','gender','age',\n",
    "              '대출총괄_mo','대출총괄_pc','주택관련대출_mo','주택관련대출_pc','자동차대출_mo']].head(2)"
   ]
  },
  {
   "cell_type": "code",
   "execution_count": 21,
   "metadata": {
    "ExecuteTime": {
     "end_time": "2022-10-13T18:50:34.057679Z",
     "start_time": "2022-10-13T18:50:33.917949Z"
    },
    "hidden": true
   },
   "outputs": [
    {
     "data": {
      "text/html": [
       "<div>\n",
       "<style scoped>\n",
       "    .dataframe tbody tr th:only-of-type {\n",
       "        vertical-align: middle;\n",
       "    }\n",
       "\n",
       "    .dataframe tbody tr th {\n",
       "        vertical-align: top;\n",
       "    }\n",
       "\n",
       "    .dataframe thead th {\n",
       "        text-align: right;\n",
       "    }\n",
       "</style>\n",
       "<table border=\"1\" class=\"dataframe\">\n",
       "  <thead>\n",
       "    <tr style=\"text-align: right;\">\n",
       "      <th></th>\n",
       "      <th>insert_time</th>\n",
       "      <th>gender</th>\n",
       "      <th>age</th>\n",
       "      <th>대출총괄_mo</th>\n",
       "      <th>대출총괄_pc</th>\n",
       "      <th>주택관련대출_mo</th>\n",
       "      <th>주택관련대출_pc</th>\n",
       "      <th>자동차대출_mo</th>\n",
       "    </tr>\n",
       "  </thead>\n",
       "  <tbody>\n",
       "    <tr>\n",
       "      <th>10264347</th>\n",
       "      <td>2022-05-30 16:48:09</td>\n",
       "      <td>0.0</td>\n",
       "      <td>48.0</td>\n",
       "      <td>11.12107</td>\n",
       "      <td>3.2258</td>\n",
       "      <td>42.51121</td>\n",
       "      <td>11.29032</td>\n",
       "      <td>3.94618</td>\n",
       "    </tr>\n",
       "    <tr>\n",
       "      <th>10264348</th>\n",
       "      <td>2022-05-30 16:48:09</td>\n",
       "      <td>0.0</td>\n",
       "      <td>48.0</td>\n",
       "      <td>11.12107</td>\n",
       "      <td>3.2258</td>\n",
       "      <td>42.51121</td>\n",
       "      <td>11.29032</td>\n",
       "      <td>3.94618</td>\n",
       "    </tr>\n",
       "  </tbody>\n",
       "</table>\n",
       "</div>"
      ],
      "text/plain": [
       "                 insert_time  gender   age   대출총괄_mo  대출총괄_pc  주택관련대출_mo  \\\n",
       "10264347 2022-05-30 16:48:09     0.0  48.0  11.12107   3.2258   42.51121   \n",
       "10264348 2022-05-30 16:48:09     0.0  48.0  11.12107   3.2258   42.51121   \n",
       "\n",
       "          주택관련대출_pc  자동차대출_mo  \n",
       "10264347   11.29032   3.94618  \n",
       "10264348   11.29032   3.94618  "
      ]
     },
     "execution_count": 21,
     "metadata": {},
     "output_type": "execute_result"
    }
   ],
   "source": [
    "train_merged2[['insert_time','gender','age',\n",
    "              '대출총괄_mo','대출총괄_pc','주택관련대출_mo','주택관련대출_pc','자동차대출_mo']].tail(2)"
   ]
  },
  {
   "cell_type": "code",
   "execution_count": 22,
   "metadata": {
    "ExecuteTime": {
     "end_time": "2022-10-13T18:51:57.314338Z",
     "start_time": "2022-10-13T18:51:57.252333Z"
    },
    "hidden": true
   },
   "outputs": [
    {
     "data": {
      "text/html": [
       "<div>\n",
       "<style scoped>\n",
       "    .dataframe tbody tr th:only-of-type {\n",
       "        vertical-align: middle;\n",
       "    }\n",
       "\n",
       "    .dataframe tbody tr th {\n",
       "        vertical-align: top;\n",
       "    }\n",
       "\n",
       "    .dataframe thead th {\n",
       "        text-align: right;\n",
       "    }\n",
       "</style>\n",
       "<table border=\"1\" class=\"dataframe\">\n",
       "  <thead>\n",
       "    <tr style=\"text-align: right;\">\n",
       "      <th></th>\n",
       "      <th>insert_time</th>\n",
       "      <th>gender</th>\n",
       "      <th>age</th>\n",
       "      <th>대출총괄_mo</th>\n",
       "      <th>대출총괄_pc</th>\n",
       "      <th>주택관련대출_mo</th>\n",
       "      <th>주택관련대출_pc</th>\n",
       "      <th>자동차대출_mo</th>\n",
       "    </tr>\n",
       "  </thead>\n",
       "  <tbody>\n",
       "    <tr>\n",
       "      <th>0</th>\n",
       "      <td>2022-06-01 00:12:23</td>\n",
       "      <td>0.0</td>\n",
       "      <td>60.0</td>\n",
       "      <td>21.30177</td>\n",
       "      <td>25.64102</td>\n",
       "      <td>29.58579</td>\n",
       "      <td>35.89743</td>\n",
       "      <td>6.21301</td>\n",
       "    </tr>\n",
       "    <tr>\n",
       "      <th>1</th>\n",
       "      <td>2022-06-01 00:18:03</td>\n",
       "      <td>0.0</td>\n",
       "      <td>58.0</td>\n",
       "      <td>19.65517</td>\n",
       "      <td>5.40540</td>\n",
       "      <td>60.68965</td>\n",
       "      <td>59.45945</td>\n",
       "      <td>11.72413</td>\n",
       "    </tr>\n",
       "  </tbody>\n",
       "</table>\n",
       "</div>"
      ],
      "text/plain": [
       "          insert_time  gender   age   대출총괄_mo   대출총괄_pc  주택관련대출_mo  주택관련대출_pc  \\\n",
       "0 2022-06-01 00:12:23     0.0  60.0  21.30177  25.64102   29.58579   35.89743   \n",
       "1 2022-06-01 00:18:03     0.0  58.0  19.65517   5.40540   60.68965   59.45945   \n",
       "\n",
       "   자동차대출_mo  \n",
       "0   6.21301  \n",
       "1  11.72413  "
      ]
     },
     "execution_count": 22,
     "metadata": {},
     "output_type": "execute_result"
    }
   ],
   "source": [
    "test_merged2[['insert_time','gender','age',\n",
    "              '대출총괄_mo','대출총괄_pc','주택관련대출_mo','주택관련대출_pc','자동차대출_mo']].head(2)"
   ]
  },
  {
   "cell_type": "code",
   "execution_count": 23,
   "metadata": {
    "ExecuteTime": {
     "end_time": "2022-10-13T18:53:22.224911Z",
     "start_time": "2022-10-13T18:53:22.164392Z"
    },
    "hidden": true
   },
   "outputs": [
    {
     "data": {
      "text/html": [
       "<div>\n",
       "<style scoped>\n",
       "    .dataframe tbody tr th:only-of-type {\n",
       "        vertical-align: middle;\n",
       "    }\n",
       "\n",
       "    .dataframe tbody tr th {\n",
       "        vertical-align: top;\n",
       "    }\n",
       "\n",
       "    .dataframe thead th {\n",
       "        text-align: right;\n",
       "    }\n",
       "</style>\n",
       "<table border=\"1\" class=\"dataframe\">\n",
       "  <thead>\n",
       "    <tr style=\"text-align: right;\">\n",
       "      <th></th>\n",
       "      <th>insert_time</th>\n",
       "      <th>gender</th>\n",
       "      <th>age</th>\n",
       "      <th>대출총괄_mo</th>\n",
       "      <th>대출총괄_pc</th>\n",
       "      <th>주택관련대출_mo</th>\n",
       "      <th>주택관련대출_pc</th>\n",
       "      <th>자동차대출_mo</th>\n",
       "    </tr>\n",
       "  </thead>\n",
       "  <tbody>\n",
       "    <tr>\n",
       "      <th>3255480</th>\n",
       "      <td>2022-06-30 12:56:53</td>\n",
       "      <td>1.0</td>\n",
       "      <td>29.0</td>\n",
       "      <td>40.68767</td>\n",
       "      <td>41.78674</td>\n",
       "      <td>43.91117</td>\n",
       "      <td>58.50144</td>\n",
       "      <td>11.53295</td>\n",
       "    </tr>\n",
       "    <tr>\n",
       "      <th>3255481</th>\n",
       "      <td>2022-06-30 20:36:10</td>\n",
       "      <td>1.0</td>\n",
       "      <td>27.0</td>\n",
       "      <td>40.68767</td>\n",
       "      <td>41.78674</td>\n",
       "      <td>43.91117</td>\n",
       "      <td>58.50144</td>\n",
       "      <td>11.53295</td>\n",
       "    </tr>\n",
       "  </tbody>\n",
       "</table>\n",
       "</div>"
      ],
      "text/plain": [
       "                insert_time  gender   age   대출총괄_mo   대출총괄_pc  주택관련대출_mo  \\\n",
       "3255480 2022-06-30 12:56:53     1.0  29.0  40.68767  41.78674   43.91117   \n",
       "3255481 2022-06-30 20:36:10     1.0  27.0  40.68767  41.78674   43.91117   \n",
       "\n",
       "         주택관련대출_pc  자동차대출_mo  \n",
       "3255480   58.50144  11.53295  \n",
       "3255481   58.50144  11.53295  "
      ]
     },
     "execution_count": 23,
     "metadata": {},
     "output_type": "execute_result"
    }
   ],
   "source": [
    "test_merged2[['insert_time','gender','age',\n",
    "              '대출총괄_mo','대출총괄_pc','주택관련대출_mo','주택관련대출_pc','자동차대출_mo']].tail(2)"
   ]
  },
  {
   "cell_type": "code",
   "execution_count": 24,
   "metadata": {
    "ExecuteTime": {
     "end_time": "2022-10-13T18:54:45.458173Z",
     "start_time": "2022-10-13T18:54:45.443534Z"
    },
    "hidden": true
   },
   "outputs": [
    {
     "name": "stdout",
     "output_type": "stream",
     "text": [
      "train 의 shape:  (10264349, 35)\n",
      "train_merged 의 shape:  (10264349, 42)\n"
     ]
    }
   ],
   "source": [
    "print('train 의 shape: ', train_merged1.shape)\n",
    "print('train_merged 의 shape: ', train_merged2.shape)\n",
    "\n",
    "## 5영역의 키워드*2개의 디바이스 = 10개 열 차이가 나야함. \n",
    "## 그런데 전처리 과정에서 3개 열('insert_time_lag1','gender2','age_band')을 생성했으므로, \n",
    "## 7개 열 차이 나면 문제 없음. "
   ]
  },
  {
   "cell_type": "code",
   "execution_count": 25,
   "metadata": {
    "ExecuteTime": {
     "end_time": "2022-10-13T18:56:06.293552Z",
     "start_time": "2022-10-13T18:56:06.215738Z"
    },
    "hidden": true
   },
   "outputs": [],
   "source": [
    "# del train_merged\n",
    "# del test_merged"
   ]
  },
  {
   "cell_type": "markdown",
   "metadata": {},
   "source": [
    "## 로그데이터\n",
    "#### train_log 데이터 설명\n",
    "\n",
    "- 세션의 기준\n",
    "    - 아무런 활동을 하지 않을 경우 15분 후 만료 \n",
    "    - 계속 활동할 경우에는 15분 이상인 세션도 있음 \n",
    "\n",
    "- 범주형: application_id, user_id, mp_os\n",
    "- 수치형\n",
    "    - Session: 해당일 기준으로 몇 번째 세션인가, \n",
    "    - how_long: 가입한 지 며칠 째인가\n",
    "    - visit_cumsum: 일자 기준 방문횟수\n",
    "    - from_last_visit: 재방문 시간(일자 기준)  ----- (from_last_visit_time 과 약간 중복됨)\n",
    "    - visit_rate: visit_cumsum / how_long(누적 방문횟수 / 가입기간) = 가입기간 대비 얼마나 방문했는가 \n",
    "    - session_sum: 현재까지의 총 세션 수 (누적)\n",
    "    - session_avg: 현재까지의 일별 평균 세션 수 \n",
    "    - 유저 행동 건수_1: CompleteIDCertification_1, EndLoanApply_1, Error_1, Error2_1, GetCreditInfo_1 등 \n",
    "    - events_1: 유저 행동 순열을 _로 연결한 것\n",
    "    - cumsum_1: CompleteIDCertification_cumsum_1, EndLoanApply_cumsum_1 등 \n",
    "    - 유저 행동 건수_2: CompleteIDCertification_2, EndLoanApply_2, Error_2, Error2_2, GetCreditInfo_2 등\n",
    "    - events_2: 유저 행동 순열을 _로 연결한 것\n",
    "    - cumsum_2: CompleteIDCertification_cumsum_2, EndLoanApply_cumsum_2 등 \n",
    "- 날짜형\n",
    "    - insert_time(ymd hms), date(ymd)\n",
    "    - connect_time: application을 작성한 시간, 하나의 세션 내에서 첫 번째 행동과 마지막 행동의 시간차(일 시분초 기준) \n",
    "    - from_last_visit_time: 재방문 시간(일 시분초 기준) "
   ]
  },
  {
   "cell_type": "markdown",
   "metadata": {},
   "source": [
    "### 로그 데이터 병합을 위한 전처리"
   ]
  },
  {
   "cell_type": "code",
   "execution_count": 26,
   "metadata": {
    "ExecuteTime": {
     "end_time": "2022-10-13T18:57:09.517643Z",
     "start_time": "2022-10-13T18:57:09.502684Z"
    }
   },
   "outputs": [
    {
     "data": {
      "text/plain": [
       "Index(['application_id', 'user_id', 'insert_time', 'mp_os', 'Session', 'date',\n",
       "       'how_long', 'visit_cumsum', 'from_last_visit', 'visit_rate',\n",
       "       'session_sum', 'session_avg', 'before_apply_count', 'before_7days',\n",
       "       'before_30days', 'event_count1', 'event_group1', 'connect_time_s',\n",
       "       'from_last_visit_time_s', 'Error2', 'OpenApp', 'GetCreditInfo',\n",
       "       'UseLoanManage', 'UsePrepayCalc', 'StartLoanApply',\n",
       "       'ViewLoanApplyIntro', 'CompleteIDCertification', 'EndLoanApply',\n",
       "       'Login', 'SignUp', 'UseDSRCalc', 'Error'],\n",
       "      dtype='object')"
      ]
     },
     "execution_count": 26,
     "metadata": {},
     "output_type": "execute_result"
    }
   ],
   "source": [
    "log_data_train.columns"
   ]
  },
  {
   "cell_type": "code",
   "execution_count": 27,
   "metadata": {
    "ExecuteTime": {
     "end_time": "2022-10-13T18:58:12.555114Z",
     "start_time": "2022-10-13T18:58:12.540164Z"
    }
   },
   "outputs": [
    {
     "data": {
      "text/plain": [
       "Index(['application_id', 'user_id', 'insert_time', 'mp_os', 'Session', 'date',\n",
       "       'how_long', 'visit_cumsum', 'from_last_visit', 'visit_rate',\n",
       "       'session_sum', 'session_avg', 'before_apply_count', 'before_7days',\n",
       "       'before_30days', 'event_count1', 'event_group1', 'connect_time_s',\n",
       "       'from_last_visit_time_s', 'Error2', 'OpenApp', 'GetCreditInfo',\n",
       "       'UseLoanManage', 'UsePrepayCalc', 'StartLoanApply',\n",
       "       'ViewLoanApplyIntro', 'CompleteIDCertification', 'EndLoanApply',\n",
       "       'Login', 'SignUp', 'UseDSRCalc', 'Error'],\n",
       "      dtype='object')"
      ]
     },
     "execution_count": 27,
     "metadata": {},
     "output_type": "execute_result"
    }
   ],
   "source": [
    "log_data_test.columns"
   ]
  },
  {
   "cell_type": "code",
   "execution_count": 28,
   "metadata": {
    "ExecuteTime": {
     "end_time": "2022-10-13T17:40:54.137981Z",
     "start_time": "2022-10-13T17:40:54.123495Z"
    }
   },
   "outputs": [],
   "source": [
    "# ## '_2'로 끝나는 컬럼 삭제 \n",
    "# log_data_test2.loc[:, ~log_data_test2.columns.str.endswith('_2')].head(2)"
   ]
  },
  {
   "cell_type": "code",
   "execution_count": 29,
   "metadata": {
    "ExecuteTime": {
     "end_time": "2022-10-13T17:41:10.674728Z",
     "start_time": "2022-10-13T17:41:10.660009Z"
    }
   },
   "outputs": [],
   "source": [
    "# ## 1) cumsum_list \n",
    "\n",
    "# cumsum_list = log_data_test2.columns[log_data_test2.columns.str.endswith('cumsum_2')] \n",
    "# log_data_test2[cumsum_list].columns.str.rstrip('_2') \n"
   ]
  },
  {
   "cell_type": "code",
   "execution_count": 30,
   "metadata": {
    "ExecuteTime": {
     "end_time": "2022-10-13T18:59:15.923518Z",
     "start_time": "2022-10-13T18:59:15.766575Z"
    }
   },
   "outputs": [],
   "source": [
    "## train, test 로그 데이터 병합\n",
    "log_data = pd.concat([log_data_train, log_data_test], axis=0) "
   ]
  },
  {
   "cell_type": "code",
   "execution_count": 31,
   "metadata": {
    "ExecuteTime": {
     "end_time": "2022-10-13T19:00:21.299133Z",
     "start_time": "2022-10-13T19:00:20.746925Z"
    }
   },
   "outputs": [],
   "source": [
    "## 0) 날짜형 변환 \n",
    "log_data['insert_time'] = pd.to_datetime(log_data['insert_time'])\n",
    "log_data['date'] = pd.to_datetime(log_data['date']) \n",
    "\n",
    "## 0) 변수 삭제 (용량줄이기) \n",
    "\n",
    "## 1) mp_os 변수 결측치 \"unknown\"으로 채우기 \n",
    "log_data['mp_os'].fillna(\"unknown\", inplace=True)\n",
    "\n",
    "# ## 2) 초 단위로 connect_time, from_last_visit_time 변환 \n",
    "# log_data['connect_time_s'] = (pd.to_timedelta(log_data['connect_time']) / np.timedelta64(1, 's')).astype(int)\n",
    "# log_data['from_last_visit_time_s'] =(pd.to_timedelta(log_data['from_last_visit_time']) / np.timedelta64(1, 's')).astype(int)\n",
    "# log_data.drop(['connect_time','from_last_visit_time'], axis=1,inplace=True)\n",
    "\n",
    "## 3) 병합을 위해 데이터형 변환 \n",
    "log_data['application_id'] = log_data['application_id'].astype(int)\n",
    "log_data['insert_time'] = pd.to_datetime(log_data['insert_time']) "
   ]
  },
  {
   "cell_type": "code",
   "execution_count": 32,
   "metadata": {
    "ExecuteTime": {
     "end_time": "2022-10-13T19:01:26.216040Z",
     "start_time": "2022-10-13T19:01:26.201900Z"
    },
    "scrolled": true
   },
   "outputs": [
    {
     "data": {
      "text/html": [
       "<div>\n",
       "<style scoped>\n",
       "    .dataframe tbody tr th:only-of-type {\n",
       "        vertical-align: middle;\n",
       "    }\n",
       "\n",
       "    .dataframe tbody tr th {\n",
       "        vertical-align: top;\n",
       "    }\n",
       "\n",
       "    .dataframe thead th {\n",
       "        text-align: right;\n",
       "    }\n",
       "</style>\n",
       "<table border=\"1\" class=\"dataframe\">\n",
       "  <thead>\n",
       "    <tr style=\"text-align: right;\">\n",
       "      <th></th>\n",
       "      <th>application_id</th>\n",
       "      <th>user_id</th>\n",
       "      <th>insert_time</th>\n",
       "      <th>mp_os</th>\n",
       "      <th>Session</th>\n",
       "      <th>date</th>\n",
       "      <th>how_long</th>\n",
       "      <th>visit_cumsum</th>\n",
       "      <th>from_last_visit</th>\n",
       "      <th>visit_rate</th>\n",
       "      <th>...</th>\n",
       "      <th>UseLoanManage</th>\n",
       "      <th>UsePrepayCalc</th>\n",
       "      <th>StartLoanApply</th>\n",
       "      <th>ViewLoanApplyIntro</th>\n",
       "      <th>CompleteIDCertification</th>\n",
       "      <th>EndLoanApply</th>\n",
       "      <th>Login</th>\n",
       "      <th>SignUp</th>\n",
       "      <th>UseDSRCalc</th>\n",
       "      <th>Error</th>\n",
       "    </tr>\n",
       "  </thead>\n",
       "  <tbody>\n",
       "    <tr>\n",
       "      <th>0</th>\n",
       "      <td>248576</td>\n",
       "      <td>9</td>\n",
       "      <td>2022-05-21 23:41:09</td>\n",
       "      <td>Android</td>\n",
       "      <td>1.0</td>\n",
       "      <td>2022-05-21</td>\n",
       "      <td>1</td>\n",
       "      <td>0.0</td>\n",
       "      <td>0.0</td>\n",
       "      <td>0.0</td>\n",
       "      <td>...</td>\n",
       "      <td>0.0</td>\n",
       "      <td>0.0</td>\n",
       "      <td>0.0</td>\n",
       "      <td>0.0</td>\n",
       "      <td>0.0</td>\n",
       "      <td>0.0</td>\n",
       "      <td>0.0</td>\n",
       "      <td>0.0</td>\n",
       "      <td>0.0</td>\n",
       "      <td>0.0</td>\n",
       "    </tr>\n",
       "    <tr>\n",
       "      <th>1</th>\n",
       "      <td>1180616</td>\n",
       "      <td>11</td>\n",
       "      <td>2022-03-24 10:58:22</td>\n",
       "      <td>iOS</td>\n",
       "      <td>1.0</td>\n",
       "      <td>2022-03-24</td>\n",
       "      <td>1</td>\n",
       "      <td>0.0</td>\n",
       "      <td>0.0</td>\n",
       "      <td>0.0</td>\n",
       "      <td>...</td>\n",
       "      <td>0.0</td>\n",
       "      <td>0.0</td>\n",
       "      <td>0.0</td>\n",
       "      <td>0.0</td>\n",
       "      <td>0.0</td>\n",
       "      <td>0.0</td>\n",
       "      <td>0.0</td>\n",
       "      <td>0.0</td>\n",
       "      <td>0.0</td>\n",
       "      <td>0.0</td>\n",
       "    </tr>\n",
       "  </tbody>\n",
       "</table>\n",
       "<p>2 rows × 32 columns</p>\n",
       "</div>"
      ],
      "text/plain": [
       "   application_id  user_id         insert_time    mp_os  Session       date  \\\n",
       "0          248576        9 2022-05-21 23:41:09  Android      1.0 2022-05-21   \n",
       "1         1180616       11 2022-03-24 10:58:22      iOS      1.0 2022-03-24   \n",
       "\n",
       "   how_long  visit_cumsum  from_last_visit  visit_rate  ...  UseLoanManage  \\\n",
       "0         1           0.0              0.0         0.0  ...            0.0   \n",
       "1         1           0.0              0.0         0.0  ...            0.0   \n",
       "\n",
       "   UsePrepayCalc  StartLoanApply  ViewLoanApplyIntro  CompleteIDCertification  \\\n",
       "0            0.0             0.0                 0.0                      0.0   \n",
       "1            0.0             0.0                 0.0                      0.0   \n",
       "\n",
       "   EndLoanApply  Login  SignUp  UseDSRCalc  Error  \n",
       "0           0.0    0.0     0.0         0.0    0.0  \n",
       "1           0.0    0.0     0.0         0.0    0.0  \n",
       "\n",
       "[2 rows x 32 columns]"
      ]
     },
     "execution_count": 32,
     "metadata": {},
     "output_type": "execute_result"
    }
   ],
   "source": [
    "log_data.head(2)"
   ]
  },
  {
   "cell_type": "code",
   "execution_count": 33,
   "metadata": {
    "ExecuteTime": {
     "end_time": "2022-10-13T19:02:33.835578Z",
     "start_time": "2022-10-13T19:02:33.820618Z"
    },
    "scrolled": true
   },
   "outputs": [
    {
     "name": "stdout",
     "output_type": "stream",
     "text": [
      "(728860, 32)\n",
      "(239865, 32)\n",
      "(968725, 32)\n"
     ]
    }
   ],
   "source": [
    "print(log_data_train.shape)\n",
    "print(log_data_test.shape)\n",
    "print(log_data.shape)  # connect_time_s, from_last_visit_time_s 가 생성되어 "
   ]
  },
  {
   "cell_type": "code",
   "execution_count": 34,
   "metadata": {
    "ExecuteTime": {
     "end_time": "2022-10-13T19:03:33.892770Z",
     "start_time": "2022-10-13T19:03:33.878685Z"
    }
   },
   "outputs": [],
   "source": [
    "# # _1 로 끝나는 변수들 \n",
    "# train_log.columns[train_log.columns.str.endswith('_1')]"
   ]
  },
  {
   "cell_type": "markdown",
   "metadata": {
    "heading_collapsed": true
   },
   "source": [
    "### 기존 train/test와 log 데이터를 병합"
   ]
  },
  {
   "cell_type": "code",
   "execution_count": 35,
   "metadata": {
    "ExecuteTime": {
     "end_time": "2022-10-13T19:04:32.189050Z",
     "start_time": "2022-10-13T19:04:32.174091Z"
    },
    "hidden": true
   },
   "outputs": [],
   "source": [
    "def LogMerge(data):\n",
    "    \n",
    "    data_merged = pd.merge(data, log_data.drop(['date'], axis=1),\n",
    "                         how='left', on=['application_id','user_id','insert_time'])  \n",
    "    \n",
    "    print('Log Data merged.')\n",
    "    \n",
    "    return data_merged"
   ]
  },
  {
   "cell_type": "code",
   "execution_count": 36,
   "metadata": {
    "ExecuteTime": {
     "end_time": "2022-10-13T19:05:35.283530Z",
     "start_time": "2022-10-13T19:05:31.051370Z"
    },
    "hidden": true
   },
   "outputs": [
    {
     "name": "stdout",
     "output_type": "stream",
     "text": [
      "Log Data merged.\n",
      "Log Data merged.\n"
     ]
    }
   ],
   "source": [
    "train_merged_log = LogMerge(train_merged2)\n",
    "test_merged_log = LogMerge(test_merged2) "
   ]
  },
  {
   "cell_type": "code",
   "execution_count": 37,
   "metadata": {
    "ExecuteTime": {
     "end_time": "2022-10-13T19:07:00.184025Z",
     "start_time": "2022-10-13T19:07:00.153074Z"
    },
    "hidden": true
   },
   "outputs": [
    {
     "name": "stdout",
     "output_type": "stream",
     "text": [
      "0\n",
      "0\n",
      "0\n",
      "0\n"
     ]
    }
   ],
   "source": [
    "# 잘 병합되었는지, na는 없는지 체크 \n",
    "print(train_merged_log['connect_time_s'].isna().sum())\n",
    "print(train_merged_log['from_last_visit_time_s'].isna().sum())\n",
    "\n",
    "print(test_merged_log['connect_time_s'].isna().sum())\n",
    "print(test_merged_log['from_last_visit_time_s'].isna().sum())"
   ]
  },
  {
   "cell_type": "code",
   "execution_count": 38,
   "metadata": {
    "ExecuteTime": {
     "end_time": "2022-10-13T19:08:25.847906Z",
     "start_time": "2022-10-13T19:08:21.793530Z"
    },
    "hidden": true,
    "scrolled": true
   },
   "outputs": [
    {
     "data": {
      "text/html": [
       "<div>\n",
       "<style scoped>\n",
       "    .dataframe tbody tr th:only-of-type {\n",
       "        vertical-align: middle;\n",
       "    }\n",
       "\n",
       "    .dataframe tbody tr th {\n",
       "        vertical-align: top;\n",
       "    }\n",
       "\n",
       "    .dataframe thead th {\n",
       "        text-align: right;\n",
       "    }\n",
       "</style>\n",
       "<table border=\"1\" class=\"dataframe\">\n",
       "  <thead>\n",
       "    <tr style=\"text-align: right;\">\n",
       "      <th></th>\n",
       "      <th>application_id</th>\n",
       "      <th>user_id</th>\n",
       "      <th>loanapply_insert_time</th>\n",
       "      <th>insert_time</th>\n",
       "      <th>Session</th>\n",
       "    </tr>\n",
       "  </thead>\n",
       "  <tbody>\n",
       "    <tr>\n",
       "      <th>0</th>\n",
       "      <td>566528</td>\n",
       "      <td>681184</td>\n",
       "      <td>2022-03-01 00:11:36</td>\n",
       "      <td>2022-03-01 00:11:35</td>\n",
       "      <td>1.0</td>\n",
       "    </tr>\n",
       "    <tr>\n",
       "      <th>1</th>\n",
       "      <td>38545</td>\n",
       "      <td>477093</td>\n",
       "      <td>2022-03-01 00:14:15</td>\n",
       "      <td>2022-03-01 00:14:14</td>\n",
       "      <td>1.0</td>\n",
       "    </tr>\n",
       "  </tbody>\n",
       "</table>\n",
       "</div>"
      ],
      "text/plain": [
       "   application_id  user_id loanapply_insert_time         insert_time  Session\n",
       "0          566528   681184   2022-03-01 00:11:36 2022-03-01 00:11:35      1.0\n",
       "1           38545   477093   2022-03-01 00:14:15 2022-03-01 00:14:14      1.0"
      ]
     },
     "execution_count": 38,
     "metadata": {},
     "output_type": "execute_result"
    }
   ],
   "source": [
    "train_merged_log[['application_id','user_id','loanapply_insert_time','insert_time','Session']].head(2)"
   ]
  },
  {
   "cell_type": "code",
   "execution_count": 39,
   "metadata": {
    "ExecuteTime": {
     "end_time": "2022-10-13T19:09:55.524248Z",
     "start_time": "2022-10-13T19:09:54.544441Z"
    },
    "hidden": true
   },
   "outputs": [
    {
     "data": {
      "text/html": [
       "<div>\n",
       "<style scoped>\n",
       "    .dataframe tbody tr th:only-of-type {\n",
       "        vertical-align: middle;\n",
       "    }\n",
       "\n",
       "    .dataframe tbody tr th {\n",
       "        vertical-align: top;\n",
       "    }\n",
       "\n",
       "    .dataframe thead th {\n",
       "        text-align: right;\n",
       "    }\n",
       "</style>\n",
       "<table border=\"1\" class=\"dataframe\">\n",
       "  <thead>\n",
       "    <tr style=\"text-align: right;\">\n",
       "      <th></th>\n",
       "      <th>application_id</th>\n",
       "      <th>user_id</th>\n",
       "      <th>loanapply_insert_time</th>\n",
       "      <th>insert_time</th>\n",
       "      <th>Session</th>\n",
       "    </tr>\n",
       "  </thead>\n",
       "  <tbody>\n",
       "    <tr>\n",
       "      <th>0</th>\n",
       "      <td>1255231</td>\n",
       "      <td>694012</td>\n",
       "      <td>2022-06-01 00:12:24</td>\n",
       "      <td>2022-06-01 00:12:23</td>\n",
       "      <td>1.0</td>\n",
       "    </tr>\n",
       "    <tr>\n",
       "      <th>1</th>\n",
       "      <td>588236</td>\n",
       "      <td>778437</td>\n",
       "      <td>2022-06-01 00:18:03</td>\n",
       "      <td>2022-06-01 00:18:03</td>\n",
       "      <td>1.0</td>\n",
       "    </tr>\n",
       "  </tbody>\n",
       "</table>\n",
       "</div>"
      ],
      "text/plain": [
       "   application_id  user_id loanapply_insert_time         insert_time  Session\n",
       "0         1255231   694012   2022-06-01 00:12:24 2022-06-01 00:12:23      1.0\n",
       "1          588236   778437   2022-06-01 00:18:03 2022-06-01 00:18:03      1.0"
      ]
     },
     "execution_count": 39,
     "metadata": {},
     "output_type": "execute_result"
    }
   ],
   "source": [
    "test_merged_log[['application_id','user_id','loanapply_insert_time','insert_time','Session']].head(2)"
   ]
  },
  {
   "cell_type": "code",
   "execution_count": 40,
   "metadata": {
    "ExecuteTime": {
     "end_time": "2022-10-13T19:11:13.198379Z",
     "start_time": "2022-10-13T19:11:13.180537Z"
    },
    "hidden": true
   },
   "outputs": [
    {
     "name": "stdout",
     "output_type": "stream",
     "text": [
      "(10264349, 70)\n",
      "(3255482, 70)\n"
     ]
    }
   ],
   "source": [
    "print(train_merged_log.shape)\n",
    "print(test_merged_log.shape)"
   ]
  },
  {
   "cell_type": "code",
   "execution_count": 41,
   "metadata": {
    "ExecuteTime": {
     "end_time": "2022-10-13T19:12:40.039315Z",
     "start_time": "2022-10-13T19:12:40.024351Z"
    },
    "hidden": true,
    "scrolled": true
   },
   "outputs": [
    {
     "data": {
      "text/plain": [
       "Index(['application_id', 'loanapply_insert_time', 'bank_id', 'product_id',\n",
       "       'loan_limit', 'loan_rate', 'is_applied', 'user_id', 'birth_year',\n",
       "       'gender', 'insert_time', 'credit_score', 'yearly_income', 'income_type',\n",
       "       'company_enter_month', 'employment_type', 'houseown_type',\n",
       "       'desired_amount', 'purpose', 'personal_rehabilitation_yn',\n",
       "       'personal_rehabilitation_complete_yn', 'existing_loan_cnt',\n",
       "       'existing_loan_amt', 'isjob', 'loanapply_insert_time_s', 'bank_cumcnt',\n",
       "       'bank_popularity', 'product_cumcnt', 'product_popularity', 'bank_group',\n",
       "       'product_group', 'age', '대출총괄_mo', '대출총괄_pc', '주택관련대출_mo', '주택관련대출_pc',\n",
       "       '자동차대출_mo', '자동차대출_pc', '대환대출_mo', '대환대출_pc', '핀다대출외서비스_mo',\n",
       "       '핀다대출외서비스_pc', 'mp_os', 'Session', 'how_long', 'visit_cumsum',\n",
       "       'from_last_visit', 'visit_rate', 'session_sum', 'session_avg',\n",
       "       'before_apply_count', 'before_7days', 'before_30days', 'event_count1',\n",
       "       'event_group1', 'connect_time_s', 'from_last_visit_time_s', 'Error2',\n",
       "       'OpenApp', 'GetCreditInfo', 'UseLoanManage', 'UsePrepayCalc',\n",
       "       'StartLoanApply', 'ViewLoanApplyIntro', 'CompleteIDCertification',\n",
       "       'EndLoanApply', 'Login', 'SignUp', 'UseDSRCalc', 'Error'],\n",
       "      dtype='object')"
      ]
     },
     "execution_count": 41,
     "metadata": {},
     "output_type": "execute_result"
    }
   ],
   "source": [
    "train_merged_log.columns "
   ]
  },
  {
   "cell_type": "markdown",
   "metadata": {
    "heading_collapsed": true
   },
   "source": [
    "## 날짜형 데이터 전처리"
   ]
  },
  {
   "cell_type": "code",
   "execution_count": 42,
   "metadata": {
    "ExecuteTime": {
     "end_time": "2022-10-13T19:14:11.630495Z",
     "start_time": "2022-10-13T19:14:11.587639Z"
    },
    "hidden": true
   },
   "outputs": [],
   "source": [
    "# 1) insert_time 시간대 분류 정의 (EDA 결과를 바탕으로)\n",
    "hour_c1 = [19,20,21,22,23]  # 19~23, 저녁시간대 \n",
    "hour_c2 = [11,12,13,14,15,16,17,18] # 11~18, 근무시간대 \n",
    "hour_c3 = [1,6,7,8,9,10] # 6~10,1, 1과 오전시간대 \n",
    "hour_c4 = [0,2,3,4,5] # 1 제외 새벽 시간대 \n",
    "\n",
    "# 2) 공휴일 데이터 불러오기 \n",
    "is_holiday_df = pd.read_csv('/Users/baeknarim/데이터분석분야_퓨처스부문_포포나무팀/추가제출파일/DATA/외부데이터/df_holiday_2022.csv')\n",
    "is_holiday_df['yyyymmdd'] = pd.to_datetime(is_holiday_df['yyyymmdd']) \n",
    "is_holiday_df.drop(['이름', '요일'],axis=1,inplace=True)\n",
    "\n",
    "## 공휴일인 일자를 리스트로 저장 \n",
    "is_holida_list = is_holiday_df['yyyymmdd'].tolist()\n"
   ]
  },
  {
   "cell_type": "code",
   "execution_count": 43,
   "metadata": {
    "ExecuteTime": {
     "end_time": "2022-10-13T19:15:51.284401Z",
     "start_time": "2022-10-13T19:15:51.255239Z"
    },
    "code_folding": [
     2
    ],
    "hidden": true
   },
   "outputs": [],
   "source": [
    "# 날짜형 데이터 전처리 (loanapply_insert_time, insert_time 이 결측인 경우가 있어서, 결측 처리 후 전처리 진행)\n",
    "\n",
    "def DatesPreprocess(data):\n",
    "    \n",
    "    ## 0) 날짜형 변환 \n",
    "    data['loanapply_insert_time'] = pd.to_datetime(data['loanapply_insert_time'])\n",
    "    data['insert_time'] = pd.to_datetime(data['insert_time'])\n",
    "    \n",
    "    ## 1) insert_time -> 월,일,시간,시간대,요일 (5개)\n",
    "    data['insert_time_month'] = data['insert_time'].dt.month \n",
    "    data['insert_time_day'] = data['insert_time'].dt.day \n",
    "    data['insert_time_hour'] = data['insert_time'].dt.hour\n",
    "    data['insert_time_weekday'] = data['insert_time'].dt.weekday\n",
    "\n",
    "    data.loc[data['insert_time_hour'].isin(hour_c1), 'insert_time_timezone'] = 'evening'\n",
    "    data.loc[data['insert_time_hour'].isin(hour_c2), 'insert_time_timezone'] = 'working'\n",
    "    data.loc[data['insert_time_hour'].isin(hour_c3), 'insert_time_timezone'] = 'early morning_w1'\n",
    "    data.loc[data['insert_time_hour'].isin(hour_c4), 'insert_time_timezone'] = 'dawn_not1' \n",
    "    \n",
    "    ### insert_time과 loanapply_insert_time의 월,일이 모든 열에 대해 정확히 일치하고, 시간차에 따른 타겟변수의 비율차이가 없으므로,\n",
    "    ### loanapply_insert_time의 날짜 파싱은 진행하지 않음(아래 주석처리된 EDA 참고). \n",
    "    \n",
    "    print('insert_time -> month/day/hour/weekday/timezone done.')\n",
    "\n",
    "    ## 2) company_enter_month -> 연월 (2개)\n",
    "    data['company_enter_month_year'] = data['company_enter_month'].astype('str').str[:4]\n",
    "    data['company_enter_month_month'] = data['company_enter_month'].astype('str').str[4:6].str.lstrip(\"0\")\n",
    "    \n",
    "    ### company_enter_month_month: 결측이면 0으로 변환    \n",
    "    data.replace('', np.nan, inplace=True)\n",
    "    data['company_enter_month_month'].fillna(0, inplace=True)  \n",
    "    \n",
    "    print('company_enter_month -> year/month done.')\n",
    "    \n",
    "    ## 3) is_holiday: 공휴일 여부  \n",
    "    data['yyyymmdd'] = pd.to_datetime(data['insert_time'].dt.date)\n",
    "    data.loc[data['yyyymmdd'].isin(is_holida_list), 'is_holiday'] = True\n",
    "    data['is_holiday'].fillna(False, inplace=True)  \n",
    "    del data['yyyymmdd']\n",
    "    print('is_holiday done.')\n",
    "    \n",
    "    ## 4) 주기 인코딩 \n",
    "    ## insert_time_weekday : -> sin/cos 변환\n",
    "    data['insert_time_weekday_sin'] = np.sin(2 * math.pi * data['insert_time_weekday'] / \n",
    "                                             data['insert_time_weekday'].max())\n",
    "    data['insert_time_weekday_cos'] = np.cos(2 * math.pi * data['insert_time_weekday'] /\n",
    "                                             data['insert_time_weekday'].max())\n",
    "    print('sin/cos done.')\n",
    "    \n",
    "    ## 5) 변수형 변환: insert_time 을 int -> str 변환\n",
    "    data['insert_time_month'] = data['insert_time_month'].astype('str')\n",
    "    data['insert_time_day'] = data['insert_time_day'].astype(int) \n",
    "    data['insert_time_weekday'] = data['insert_time_weekday'].astype('str')\n",
    "\n",
    "    print('Datetype Columns preprocessed.')\n",
    "    \n",
    "    \n",
    "    return data "
   ]
  },
  {
   "cell_type": "code",
   "execution_count": 44,
   "metadata": {
    "ExecuteTime": {
     "end_time": "2022-10-13T19:17:30.348569Z",
     "start_time": "2022-10-13T19:17:30.333607Z"
    },
    "hidden": true
   },
   "outputs": [],
   "source": [
    "# 위의 결정에 대한 EDA (삭제x)\n",
    "# for data in [train_merged, test_merged, train_merged2]:  \n",
    "    \n",
    "#     print('month: ')\n",
    "#     print((data['loanapply_insert_time'].dt.month == data['insert_time'].dt.month).value_counts(normalize=True))    \n",
    "#     print('day: ')\n",
    "#     print((data['loanapply_insert_time'].dt.day == data['insert_time'].dt.day).value_counts(normalize=True))\n",
    "#     print('hour: ')\n",
    "#     print((data['loanapply_insert_time'].dt.hour == data['insert_time'].dt.hour).value_counts(normalize=True))\n",
    "#     print('========================================================')\n",
    "\n",
    "# print(train_merged2[train_merged2['loanapply_insert_time'].dt.hour != train_merged2['insert_time'].dt.hour]['is_applied'].value_counts(normalize=True))\n",
    "# print(train_merged2['is_applied'].value_counts(normalize=True))"
   ]
  },
  {
   "cell_type": "code",
   "execution_count": 45,
   "metadata": {
    "ExecuteTime": {
     "end_time": "2022-10-13T19:19:42.237805Z",
     "start_time": "2022-10-13T19:19:10.162744Z"
    },
    "hidden": true,
    "scrolled": true
   },
   "outputs": [
    {
     "name": "stdout",
     "output_type": "stream",
     "text": [
      "insert_time -> month/day/hour/weekday/timezone done.\n",
      "company_enter_month -> year/month done.\n",
      "is_holiday done.\n",
      "sin/cos done.\n",
      "Datetype Columns preprocessed.\n",
      "insert_time -> month/day/hour/weekday/timezone done.\n",
      "company_enter_month -> year/month done.\n",
      "is_holiday done.\n",
      "sin/cos done.\n",
      "Datetype Columns preprocessed.\n"
     ]
    }
   ],
   "source": [
    "# 시간 소요 유의 \n",
    "train_merged_dates = DatesPreprocess(train_merged_log)\n",
    "test_merged_dates = DatesPreprocess(test_merged_log)"
   ]
  },
  {
   "cell_type": "code",
   "execution_count": 46,
   "metadata": {
    "ExecuteTime": {
     "end_time": "2022-10-13T19:22:16.689450Z",
     "start_time": "2022-10-13T19:22:15.411186Z"
    },
    "hidden": true
   },
   "outputs": [
    {
     "name": "stdout",
     "output_type": "stream",
     "text": [
      "train_merged_dates timezone 비율:  \n",
      " is_applied  insert_time_timezone\n",
      "0           working                 0.507772\n",
      "            early morning_w1        0.249414\n",
      "            evening                 0.191552\n",
      "            dawn_not1               0.051262\n",
      "1           working                 0.509033\n",
      "            early morning_w1        0.282068\n",
      "            evening                 0.143206\n",
      "            dawn_not1               0.065694\n",
      "Name: insert_time_timezone, dtype: float64 \n",
      "\n",
      "test_merged_dates timezone 비율:  \n",
      " working             0.509882\n",
      "early morning_w1    0.244390\n",
      "evening             0.193370\n",
      "dawn_not1           0.052358\n",
      "Name: insert_time_timezone, dtype: float64\n"
     ]
    }
   ],
   "source": [
    "print('train_merged_dates timezone 비율: ', '\\n', train_merged_dates.groupby('is_applied')['insert_time_timezone'].value_counts(normalize=True, dropna=False), '\\n',)\n",
    "print('test_merged_dates timezone 비율: ', '\\n', test_merged_dates['insert_time_timezone'].value_counts(normalize=True, dropna=False))"
   ]
  },
  {
   "cell_type": "code",
   "execution_count": 47,
   "metadata": {
    "ExecuteTime": {
     "end_time": "2022-10-13T19:24:16.114917Z",
     "start_time": "2022-10-13T19:24:15.203340Z"
    },
    "hidden": true,
    "scrolled": true
   },
   "outputs": [
    {
     "name": "stdout",
     "output_type": "stream",
     "text": [
      "train_merged_dates 공휴일 비율:  \n",
      " is_applied  is_holiday\n",
      "0           False         0.971362\n",
      "            True          0.028638\n",
      "1           False         0.974592\n",
      "            True          0.025408\n",
      "Name: is_holiday, dtype: float64 \n",
      "\n",
      "test_merged_dates 공휴일 비율:  \n",
      " False    0.956533\n",
      "True     0.043467\n",
      "Name: is_holiday, dtype: float64 \n",
      "\n"
     ]
    }
   ],
   "source": [
    "print('train_merged_dates 공휴일 비율: ', '\\n', train_merged_dates.groupby('is_applied')['is_holiday'].value_counts(normalize=True, dropna=False), '\\n',)\n",
    "print('test_merged_dates 공휴일 비율: ', '\\n', test_merged_dates['is_holiday'].value_counts(normalize=True, dropna=False), '\\n',)"
   ]
  },
  {
   "cell_type": "code",
   "execution_count": 48,
   "metadata": {
    "ExecuteTime": {
     "end_time": "2022-10-13T19:24:40.179514Z",
     "start_time": "2022-10-13T19:24:40.179514Z"
    },
    "hidden": true
   },
   "outputs": [
    {
     "data": {
      "text/plain": [
       "<matplotlib.legend.Legend at 0x7f7aa439ca00>"
      ]
     },
     "execution_count": 48,
     "metadata": {},
     "output_type": "execute_result"
    },
    {
     "data": {
      "image/png": "[encoded data removed]",
      "text/plain": [
       "<Figure size 144x144 with 1 Axes>"
      ]
     },
     "metadata": {
      "image/png": {
       "height": 174,
       "width": 279
      },
      "needs_background": "light"
     },
     "output_type": "display_data"
    }
   ],
   "source": [
    "# weekday sin/cos 인코딩 설명 \n",
    "weekday_sincos_df = train_merged_dates.head(100000).groupby(['insert_time_weekday_sin','insert_time_weekday_cos','insert_time_weekday']).count().reset_index().iloc[:,:3]\n",
    "weekday_sincos_df = weekday_sincos_df.sort_values('insert_time_weekday')\n",
    "weekday_sincos_df['insert_time_weekday'] = ['0(Mon)','1(Tue)','2(Wed)','3(Thu)','4(Fri)','5(Sat)','6(Sun)']\n",
    "\n",
    "plt.figure(figsize=(2,2))\n",
    "sns.scatterplot(x='insert_time_weekday_sin',y='insert_time_weekday_cos', hue='insert_time_weekday',\n",
    "                data=weekday_sincos_df, )\n",
    "plt.legend(bbox_to_anchor=(1.06, 1), loc='upper left', borderaxespad=0)"
   ]
  },
  {
   "cell_type": "code",
   "execution_count": 49,
   "metadata": {
    "ExecuteTime": {
     "end_time": "2022-10-13T17:48:21.731253Z",
     "start_time": "2022-10-13T17:48:21.718215Z"
    },
    "hidden": true
   },
   "outputs": [],
   "source": [
    "# # 파일 내보내기 \n",
    "# train_merged.to_csv('train_cs_xgb_Naver_leedh.csv', index=False) \n",
    "# test_merged.to_csv('test_cs_xgb_Naver_leedh.csv', index=False) "
   ]
  },
  {
   "cell_type": "code",
   "execution_count": 50,
   "metadata": {
    "ExecuteTime": {
     "end_time": "2022-10-13T17:48:49.812467Z",
     "start_time": "2022-10-13T17:48:49.798806Z"
    },
    "hidden": true
   },
   "outputs": [],
   "source": [
    "# # csv 내보내기 \n",
    "# train_merged2.to_csv('train_cs_xgb_NaverLog_leedh.csv', index=False) "
   ]
  },
  {
   "cell_type": "code",
   "execution_count": null,
   "metadata": {
    "hidden": true
   },
   "outputs": [],
   "source": []
  },
  {
   "cell_type": "markdown",
   "metadata": {},
   "source": [
    "## COFIX DATA"
   ]
  },
  {
   "cell_type": "markdown",
   "metadata": {},
   "source": [
    "### cofix 데이터 전처리 "
   ]
  },
  {
   "cell_type": "code",
   "execution_count": 51,
   "metadata": {
    "ExecuteTime": {
     "end_time": "2022-10-13T19:24:42.604806Z",
     "start_time": "2022-10-13T19:24:42.435591Z"
    }
   },
   "outputs": [
    {
     "data": {
      "text/html": [
       "<div>\n",
       "<style scoped>\n",
       "    .dataframe tbody tr th:only-of-type {\n",
       "        vertical-align: middle;\n",
       "    }\n",
       "\n",
       "    .dataframe tbody tr th {\n",
       "        vertical-align: top;\n",
       "    }\n",
       "\n",
       "    .dataframe thead th {\n",
       "        text-align: right;\n",
       "    }\n",
       "</style>\n",
       "<table border=\"1\" class=\"dataframe\">\n",
       "  <thead>\n",
       "    <tr style=\"text-align: right;\">\n",
       "      <th></th>\n",
       "      <th>COFIX</th>\n",
       "      <th>insert_time1</th>\n",
       "      <th>insert_time2</th>\n",
       "    </tr>\n",
       "  </thead>\n",
       "  <tbody>\n",
       "    <tr>\n",
       "      <th>30</th>\n",
       "      <td>1.57</td>\n",
       "      <td>2022-03-05</td>\n",
       "      <td>2022-03-11</td>\n",
       "    </tr>\n",
       "    <tr>\n",
       "      <th>31</th>\n",
       "      <td>1.57</td>\n",
       "      <td>2022-02-26</td>\n",
       "      <td>2022-03-04</td>\n",
       "    </tr>\n",
       "  </tbody>\n",
       "</table>\n",
       "</div>"
      ],
      "text/plain": [
       "   COFIX insert_time1 insert_time2\n",
       "30  1.57   2022-03-05   2022-03-11\n",
       "31  1.57   2022-02-26   2022-03-04"
      ]
     },
     "execution_count": 51,
     "metadata": {},
     "output_type": "execute_result"
    }
   ],
   "source": [
    "cofix2=cofix.iloc[:,1:] \n",
    "cofix2.rename(columns={\"Unnamed: 1\":\"date\",\"Unnamed: 2\":\"COFIX\" }, inplace=True)\n",
    "\n",
    "cofix2[\"insert_time1\"]=cofix2.date.str.split('~').str[0]\n",
    "cofix2[\"insert_time2\"]=cofix2.date.str.split('~').str[1]\n",
    "\n",
    "cofix3=cofix2.iloc[:,1:]\n",
    "\n",
    "#date1, date2 연-월-일 (pd.Datetime) \n",
    "cofix3['insert_time1'] = pd.to_datetime(cofix3['insert_time1']) \n",
    "cofix3['insert_time2'] = pd.to_datetime(cofix3['insert_time2'])\n",
    "\n",
    "#2월 26일 ~ 7월 1일 데이터만 \n",
    "cofix4 =cofix3.loc[(cofix3[\"insert_time2\"]<=\"2022-07-02\")&(cofix3[\"insert_time1\"]>=\"2022-02-25\")] \n",
    "cofix4.tail(2)"
   ]
  },
  {
   "cell_type": "code",
   "execution_count": 52,
   "metadata": {
    "ExecuteTime": {
     "end_time": "2022-10-13T19:25:56.351708Z",
     "start_time": "2022-10-13T19:25:56.321789Z"
    }
   },
   "outputs": [
    {
     "data": {
      "text/html": [
       "<div>\n",
       "<style scoped>\n",
       "    .dataframe tbody tr th:only-of-type {\n",
       "        vertical-align: middle;\n",
       "    }\n",
       "\n",
       "    .dataframe tbody tr th {\n",
       "        vertical-align: top;\n",
       "    }\n",
       "\n",
       "    .dataframe thead th {\n",
       "        text-align: right;\n",
       "    }\n",
       "</style>\n",
       "<table border=\"1\" class=\"dataframe\">\n",
       "  <thead>\n",
       "    <tr style=\"text-align: right;\">\n",
       "      <th></th>\n",
       "      <th>insert_time_date</th>\n",
       "      <th>cofix</th>\n",
       "    </tr>\n",
       "  </thead>\n",
       "  <tbody>\n",
       "    <tr>\n",
       "      <th>0</th>\n",
       "      <td>2022-02-26</td>\n",
       "      <td>1.57</td>\n",
       "    </tr>\n",
       "    <tr>\n",
       "      <th>1</th>\n",
       "      <td>2022-02-27</td>\n",
       "      <td>1.57</td>\n",
       "    </tr>\n",
       "  </tbody>\n",
       "</table>\n",
       "</div>"
      ],
      "text/plain": [
       "  insert_time_date  cofix\n",
       "0       2022-02-26   1.57\n",
       "1       2022-02-27   1.57"
      ]
     },
     "execution_count": 52,
     "metadata": {},
     "output_type": "execute_result"
    }
   ],
   "source": [
    "cofix_df = pd.DataFrame({\"insert_time_date\": pd.date_range('2022/02/26','2022/07/01')} )\n",
    "cofix_df = pd.merge(cofix_df, cofix4[['COFIX','insert_time1']], how='left', left_on=['insert_time_date'], right_on=['insert_time1']).drop(['insert_time1'],axis=1)\n",
    "cofix_df = pd.merge(cofix_df, cofix4[['COFIX','insert_time2']], how='left', left_on=['insert_time_date'], right_on=['insert_time2']).drop(['insert_time2'],axis=1)\n",
    "\n",
    "cofix_df['cofix'] = cofix_df[['COFIX_x','COFIX_y']].sum(axis=1, skipna=True, min_count=1)\n",
    "cofix_df['cofix'] = cofix_df['cofix'].fillna(method=\"ffill\")\n",
    "cofix_df.drop(['COFIX_x','COFIX_y'],axis=1,inplace=True)\n",
    "\n",
    "cofix_df.head(2)"
   ]
  },
  {
   "cell_type": "code",
   "execution_count": 53,
   "metadata": {
    "ExecuteTime": {
     "end_time": "2022-10-13T19:26:34.960162Z",
     "start_time": "2022-10-13T19:26:34.946232Z"
    }
   },
   "outputs": [
    {
     "name": "stdout",
     "output_type": "stream",
     "text": [
      "insert_time_date    0\n",
      "cofix               0\n",
      "dtype: int64\n"
     ]
    }
   ],
   "source": [
    "print(cofix_df.isna().sum())"
   ]
  },
  {
   "cell_type": "code",
   "execution_count": 54,
   "metadata": {
    "ExecuteTime": {
     "end_time": "2022-10-13T19:26:41.616719Z",
     "start_time": "2022-10-13T19:26:41.600731Z"
    },
    "scrolled": true
   },
   "outputs": [],
   "source": [
    "def CofixMerge(data):\n",
    "    \n",
    "    ## 0) 날짜형 변환 \n",
    "    data['insert_time_date'] = pd.to_datetime(data['insert_time'].dt.date) \n",
    "    \n",
    "    ## 1) 병합\n",
    "    data = pd.merge(data, cofix_df, how='left', on=['insert_time_date'] )\n",
    "    \n",
    "    ## 2) 불필요한 열 제거 \n",
    "    data.drop(['insert_time_date'],axis=1, inplace=True) \n",
    "    \n",
    "    print('COFIX data merged.')\n",
    "    \n",
    "    return data "
   ]
  },
  {
   "cell_type": "code",
   "execution_count": 55,
   "metadata": {
    "ExecuteTime": {
     "end_time": "2022-10-13T19:27:34.187855Z",
     "start_time": "2022-10-13T19:26:46.705102Z"
    }
   },
   "outputs": [
    {
     "name": "stdout",
     "output_type": "stream",
     "text": [
      "COFIX data merged.\n",
      "COFIX data merged.\n"
     ]
    }
   ],
   "source": [
    "train_merged_econ = CofixMerge(train_merged_dates) \n",
    "test_merged_econ = CofixMerge(test_merged_dates) "
   ]
  },
  {
   "cell_type": "code",
   "execution_count": 56,
   "metadata": {
    "ExecuteTime": {
     "end_time": "2022-10-13T19:25:54.316850Z",
     "start_time": "2022-10-13T19:25:54.316850Z"
    }
   },
   "outputs": [],
   "source": [
    "# ## 잘 병합되었는지, na는 없는지 체크 \n",
    "# print(train_merged_econ['cofix'].value_counts(dropna=False),'\\n')\n",
    "# print(test_merged_econ['cofix'].value_counts(dropna=False))"
   ]
  },
  {
   "cell_type": "markdown",
   "metadata": {},
   "source": [
    "## 소비자 물가 데이터"
   ]
  },
  {
   "cell_type": "code",
   "execution_count": 57,
   "metadata": {
    "ExecuteTime": {
     "end_time": "2022-10-13T19:30:15.249154Z",
     "start_time": "2022-10-13T19:30:12.314398Z"
    }
   },
   "outputs": [
    {
     "name": "stdout",
     "output_type": "stream",
     "text": [
      "107.56    3577317\n",
      "106.85    3426207\n",
      "106.06    3260825\n",
      "Name: CPI, dtype: int64\n",
      "107.56    3255482\n",
      "Name: CPI_lag1, dtype: int64\n",
      "107.56    3577317\n",
      "106.85    3426207\n",
      "106.06    3260825\n",
      "Name: CPI, dtype: int64\n",
      "107.56    3255482\n",
      "Name: CPI_lag1, dtype: int64\n"
     ]
    }
   ],
   "source": [
    "#2월: 105.30 3월 : 106.06 4월: 106.85 5월: 107.56 6월: 108.22 - insert_time_month기준으로 lag1까지 붙이기\n",
    "\n",
    "train_merged_econ.loc[(train_merged_econ[\"insert_time\"].dt.month==3),\"CPI\"]=106.06\n",
    "train_merged_econ.loc[(train_merged_econ[\"insert_time\"].dt.month==4),\"CPI\"]=106.85\n",
    "train_merged_econ.loc[(train_merged_econ[\"insert_time\"].dt.month==5),\"CPI\"]=107.56\n",
    "test_merged_econ.loc[(test_merged_econ[\"insert_time\"].dt.month==6),\"CPI\"]=108.22\n",
    "\n",
    "train_merged_econ.loc[(train_merged_econ[\"insert_time\"].dt.month==3),\"CPI_lag1\"]=105.30 \n",
    "train_merged_econ.loc[(train_merged_econ[\"insert_time\"].dt.month==4),\"CPI_lag1\"]=106.06\n",
    "train_merged_econ.loc[(train_merged_econ[\"insert_time\"].dt.month==5),\"CPI_lag1\"]=106.85\n",
    "test_merged_econ.loc[(test_merged_econ[\"insert_time\"].dt.month==6),\"CPI_lag1\"]=107.56\n",
    "\n",
    "\n",
    "#확인 \n",
    "print(train_merged_econ['CPI'].value_counts(dropna=False))\n",
    "print(test_merged_econ['CPI_lag1'].value_counts(dropna=False))\n",
    "\n",
    "print(train_merged_econ['CPI'].value_counts(dropna=False))\n",
    "print(test_merged_econ['CPI_lag1'].value_counts(dropna=False))"
   ]
  },
  {
   "cell_type": "code",
   "execution_count": 58,
   "metadata": {
    "ExecuteTime": {
     "end_time": "2022-10-13T19:33:20.326413Z",
     "start_time": "2022-10-13T19:33:07.311774Z"
    }
   },
   "outputs": [
    {
     "name": "stdout",
     "output_type": "stream",
     "text": [
      "0\n",
      "3255482\n"
     ]
    }
   ],
   "source": [
    "print(train_merged_econ.isna().sum().sum()) \n",
    "print(test_merged_econ.isna().sum().sum())  # is_applied: 2603137건, yearly_income:6건 "
   ]
  },
  {
   "cell_type": "markdown",
   "metadata": {},
   "source": [
    "## 파생변수"
   ]
  },
  {
   "cell_type": "code",
   "execution_count": 59,
   "metadata": {
    "ExecuteTime": {
     "end_time": "2022-10-13T19:36:22.887312Z",
     "start_time": "2022-10-13T19:36:22.872322Z"
    },
    "code_folding": [
     0
    ]
   },
   "outputs": [],
   "source": [
    "def add_exovars(data):\n",
    "\n",
    "    ## insert_time_diff: insert_time 차이 \n",
    "    data['insert_time_diff'] = (data['loanapply_insert_time'] - data['insert_time']).astype('timedelta64[s]')\n",
    "    print('insert_time_diff')\n",
    "    \n",
    "    ## application_id_cnt: application_id 별 행수 \n",
    "    data['application_id_cnt'] = data.groupby('application_id')['user_id'].transform('size')\n",
    "    print('application_id_cnt')\n",
    "    \n",
    "    ## diff_amount: (희망대출금액) - (승인된 대출한도)\n",
    "    ## more_loan_desired: (희망대출금액) < (승인된 대출한도) 이면 1, 아니면 0\n",
    "    data['diff_amount'] = data['desired_amount'] - data['loan_limit']\n",
    "    data['more_loan_desired'] = (data['desired_amount'] < data['loan_limit'])\n",
    "    print('diff_amount')\n",
    "    print('more_loan_desired')\n",
    "\n",
    "    ## loan_limit_outlier: loan_limit이 outlier인지 여부, outlier 기준은 Q3*1.5 = 49500000\n",
    "    data['loan_limit_outlier'] = (data['loan_limit'] > (data['loan_limit'].quantile(0.75)*1.5)) \n",
    "    print('loan_limit_outlier')\n",
    "    \n",
    "    ## first_confirmed: 동일 application_id 내에서 가장 먼저 연 상품인지의 여부 (1/0)\n",
    "    data['first_confirmed'] = False \n",
    "    data.iloc[data.sort_values('loanapply_insert_time').groupby('application_id').head(1).index, \n",
    "              data.columns.get_loc(\"first_confirmed\")] = True  \n",
    "    print('first_confirmed')\n",
    "    \n",
    "    \n",
    "    return data"
   ]
  },
  {
   "cell_type": "code",
   "execution_count": 60,
   "metadata": {
    "ExecuteTime": {
     "end_time": "2022-10-13T19:39:39.413608Z",
     "start_time": "2022-10-13T19:39:20.076747Z"
    },
    "code_folding": [],
    "scrolled": true
   },
   "outputs": [
    {
     "name": "stdout",
     "output_type": "stream",
     "text": [
      "insert_time_diff\n",
      "application_id_cnt\n",
      "diff_amount\n",
      "more_loan_desired\n",
      "loan_limit_outlier\n",
      "first_confirmed\n",
      "insert_time_diff\n",
      "application_id_cnt\n",
      "diff_amount\n",
      "more_loan_desired\n",
      "loan_limit_outlier\n",
      "first_confirmed\n"
     ]
    }
   ],
   "source": [
    "# 시간 다소 소요됨 \n",
    "train_merged_addexo1 = add_exovars(train_merged_econ)\n",
    "test_merged_addexo1 = add_exovars(test_merged_econ)"
   ]
  },
  {
   "cell_type": "code",
   "execution_count": 61,
   "metadata": {
    "ExecuteTime": {
     "end_time": "2022-10-13T19:42:43.244929Z",
     "start_time": "2022-10-13T19:42:43.229967Z"
    }
   },
   "outputs": [
    {
     "name": "stdout",
     "output_type": "stream",
     "text": [
      "train_merged_addexo1:  (10264349, 89)\n",
      "test_merged_addexo1:  (3255482, 89)\n"
     ]
    }
   ],
   "source": [
    "print('train_merged_addexo1: ', train_merged_addexo1.shape)\n",
    "print('test_merged_addexo1: ', test_merged_addexo1.shape)"
   ]
  },
  {
   "cell_type": "code",
   "execution_count": 62,
   "metadata": {
    "ExecuteTime": {
     "end_time": "2022-10-13T19:45:45.448932Z",
     "start_time": "2022-10-13T19:45:45.417936Z"
    },
    "scrolled": true
   },
   "outputs": [
    {
     "data": {
      "text/html": [
       "<div>\n",
       "<style scoped>\n",
       "    .dataframe tbody tr th:only-of-type {\n",
       "        vertical-align: middle;\n",
       "    }\n",
       "\n",
       "    .dataframe tbody tr th {\n",
       "        vertical-align: top;\n",
       "    }\n",
       "\n",
       "    .dataframe thead th {\n",
       "        text-align: right;\n",
       "    }\n",
       "</style>\n",
       "<table border=\"1\" class=\"dataframe\">\n",
       "  <thead>\n",
       "    <tr style=\"text-align: right;\">\n",
       "      <th></th>\n",
       "      <th>insert_time_weekday_cos</th>\n",
       "      <th>cofix</th>\n",
       "      <th>CPI</th>\n",
       "      <th>CPI_lag1</th>\n",
       "      <th>insert_time_diff</th>\n",
       "      <th>application_id_cnt</th>\n",
       "      <th>diff_amount</th>\n",
       "      <th>more_loan_desired</th>\n",
       "      <th>loan_limit_outlier</th>\n",
       "      <th>first_confirmed</th>\n",
       "    </tr>\n",
       "  </thead>\n",
       "  <tbody>\n",
       "    <tr>\n",
       "      <th>0</th>\n",
       "      <td>0.5</td>\n",
       "      <td>1.57</td>\n",
       "      <td>106.06</td>\n",
       "      <td>105.3</td>\n",
       "      <td>1.0</td>\n",
       "      <td>1</td>\n",
       "      <td>-19000000.0</td>\n",
       "      <td>True</td>\n",
       "      <td>False</td>\n",
       "      <td>True</td>\n",
       "    </tr>\n",
       "    <tr>\n",
       "      <th>1</th>\n",
       "      <td>0.5</td>\n",
       "      <td>1.57</td>\n",
       "      <td>106.06</td>\n",
       "      <td>105.3</td>\n",
       "      <td>1.0</td>\n",
       "      <td>1</td>\n",
       "      <td>-23000000.0</td>\n",
       "      <td>True</td>\n",
       "      <td>False</td>\n",
       "      <td>True</td>\n",
       "    </tr>\n",
       "    <tr>\n",
       "      <th>2</th>\n",
       "      <td>0.5</td>\n",
       "      <td>1.57</td>\n",
       "      <td>106.06</td>\n",
       "      <td>105.3</td>\n",
       "      <td>1.0</td>\n",
       "      <td>10</td>\n",
       "      <td>27000000.0</td>\n",
       "      <td>False</td>\n",
       "      <td>False</td>\n",
       "      <td>False</td>\n",
       "    </tr>\n",
       "  </tbody>\n",
       "</table>\n",
       "</div>"
      ],
      "text/plain": [
       "   insert_time_weekday_cos  cofix     CPI  CPI_lag1  insert_time_diff  \\\n",
       "0                      0.5   1.57  106.06     105.3               1.0   \n",
       "1                      0.5   1.57  106.06     105.3               1.0   \n",
       "2                      0.5   1.57  106.06     105.3               1.0   \n",
       "\n",
       "   application_id_cnt  diff_amount  more_loan_desired  loan_limit_outlier  \\\n",
       "0                   1  -19000000.0               True               False   \n",
       "1                   1  -23000000.0               True               False   \n",
       "2                  10   27000000.0              False               False   \n",
       "\n",
       "   first_confirmed  \n",
       "0             True  \n",
       "1             True  \n",
       "2            False  "
      ]
     },
     "execution_count": 62,
     "metadata": {},
     "output_type": "execute_result"
    }
   ],
   "source": [
    "train_merged_addexo1.iloc[:3,-10:]"
   ]
  },
  {
   "cell_type": "code",
   "execution_count": 63,
   "metadata": {
    "ExecuteTime": {
     "end_time": "2022-10-13T19:48:48.299663Z",
     "start_time": "2022-10-13T19:48:48.284703Z"
    }
   },
   "outputs": [
    {
     "data": {
      "text/html": [
       "<div>\n",
       "<style scoped>\n",
       "    .dataframe tbody tr th:only-of-type {\n",
       "        vertical-align: middle;\n",
       "    }\n",
       "\n",
       "    .dataframe tbody tr th {\n",
       "        vertical-align: top;\n",
       "    }\n",
       "\n",
       "    .dataframe thead th {\n",
       "        text-align: right;\n",
       "    }\n",
       "</style>\n",
       "<table border=\"1\" class=\"dataframe\">\n",
       "  <thead>\n",
       "    <tr style=\"text-align: right;\">\n",
       "      <th></th>\n",
       "      <th>insert_time_weekday_cos</th>\n",
       "      <th>cofix</th>\n",
       "      <th>CPI</th>\n",
       "      <th>CPI_lag1</th>\n",
       "      <th>insert_time_diff</th>\n",
       "      <th>application_id_cnt</th>\n",
       "      <th>diff_amount</th>\n",
       "      <th>more_loan_desired</th>\n",
       "      <th>loan_limit_outlier</th>\n",
       "      <th>first_confirmed</th>\n",
       "    </tr>\n",
       "  </thead>\n",
       "  <tbody>\n",
       "    <tr>\n",
       "      <th>0</th>\n",
       "      <td>-0.5</td>\n",
       "      <td>1.97</td>\n",
       "      <td>108.22</td>\n",
       "      <td>107.56</td>\n",
       "      <td>1.0</td>\n",
       "      <td>1</td>\n",
       "      <td>-9000000.0</td>\n",
       "      <td>True</td>\n",
       "      <td>False</td>\n",
       "      <td>True</td>\n",
       "    </tr>\n",
       "    <tr>\n",
       "      <th>1</th>\n",
       "      <td>-0.5</td>\n",
       "      <td>1.97</td>\n",
       "      <td>108.22</td>\n",
       "      <td>107.56</td>\n",
       "      <td>0.0</td>\n",
       "      <td>1</td>\n",
       "      <td>2500000.0</td>\n",
       "      <td>False</td>\n",
       "      <td>False</td>\n",
       "      <td>True</td>\n",
       "    </tr>\n",
       "    <tr>\n",
       "      <th>2</th>\n",
       "      <td>-0.5</td>\n",
       "      <td>1.97</td>\n",
       "      <td>108.22</td>\n",
       "      <td>107.56</td>\n",
       "      <td>0.0</td>\n",
       "      <td>3</td>\n",
       "      <td>4000000.0</td>\n",
       "      <td>False</td>\n",
       "      <td>False</td>\n",
       "      <td>True</td>\n",
       "    </tr>\n",
       "  </tbody>\n",
       "</table>\n",
       "</div>"
      ],
      "text/plain": [
       "   insert_time_weekday_cos  cofix     CPI  CPI_lag1  insert_time_diff  \\\n",
       "0                     -0.5   1.97  108.22    107.56               1.0   \n",
       "1                     -0.5   1.97  108.22    107.56               0.0   \n",
       "2                     -0.5   1.97  108.22    107.56               0.0   \n",
       "\n",
       "   application_id_cnt  diff_amount  more_loan_desired  loan_limit_outlier  \\\n",
       "0                   1   -9000000.0               True               False   \n",
       "1                   1    2500000.0              False               False   \n",
       "2                   3    4000000.0              False               False   \n",
       "\n",
       "   first_confirmed  \n",
       "0             True  \n",
       "1             True  \n",
       "2             True  "
      ]
     },
     "execution_count": 63,
     "metadata": {},
     "output_type": "execute_result"
    }
   ],
   "source": [
    "test_merged_addexo1.iloc[:3,-10:]"
   ]
  },
  {
   "cell_type": "code",
   "execution_count": 64,
   "metadata": {
    "ExecuteTime": {
     "end_time": "2022-10-13T17:57:42.167465Z",
     "start_time": "2022-10-13T17:57:42.152812Z"
    }
   },
   "outputs": [],
   "source": [
    "# exocols = ['insert_time_diff','application_id_cnt','diff_amount','more_loan_desired',\n",
    "#            'loan_limit_outlier','first_confirmed']\n",
    "\n",
    "# for col in exocols:\n",
    "    \n",
    "#     print(test_merged4[col].value_counts(dropna=False),'\\n')"
   ]
  },
  {
   "cell_type": "code",
   "execution_count": 65,
   "metadata": {
    "ExecuteTime": {
     "end_time": "2022-10-13T19:51:18.245062Z",
     "start_time": "2022-10-13T19:51:18.224116Z"
    }
   },
   "outputs": [],
   "source": [
    "def add_exovars_ver2(data):\n",
    "    \n",
    "    ## 소득 대비 대출 비율 \n",
    "    data['loan_income_ratio'] = data['existing_loan_amt'] / data['yearly_income']\n",
    "    print('loan_income_ratio is done.') \n",
    "    \n",
    "    ## loan_rate_rank, loan_limit_rank : 동일 application_id 내에서 loan_rate, loan_limit 의 순위 \n",
    "    data['loan_rate_rank'] = data.groupby('application_id')['loan_rate'].rank(method='min')  # ''min', dense' 고민 \n",
    "    data['loan_limit_rank'] = data.groupby('application_id')['loan_limit'].rank(method='min')  # ''min', dense' 고민 \n",
    "    print('loan_rate_rank is done.') \n",
    "    print('loan_limit_rank is done.') \n",
    "    \n",
    "    \n",
    "    return data "
   ]
  },
  {
   "cell_type": "code",
   "execution_count": 66,
   "metadata": {
    "ExecuteTime": {
     "end_time": "2022-10-13T19:53:50.005191Z",
     "start_time": "2022-10-13T19:53:41.092753Z"
    }
   },
   "outputs": [
    {
     "name": "stdout",
     "output_type": "stream",
     "text": [
      "loan_income_ratio is done.\n",
      "loan_rate_rank is done.\n",
      "loan_limit_rank is done.\n",
      "loan_income_ratio is done.\n",
      "loan_rate_rank is done.\n",
      "loan_limit_rank is done.\n"
     ]
    }
   ],
   "source": [
    "train_merged_addexo2 = add_exovars_ver2(train_merged_addexo1)\n",
    "test_merged_addexo2 = add_exovars_ver2(test_merged_addexo1)"
   ]
  },
  {
   "cell_type": "code",
   "execution_count": 67,
   "metadata": {
    "ExecuteTime": {
     "end_time": "2022-10-13T19:56:44.448344Z",
     "start_time": "2022-10-13T19:56:32.457744Z"
    }
   },
   "outputs": [
    {
     "name": "stdout",
     "output_type": "stream",
     "text": [
      "0\n",
      "3255482\n"
     ]
    }
   ],
   "source": [
    "print(train_merged_addexo2.isna().sum().sum())\n",
    "print(test_merged_addexo2.isna().sum().sum()) "
   ]
  },
  {
   "cell_type": "code",
   "execution_count": 68,
   "metadata": {
    "ExecuteTime": {
     "end_time": "2022-10-13T19:59:24.855353Z",
     "start_time": "2022-10-13T19:59:24.827667Z"
    }
   },
   "outputs": [
    {
     "data": {
      "text/plain": [
       "(3255482, 92)"
      ]
     },
     "execution_count": 68,
     "metadata": {},
     "output_type": "execute_result"
    }
   ],
   "source": [
    "test_merged_addexo2.shape"
   ]
  },
  {
   "cell_type": "code",
   "execution_count": 69,
   "metadata": {
    "ExecuteTime": {
     "end_time": "2022-10-13T20:20:43.859257Z",
     "start_time": "2022-10-13T20:20:40.798739Z"
    }
   },
   "outputs": [
    {
     "data": {
      "text/plain": [
       "3255482"
      ]
     },
     "execution_count": 69,
     "metadata": {},
     "output_type": "execute_result"
    }
   ],
   "source": [
    "test_merged_addexo2.isna().sum().sum()  # 'is_applied' 만의 Na임을 확인 "
   ]
  },
  {
   "cell_type": "code",
   "execution_count": 70,
   "metadata": {
    "ExecuteTime": {
     "end_time": "2022-10-13T20:23:29.045906Z",
     "start_time": "2022-10-13T20:23:25.965816Z"
    }
   },
   "outputs": [
    {
     "data": {
      "text/plain": [
       "application_id                      0\n",
       "loanapply_insert_time               0\n",
       "bank_id                             0\n",
       "product_id                          0\n",
       "loan_limit                          0\n",
       "loan_rate                           0\n",
       "is_applied                    3255482\n",
       "user_id                             0\n",
       "birth_year                          0\n",
       "gender                              0\n",
       "insert_time                         0\n",
       "credit_score                        0\n",
       "yearly_income                       0\n",
       "income_type                         0\n",
       "company_enter_month                 0\n",
       "employment_type                     0\n",
       "houseown_type                       0\n",
       "desired_amount                      0\n",
       "purpose                             0\n",
       "personal_rehabilitation_yn          0\n",
       "dtype: int64"
      ]
     },
     "execution_count": 70,
     "metadata": {},
     "output_type": "execute_result"
    }
   ],
   "source": [
    "test_merged_addexo2.isna().sum()[:20]"
   ]
  },
  {
   "cell_type": "code",
   "execution_count": 71,
   "metadata": {
    "ExecuteTime": {
     "end_time": "2022-10-13T20:04:48.589721Z",
     "start_time": "2022-10-13T20:04:48.574684Z"
    }
   },
   "outputs": [
    {
     "data": {
      "text/plain": [
       "(10264349, 92)"
      ]
     },
     "execution_count": 71,
     "metadata": {},
     "output_type": "execute_result"
    }
   ],
   "source": [
    "train_merged_addexo2.shape "
   ]
  },
  {
   "cell_type": "code",
   "execution_count": 72,
   "metadata": {},
   "outputs": [
    {
     "name": "stdout",
     "output_type": "stream",
     "text": [
      "3    3577317\n",
      "2    3426207\n",
      "1    3260825\n",
      "Name: insert_time_month, dtype: int64\n",
      "4    3255482\n",
      "Name: insert_time_month, dtype: int64\n"
     ]
    }
   ],
   "source": [
    "#insert_time_month - 1,2,3 numeric 변수로 만들기 \n",
    "\n",
    "train_merged_addexo2[\"insert_time_month\"] = train_merged_addexo2[\"insert_time_month\"].astype(\"int\")-2\n",
    "print(train_merged_addexo2[\"insert_time_month\"].value_counts())\n",
    "\n",
    "test_merged_addexo2[\"insert_time_month\"] = test_merged_addexo2[\"insert_time_month\"].astype(\"int\")-2\n",
    "print(test_merged_addexo2[\"insert_time_month\"].value_counts())"
   ]
  },
  {
   "cell_type": "code",
   "execution_count": 73,
   "metadata": {},
   "outputs": [
    {
     "data": {
      "text/plain": [
       "application_id           0\n",
       "loanapply_insert_time    0\n",
       "bank_id                  0\n",
       "product_id               0\n",
       "loan_limit               0\n",
       "                        ..\n",
       "loan_limit_outlier       0\n",
       "first_confirmed          0\n",
       "loan_income_ratio        0\n",
       "loan_rate_rank           0\n",
       "loan_limit_rank          0\n",
       "Length: 92, dtype: int64"
      ]
     },
     "execution_count": 73,
     "metadata": {},
     "output_type": "execute_result"
    }
   ],
   "source": [
    "train_merged_addexo2.isna().sum()"
   ]
  },
  {
   "cell_type": "code",
   "execution_count": 74,
   "metadata": {},
   "outputs": [
    {
     "data": {
      "text/plain": [
       "application_id           0\n",
       "loanapply_insert_time    0\n",
       "bank_id                  0\n",
       "product_id               0\n",
       "loan_limit               0\n",
       "                        ..\n",
       "loan_limit_outlier       0\n",
       "first_confirmed          0\n",
       "loan_income_ratio        0\n",
       "loan_rate_rank           0\n",
       "loan_limit_rank          0\n",
       "Length: 92, dtype: int64"
      ]
     },
     "execution_count": 74,
     "metadata": {},
     "output_type": "execute_result"
    }
   ],
   "source": [
    "test_merged_addexo2.isna().sum()"
   ]
  },
  {
   "cell_type": "markdown",
   "metadata": {},
   "source": [
    "## 데이터 저장하기 "
   ]
  },
  {
   "cell_type": "code",
   "execution_count": 75,
   "metadata": {
    "ExecuteTime": {
     "end_time": "2022-10-13T20:33:47.111275Z",
     "start_time": "2022-10-13T20:26:57.141160Z"
    }
   },
   "outputs": [],
   "source": [
    "## 파일 내보내기 \n",
    "train_merged_addexo2.to_csv('/Users/baeknarim/데이터분석분야_퓨처스부문_포포나무팀/추가제출파일/DATA/전처리데이터/병합완료/train_exog.csv', index=False) \n",
    "test_merged_addexo2.to_csv('/Users/baeknarim/데이터분석분야_퓨처스부문_포포나무팀/추가제출파일/DATA/전처리데이터/병합완료/test_exog.csv', index=False) "
   ]
  },
  {
   "cell_type": "markdown",
   "metadata": {},
   "source": [
    "## 끝 "
   ]
  },
  {
   "cell_type": "code",
   "execution_count": null,
   "metadata": {},
   "outputs": [],
   "source": []
  },
  {
   "cell_type": "code",
   "execution_count": null,
   "metadata": {},
   "outputs": [],
   "source": []
  },
  {
   "cell_type": "code",
   "execution_count": null,
   "metadata": {},
   "outputs": [],
   "source": []
  },
  {
   "cell_type": "markdown",
   "metadata": {
    "heading_collapsed": true
   },
   "source": [
    "#### 휴지통"
   ]
  },
  {
   "cell_type": "code",
   "execution_count": 166,
   "metadata": {
    "hidden": true
   },
   "outputs": [],
   "source": [
    "###### 체크 @@@@@@@@@@@@@@@@@@@@@@@@@@@@@@@@@@@@@@@@@@@@@@@@@@@@@@@@"
   ]
  },
  {
   "cell_type": "code",
   "execution_count": 167,
   "metadata": {
    "hidden": true
   },
   "outputs": [
    {
     "ename": "NameError",
     "evalue": "name 'train_merged5' is not defined",
     "output_type": "error",
     "traceback": [
      "\u001b[0;31m---------------------------------------------------------------------------\u001b[0m",
      "\u001b[0;31mNameError\u001b[0m                                 Traceback (most recent call last)",
      "Input \u001b[0;32mIn [167]\u001b[0m, in \u001b[0;36m<cell line: 2>\u001b[0;34m()\u001b[0m\n\u001b[1;32m      1\u001b[0m \u001b[38;5;66;03m## train 적용 \u001b[39;00m\n\u001b[0;32m----> 2\u001b[0m train_merged6 \u001b[38;5;241m=\u001b[39m BankProductGroups(\u001b[43mtrain_merged5\u001b[49m, \u001b[38;5;124m'\u001b[39m\u001b[38;5;124mbank_id\u001b[39m\u001b[38;5;124m'\u001b[39m, bank_cluster1, bank_cluster2, bank_cluster3)\n\u001b[1;32m      3\u001b[0m train_merged6 \u001b[38;5;241m=\u001b[39m BankProductGroups(train_merged5, \u001b[38;5;124m'\u001b[39m\u001b[38;5;124mproduct_id\u001b[39m\u001b[38;5;124m'\u001b[39m, product_cluster1, product_cluster2, product_cluster3)\n\u001b[1;32m      5\u001b[0m \u001b[38;5;66;03m## test 적용 \u001b[39;00m\n",
      "\u001b[0;31mNameError\u001b[0m: name 'train_merged5' is not defined"
     ]
    }
   ],
   "source": [
    "## train 적용 \n",
    "train_merged6 = BankProductGroups(train_merged5, 'bank_id', bank_cluster1, bank_cluster2, bank_cluster3)\n",
    "train_merged6 = BankProductGroups(train_merged5, 'product_id', product_cluster1, product_cluster2, product_cluster3)\n",
    "\n",
    "## test 적용 \n",
    "test_merged6 = BankProductGroups(test_merged5, 'bank_id', bank_cluster1, bank_cluster2, bank_cluster3)\n",
    "test_merged6 = BankProductGroups(test_merged5, 'product_id', product_cluster1, product_cluster2, product_cluster3)\n",
    "\n",
    "# ## test NA 처리\n",
    "# train_merged6, train_merged6 = bpGroup_ReplaceTestNA(train_merged6, test_merged6) "
   ]
  },
  {
   "cell_type": "code",
   "execution_count": null,
   "metadata": {
    "ExecuteTime": {
     "end_time": "2022-10-13T16:52:07.287386Z",
     "start_time": "2022-10-13T16:52:06.159649Z"
    },
    "hidden": true
   },
   "outputs": [],
   "source": [
    "train_merged6_check = train_merged6.copy()\n",
    "test_merged6_check = test_merged6.copy()"
   ]
  },
  {
   "cell_type": "code",
   "execution_count": null,
   "metadata": {
    "ExecuteTime": {
     "end_time": "2022-10-13T17:18:24.007475Z",
     "start_time": "2022-10-13T17:18:19.693779Z"
    },
    "hidden": true
   },
   "outputs": [],
   "source": [
    "data_check = pd.concat([train_merged6_check, test_merged6_check], axis=0).reset_index(drop=True)\n",
    "train_index = train_merged6_check.shape[0]   ################# train!!"
   ]
  },
  {
   "cell_type": "code",
   "execution_count": null,
   "metadata": {
    "ExecuteTime": {
     "end_time": "2022-10-13T17:18:57.981180Z",
     "start_time": "2022-10-13T17:18:53.702781Z"
    },
    "hidden": true
   },
   "outputs": [],
   "source": [
    "pd.concat([train_merged6_check, test_merged6_check], axis=0).reset_index(drop=True)['product_group'].isna().sum()"
   ]
  },
  {
   "cell_type": "code",
   "execution_count": null,
   "metadata": {
    "ExecuteTime": {
     "end_time": "2022-10-13T17:09:51.249176Z",
     "start_time": "2022-10-13T17:09:51.235001Z"
    },
    "hidden": true
   },
   "outputs": [],
   "source": []
  },
  {
   "cell_type": "code",
   "execution_count": null,
   "metadata": {
    "ExecuteTime": {
     "end_time": "2022-10-13T17:19:29.009861Z",
     "start_time": "2022-10-13T17:19:27.990020Z"
    },
    "hidden": true
   },
   "outputs": [],
   "source": [
    "data_check['product_group'] = data_check.groupby('product_id')['product_group'].ffill()"
   ]
  },
  {
   "cell_type": "code",
   "execution_count": null,
   "metadata": {
    "ExecuteTime": {
     "end_time": "2022-10-13T17:19:57.068437Z",
     "start_time": "2022-10-13T17:19:57.053784Z"
    },
    "hidden": true
   },
   "outputs": [],
   "source": [
    "data_check['product_group'].isna().sum()"
   ]
  },
  {
   "cell_type": "code",
   "execution_count": null,
   "metadata": {
    "ExecuteTime": {
     "end_time": "2022-10-13T17:20:26.044561Z",
     "start_time": "2022-10-13T17:20:25.443802Z"
    },
    "hidden": true
   },
   "outputs": [],
   "source": [
    "data_check[data_check['product_group'].isna()]['product_id'].value_counts()"
   ]
  },
  {
   "cell_type": "code",
   "execution_count": 99,
   "metadata": {
    "ExecuteTime": {
     "end_time": "2022-10-13T17:21:28.689978Z",
     "start_time": "2022-10-13T17:21:27.519280Z"
    },
    "hidden": true
   },
   "outputs": [],
   "source": [
    "        na_products = list(set(data_check.loc[data_check['product_group'].isna(), 'product_id']))\n",
    "        notNA_df = data_check[data_check['product_group'].notna()] "
   ]
  },
  {
   "cell_type": "code",
   "execution_count": 100,
   "metadata": {
    "ExecuteTime": {
     "end_time": "2022-10-13T17:21:56.837677Z",
     "start_time": "2022-10-13T17:21:56.822745Z"
    },
    "hidden": true
   },
   "outputs": [
    {
     "data": {
      "text/plain": [
       "[241, 178, 101]"
      ]
     },
     "execution_count": 100,
     "metadata": {},
     "output_type": "execute_result"
    }
   ],
   "source": [
    "na_products"
   ]
  },
  {
   "cell_type": "code",
   "execution_count": 83,
   "metadata": {
    "ExecuteTime": {
     "end_time": "2022-10-13T17:08:41.629219Z",
     "start_time": "2022-10-13T17:08:41.614259Z"
    },
    "hidden": true
   },
   "outputs": [],
   "source": [
    "        i = 1\n",
    "    \n",
    "        ## 현재 NA인 bank_popularity 의 loan_rate 최댓값 \n",
    "        loan_rate_NA_max = data.loc[data['bank_id'] == na_banks[i],'loan_rate'].max() \n",
    "        # loan_rate 차이가 최소인 열 구하기 \n",
    "        min_diff_idx = (loan_rate_NA_max - notNA_df['loan_rate']).abs().idxmin()\n",
    "#         # 그 열들의 평균 bank_popularity \n",
    "#         data.loc[data['bank_id'] == na_banks[i], 'bank_group'] = np.nanmean(\n",
    "#                     notNA_df.iloc[min_diff_idx, notNA_df.columns.get_loc(\"bank_group\")])   \n",
    "\n",
    "        \n",
    "            # loan_rate 차이가 최소인 열 구하기 \n",
    "            min_diff_idx = (loan_rate_NA_max - notNA_df['loan_rate']).abs().idxmin()\n",
    "            # 그 열들의 평균 bank_popularity \n",
    "            data.loc[data['product_id'] == na_products[i], 'product_group'] = np.nanmean(\n",
    "                    notNA_df.iloc[min_diff_idx, notNA_df.columns.get_loc(\"product_group\")])"
   ]
  },
  {
   "cell_type": "code",
   "execution_count": 101,
   "metadata": {
    "ExecuteTime": {
     "end_time": "2022-10-13T17:22:43.268709Z",
     "start_time": "2022-10-13T17:22:43.263154Z"
    },
    "hidden": true
   },
   "outputs": [],
   "source": [
    "loan_rate_NA_max = data_check.loc[data_check['product_id'] == na_products[i],'loan_rate'].max()"
   ]
  },
  {
   "cell_type": "code",
   "execution_count": 102,
   "metadata": {
    "ExecuteTime": {
     "end_time": "2022-10-13T17:23:11.547123Z",
     "start_time": "2022-10-13T17:23:11.531396Z"
    },
    "hidden": true
   },
   "outputs": [
    {
     "data": {
      "text/plain": [
       "10.3"
      ]
     },
     "execution_count": 102,
     "metadata": {},
     "output_type": "execute_result"
    }
   ],
   "source": [
    "loan_rate_NA_max"
   ]
  },
  {
   "cell_type": "code",
   "execution_count": 103,
   "metadata": {
    "ExecuteTime": {
     "end_time": "2022-10-13T17:24:04.517254Z",
     "start_time": "2022-10-13T17:24:04.495184Z"
    },
    "hidden": true
   },
   "outputs": [],
   "source": [
    "min_diff_idx = (loan_rate_NA_max - notNA_df['loan_rate']).abs().idxmin()"
   ]
  },
  {
   "cell_type": "code",
   "execution_count": 104,
   "metadata": {
    "ExecuteTime": {
     "end_time": "2022-10-13T17:24:33.187673Z",
     "start_time": "2022-10-13T17:24:33.172583Z"
    },
    "hidden": true
   },
   "outputs": [
    {
     "data": {
      "text/plain": [
       "219"
      ]
     },
     "execution_count": 104,
     "metadata": {},
     "output_type": "execute_result"
    }
   ],
   "source": [
    "min_diff_idx"
   ]
  },
  {
   "cell_type": "code",
   "execution_count": 105,
   "metadata": {
    "ExecuteTime": {
     "end_time": "2022-10-13T17:25:19.862464Z",
     "start_time": "2022-10-13T17:25:19.854511Z"
    },
    "hidden": true
   },
   "outputs": [],
   "source": [
    "data_check.loc[data_check['product_id'] == na_products[i], 'product_group'] = np.nanmean(\n",
    "                    notNA_df.iloc[min_diff_idx, notNA_df.columns.get_loc(\"product_group\")])"
   ]
  },
  {
   "cell_type": "code",
   "execution_count": 106,
   "metadata": {
    "ExecuteTime": {
     "end_time": "2022-10-13T17:25:48.146743Z",
     "start_time": "2022-10-13T17:25:48.132624Z"
    },
    "hidden": true
   },
   "outputs": [
    {
     "data": {
      "text/plain": [
       "2623"
      ]
     },
     "execution_count": 106,
     "metadata": {},
     "output_type": "execute_result"
    }
   ],
   "source": [
    "data_check['product_group'].isna().sum()"
   ]
  },
  {
   "cell_type": "code",
   "execution_count": 107,
   "metadata": {
    "ExecuteTime": {
     "end_time": "2022-10-13T17:26:16.846519Z",
     "start_time": "2022-10-13T17:26:16.836239Z"
    },
    "hidden": true
   },
   "outputs": [
    {
     "data": {
      "text/plain": [
       "241"
      ]
     },
     "execution_count": 107,
     "metadata": {},
     "output_type": "execute_result"
    }
   ],
   "source": [
    "na_products[i]"
   ]
  },
  {
   "cell_type": "code",
   "execution_count": 86,
   "metadata": {
    "ExecuteTime": {
     "end_time": "2022-10-13T17:10:23.367080Z",
     "start_time": "2022-10-13T17:10:23.338481Z"
    },
    "hidden": true
   },
   "outputs": [],
   "source": [
    "min_diff_idx = (loan_rate_NA_max - notNA_df['loan_rate']).abs().idxmin()"
   ]
  },
  {
   "cell_type": "code",
   "execution_count": 87,
   "metadata": {
    "ExecuteTime": {
     "end_time": "2022-10-13T17:10:55.053285Z",
     "start_time": "2022-10-13T17:10:55.040275Z"
    },
    "hidden": true
   },
   "outputs": [
    {
     "data": {
      "text/plain": [
       "2531424"
      ]
     },
     "execution_count": 87,
     "metadata": {},
     "output_type": "execute_result"
    }
   ],
   "source": [
    "min_diff_idx"
   ]
  },
  {
   "cell_type": "code",
   "execution_count": 91,
   "metadata": {
    "ExecuteTime": {
     "end_time": "2022-10-13T17:16:20.096456Z",
     "start_time": "2022-10-13T17:16:20.082100Z"
    },
    "hidden": true
   },
   "outputs": [
    {
     "data": {
      "text/plain": [
       "4.0"
      ]
     },
     "execution_count": 91,
     "metadata": {},
     "output_type": "execute_result"
    }
   ],
   "source": [
    "np.nanmean(notNA_df.iloc[min_diff_idx, notNA_df.columns.get_loc(\"bank_group\")])"
   ]
  },
  {
   "cell_type": "code",
   "execution_count": 92,
   "metadata": {
    "ExecuteTime": {
     "end_time": "2022-10-13T17:16:52.276898Z",
     "start_time": "2022-10-13T17:16:52.262874Z"
    },
    "hidden": true
   },
   "outputs": [],
   "source": [
    "# 그 열들의 평균 bank_popularity \n",
    "data_check.loc[data_check['bank_id'] == na_banks[i], 'bank_group'] = np.nanmean(\n",
    "                    notNA_df.iloc[min_diff_idx, notNA_df.columns.get_loc(\"bank_group\")]) "
   ]
  },
  {
   "cell_type": "code",
   "execution_count": 93,
   "metadata": {
    "ExecuteTime": {
     "end_time": "2022-10-13T17:17:24.502837Z",
     "start_time": "2022-10-13T17:17:24.489776Z"
    },
    "hidden": true
   },
   "outputs": [
    {
     "data": {
      "text/plain": [
       "0"
      ]
     },
     "execution_count": 93,
     "metadata": {},
     "output_type": "execute_result"
    }
   ],
   "source": [
    "data_check['bank_group'].isna().sum()"
   ]
  },
  {
   "cell_type": "code",
   "execution_count": null,
   "metadata": {
    "hidden": true
   },
   "outputs": [],
   "source": [
    "## 현재 NA인 product_popularity 의 loan_rate 최댓값 \n",
    "            loan_rate_NA_max = data.loc[data['product_id'] == na_products[i],'loan_rate'].max()\n",
    "            \n",
    "#             # loan_rate 차이가 최소인 열 구하기 \n",
    "#             min_diff_idx = (loan_rate_NA_max - notNA_df['loan_rate']).abs().idxmin()\n",
    "#             # 그 열들의 평균 bank_popularity \n",
    "#             data.loc[data['product_id'] == na_products[i], 'product_popularity'] = np.nanmean(\n",
    "#                     notNA_df.iloc[min_diff_idx, notNA_df.columns.get_loc(\"product_popularity\")])\n",
    "\n",
    "            # loan_rate 차이가 최소인 값 구하기 \n",
    "            min_diff = (loan_rate_NA_max - notNA_df['loan_rate']).abs().min()\n",
    "            # 그 값을 갖는 열들의 평균 bank_popularity \n",
    "            data.loc[data['product_id'] == na_products[i], 'product_popularity'] = np.median(\n",
    "                notNA_df.loc[(loan_rate_NA_max - notNA_df['loan_rate']).abs() == min_diff, 'product_popularity']) "
   ]
  },
  {
   "cell_type": "code",
   "execution_count": null,
   "metadata": {
    "hidden": true
   },
   "outputs": [],
   "source": [
    "loan_rate_NA_max = data.loc[data['product_id'] == na_products[i],'loan_rate'].max()"
   ]
  },
  {
   "cell_type": "code",
   "execution_count": null,
   "metadata": {
    "hidden": true
   },
   "outputs": [],
   "source": [
    "loan_rate_NA_max = data.loc[data['product_id'] == na_products[i],'loan_rate'].max()"
   ]
  },
  {
   "cell_type": "code",
   "execution_count": 119,
   "metadata": {
    "ExecuteTime": {
     "end_time": "2022-10-13T14:56:20.924867Z",
     "start_time": "2022-10-13T14:56:18.046068Z"
    },
    "hidden": true
   },
   "outputs": [],
   "source": [
    "################### 확인 \n",
    "\n",
    "# loan = datatable.fread('loan_result.csv', encoding='utf-8').to_pandas()  \n",
    "# loan = loan.dropna(subset=['loan_limit','loan_rate'], axis=0)\n",
    "\n",
    "# train_df = loan[loan.is_applied.notna()]\n",
    "# test_df = loan[loan.is_applied.isna()]\n",
    "\n",
    "# train_df2 = train_df.copy()\n",
    "# test_df2 = test_df.copy()"
   ]
  },
  {
   "cell_type": "code",
   "execution_count": 188,
   "metadata": {
    "ExecuteTime": {
     "end_time": "2022-10-13T15:28:34.828295Z",
     "start_time": "2022-10-13T15:28:17.374705Z"
    },
    "hidden": true
   },
   "outputs": [],
   "source": [
    "################# 확인 2 \n",
    "\n",
    "# train = datatable.fread('train,test_1013/train_na.csv', encoding='utf-8').to_pandas()  \n",
    "# test = pd.read_csv('train,test_1013/test_na.csv', encoding='utf-8')\n",
    "\n",
    "train = datatable.fread('train,test_1013/train_notna.csv', encoding='utf-8').to_pandas()  \n",
    "test = pd.read_csv('train,test_1013/test_notna.csv', encoding='utf-8')"
   ]
  },
  {
   "cell_type": "code",
   "execution_count": 189,
   "metadata": {
    "ExecuteTime": {
     "end_time": "2022-10-13T15:28:44.301279Z",
     "start_time": "2022-10-13T15:28:43.605525Z"
    },
    "hidden": true
   },
   "outputs": [],
   "source": [
    "train_df2 = train.copy()\n",
    "test_df2 = test.copy() "
   ]
  },
  {
   "cell_type": "code",
   "execution_count": 190,
   "metadata": {
    "ExecuteTime": {
     "end_time": "2022-10-13T15:28:55.801250Z",
     "start_time": "2022-10-13T15:28:55.786342Z"
    },
    "code_folding": [
     0
    ],
    "hidden": true
   },
   "outputs": [],
   "source": [
    "def add_popularity(train, test):     \n",
    "    \n",
    "    full_data = pd.concat([train, test], axis=0).reset_index(drop=True)\n",
    "    train_index = train.shape[0] \n",
    "    \n",
    "    full_data['is_applied'] = full_data['is_applied'].astype(float)\n",
    "    \n",
    "    ## popularity 계산을 위해 loanapply_insert_time -> loanapply_insert_time (초 단위), 이후 제거 \n",
    "    refer_time = dt.datetime(2022, 2, 28) \n",
    "    full_data['loanapply_insert_time'] = pd.to_datetime(full_data['loanapply_insert_time']) \n",
    "    full_data['loanapply_insert_time_s'] = (full_data['loanapply_insert_time'] - refer_time).dt.total_seconds().astype(int)  \n",
    "    \n",
    "    ## bank_popularity: 은행의 인기도 \n",
    "    full_data['bank_cumcnt'] = full_data.sort_values(by='loanapply_insert_time_s').groupby('bank_id').cumcount() + 1\n",
    "    full_data['bank_cumappliedcnt'] = full_data.sort_values(by='loanapply_insert_time_s').groupby('bank_id')['is_applied'].cumsum()\n",
    "    full_data['bank_popularity'] = full_data['bank_cumappliedcnt'] / full_data['bank_cumcnt'] \n",
    "    full_data.drop(['bank_cumappliedcnt'],axis=1,inplace=True) \n",
    "    full_data[['bank_cumcnt','bank_popularity']].fillna(0, inplace=True)\n",
    "    print('bank_cumcnt is done.')\n",
    "    print('bank_popularity is done.')\n",
    "    \n",
    "    ## product_popularity: 상품의 인기도 \n",
    "    full_data['product_cumcnt'] = full_data.sort_values(by='loanapply_insert_time_s').groupby('product_id').cumcount() + 1\n",
    "    full_data['product_cumappliedcnt'] = full_data.sort_values(by='loanapply_insert_time_s').groupby('product_id')['is_applied'].cumsum()\n",
    "    full_data['product_popularity'] = full_data['product_cumappliedcnt'] / full_data['product_cumcnt'] \n",
    "    full_data.drop(['product_cumappliedcnt'],axis=1,inplace=True) \n",
    "    full_data[['product_cumcnt','product_popularity']].fillna(0, inplace=True)\n",
    "    print('product_cumcnt is done.') \n",
    "    print('product_popularity is done.')\n",
    "    \n",
    "    full_data['is_applied'] = full_data['is_applied'].fillna(-1).astype(int).astype(str).replace('-1', np.nan)\n",
    "    \n",
    "    train = full_data.loc[full_data.index.isin(np.arange(train_index))]\n",
    "    test = full_data.loc[~full_data.index.isin(np.arange(train_index))]\n",
    "    \n",
    "    return train, test"
   ]
  },
  {
   "cell_type": "code",
   "execution_count": 191,
   "metadata": {
    "ExecuteTime": {
     "end_time": "2022-10-13T15:29:12.852283Z",
     "start_time": "2022-10-13T15:29:07.188921Z"
    },
    "hidden": true,
    "hide_input": true,
    "scrolled": true
   },
   "outputs": [
    {
     "name": "stdout",
     "output_type": "stream",
     "text": [
      "application_id                         0\n",
      "loanapply_insert_time                  0\n",
      "bank_id                                0\n",
      "product_id                             0\n",
      "loan_limit                             0\n",
      "loan_rate                              0\n",
      "is_applied                             0\n",
      "user_id                                0\n",
      "birth_year                             0\n",
      "gender                                 0\n",
      "insert_time                            0\n",
      "credit_score                           0\n",
      "yearly_income                          0\n",
      "income_type                            0\n",
      "company_enter_month                    0\n",
      "employment_type                        0\n",
      "houseown_type                          0\n",
      "desired_amount                         0\n",
      "purpose                                0\n",
      "personal_rehabilitation_yn             0\n",
      "personal_rehabilitation_complete_yn    0\n",
      "existing_loan_cnt                      0\n",
      "existing_loan_amt                      0\n",
      "company_enter_year                     0\n",
      "dtype: int64\n",
      "application_id                               0\n",
      "loanapply_insert_time                        0\n",
      "bank_id                                      0\n",
      "product_id                                   0\n",
      "loan_limit                                   0\n",
      "loan_rate                                    0\n",
      "is_applied                             2603137\n",
      "user_id                                      0\n",
      "birth_year                                   0\n",
      "gender                                       0\n",
      "insert_time                                  0\n",
      "credit_score                                 0\n",
      "yearly_income                                0\n",
      "income_type                                  0\n",
      "company_enter_month                          0\n",
      "employment_type                              0\n",
      "houseown_type                                0\n",
      "desired_amount                               0\n",
      "purpose                                      0\n",
      "personal_rehabilitation_yn                   0\n",
      "personal_rehabilitation_complete_yn          0\n",
      "existing_loan_cnt                            0\n",
      "existing_loan_amt                            0\n",
      "company_enter_year                           0\n",
      "dtype: int64\n"
     ]
    }
   ],
   "source": [
    "print(train_df2.isna().sum(0))\n",
    "print(test_df2.isna().sum(0))"
   ]
  },
  {
   "cell_type": "code",
   "execution_count": 192,
   "metadata": {
    "ExecuteTime": {
     "end_time": "2022-10-13T15:30:24.708187Z",
     "start_time": "2022-10-13T15:29:24.138257Z"
    },
    "hidden": true,
    "hide_input": true,
    "scrolled": true
   },
   "outputs": [
    {
     "name": "stdout",
     "output_type": "stream",
     "text": [
      "bank_cumcnt is done.\n",
      "bank_popularity is done.\n",
      "product_cumcnt is done.\n",
      "product_popularity is done.\n"
     ]
    }
   ],
   "source": [
    "train_df3, test_df3 = add_popularity(train_df2, test_df2)"
   ]
  },
  {
   "cell_type": "code",
   "execution_count": 193,
   "metadata": {
    "ExecuteTime": {
     "end_time": "2022-10-13T15:30:45.038116Z",
     "start_time": "2022-10-13T15:30:37.957054Z"
    },
    "hidden": true
   },
   "outputs": [
    {
     "name": "stdout",
     "output_type": "stream",
     "text": [
      "application_id                         0\n",
      "loanapply_insert_time                  0\n",
      "bank_id                                0\n",
      "product_id                             0\n",
      "loan_limit                             0\n",
      "loan_rate                              0\n",
      "is_applied                             0\n",
      "user_id                                0\n",
      "birth_year                             0\n",
      "gender                                 0\n",
      "insert_time                            0\n",
      "credit_score                           0\n",
      "yearly_income                          0\n",
      "income_type                            0\n",
      "company_enter_month                    0\n",
      "employment_type                        0\n",
      "houseown_type                          0\n",
      "desired_amount                         0\n",
      "purpose                                0\n",
      "personal_rehabilitation_yn             0\n",
      "personal_rehabilitation_complete_yn    0\n",
      "existing_loan_cnt                      0\n",
      "existing_loan_amt                      0\n",
      "company_enter_year                     0\n",
      "loanapply_insert_time_s                0\n",
      "bank_cumcnt                            0\n",
      "bank_popularity                        0\n",
      "product_cumcnt                         0\n",
      "product_popularity                     0\n",
      "dtype: int64\n",
      "application_id                               0\n",
      "loanapply_insert_time                        0\n",
      "bank_id                                      0\n",
      "product_id                                   0\n",
      "loan_limit                                   0\n",
      "loan_rate                                    0\n",
      "is_applied                             2603137\n",
      "user_id                                      0\n",
      "birth_year                                   0\n",
      "gender                                       0\n",
      "insert_time                                  0\n",
      "credit_score                                 0\n",
      "yearly_income                                0\n",
      "income_type                                  0\n",
      "company_enter_month                          0\n",
      "employment_type                              0\n",
      "houseown_type                                0\n",
      "desired_amount                               0\n",
      "purpose                                      0\n",
      "personal_rehabilitation_yn                   0\n",
      "personal_rehabilitation_complete_yn          0\n",
      "existing_loan_cnt                            0\n",
      "existing_loan_amt                            0\n",
      "company_enter_year                           0\n",
      "loanapply_insert_time_s                      0\n",
      "bank_cumcnt                                  0\n",
      "bank_popularity                        2603137\n",
      "product_cumcnt                               0\n",
      "product_popularity                     2603137\n",
      "dtype: int64\n"
     ]
    }
   ],
   "source": [
    "print(train_df3.isna().sum(0))\n",
    "print(test_df3.isna().sum(0))"
   ]
  },
  {
   "cell_type": "code",
   "execution_count": 194,
   "metadata": {
    "ExecuteTime": {
     "end_time": "2022-10-13T15:30:57.503017Z",
     "start_time": "2022-10-13T15:30:57.488970Z"
    },
    "code_folding": [
     0
    ],
    "hidden": true,
    "hide_input": false
   },
   "outputs": [],
   "source": [
    "def popularity_ReplaceTestNA(train, test):  \n",
    "    \n",
    "    \n",
    "    data = pd.concat([train, test], axis=0).reset_index(drop=True)\n",
    "    train_index = train.shape[0] \n",
    "    \n",
    "    ## 1) bank_popularity NA 처리 \n",
    "\n",
    "    \n",
    "#     #만일 bank_popularity, product_popularity Na 있으면, loan_rate 차이 적은 bank_id, product_id 의 popularity로 대체 \n",
    "#     full_data['bank_popularity'].fillna((full_data['bank_popularity'].mean()), inplace=True)\n",
    "#     full_data['product_popularity'].fillna((full_data['product_popularity'].mean()), inplace=True)\n",
    "\n",
    "#     full_data['is_applied'] = full_data['is_applied'].astype(float)\n",
    "    \n",
    "    # bank_popularity 가 결측이면 \n",
    "    if data['bank_popularity'].isna().sum() != 0 :\n",
    "        \n",
    "        # 케이스 1) train에 존재하는 bank_id 일 경우 \n",
    "        data['bank_popularity'] = data.groupby('bank_id')['bank_popularity'].ffill()  # train의 가장 마지막 값으로 채우기 (mle 수렴한다고 가정)\n",
    "        \n",
    "        \n",
    "        # 케이스 2) train에 없는 새로 생긴 bank_id 일 경우\n",
    "        \n",
    "        # bank_popularity 가 NA인 user_id 리스트 \n",
    "        na_banks = list(set(data.loc[data['bank_popularity'].isna(), 'bank_id']))\n",
    "        notNA_df = data[data['bank_popularity'].notna()] \n",
    "\n",
    "        for i in range(len(na_banks)): \n",
    "\n",
    "            ## 현재 NA인 bank_popularity 의 loan_rate 최댓값 \n",
    "            loan_rate_NA_max = data.loc[data['bank_id'] == na_banks[i],'loan_rate'].max() \n",
    "            # loan_rate 차이가 최소인 열 구하기 \n",
    "            min_diff_idx = (loan_rate_NA_max - notNA_df['loan_rate']).abs().idxmin()\n",
    "            # 그 열들의 평균 bank_popularity \n",
    "            data.loc[data['bank_id'] == na_banks[i], 'bank_popularity'] = np.mean(\n",
    "                    notNA_df.iloc[min_diff_idx, notNA_df.columns.get_loc(\"bank_popularity\")])\n",
    "        print('bank_popularity NA is done.') \n",
    "        \n",
    "    \n",
    "    ## 2) product_popularity  NA 처리 \n",
    "    if data['product_popularity'].isna().sum() != 0 :\n",
    "        \n",
    "        # 케이스 1) train에 존재하는 product_id 일 경우 \n",
    "        data['product_popularity'] = data.groupby('product_id')['product_popularity'].ffill()  # train의 가장 마지막 값으로 채우기 (mle 수렴한다고 가정)\n",
    "        \n",
    "    \n",
    "        # 케이스 2) train에 없는 새로 생긴 product_id 일 경우\n",
    "    \n",
    "        # product_popularity 가 NA인 user_id 리스트 \n",
    "        na_products = list(set(data.loc[data['product_popularity'].isna(), 'product_id']))\n",
    "        notNA_df = data[data['product_popularity'].notna()]\n",
    "\n",
    "        for i in range(len(na_products)): \n",
    "            \n",
    "            ## 현재 NA인 product_popularity 의 loan_rate 최댓값 \n",
    "            loan_rate_NA_max = data.loc[data['product_id'] == na_products[i],'loan_rate'].max()\n",
    "            # loan_rate 차이가 최소인 열 구하기 \n",
    "            min_diff_idx = (loan_rate_NA_max - notNA_df['loan_rate']).abs().idxmin()\n",
    "            # 그 열들의 평균 bank_popularity \n",
    "            data.loc[data['product_id'] == na_products[i], 'product_popularity'] = np.mean(\n",
    "                    notNA_df.iloc[min_diff_idx, notNA_df.columns.get_loc(\"product_popularity\")])\n",
    "        print('product_popularity NA is done.')     \n",
    "            \n",
    "    \n",
    "    train = data.loc[data.index.isin(np.arange(train_index))]\n",
    "    test = data.loc[~data.index.isin(np.arange(train_index))]\n",
    "    \n",
    "    return train, test "
   ]
  },
  {
   "cell_type": "code",
   "execution_count": 195,
   "metadata": {
    "ExecuteTime": {
     "end_time": "2022-10-13T15:31:30.607905Z",
     "start_time": "2022-10-13T15:31:10.101832Z"
    },
    "hidden": true,
    "hide_input": true,
    "scrolled": true
   },
   "outputs": [
    {
     "name": "stdout",
     "output_type": "stream",
     "text": [
      "bank_popularity NA is done.\n",
      "product_popularity NA is done.\n"
     ]
    }
   ],
   "source": [
    "train_df4, test_df4 = popularity_ReplaceTestNA(train_df3, test_df3)"
   ]
  },
  {
   "cell_type": "code",
   "execution_count": 196,
   "metadata": {
    "ExecuteTime": {
     "end_time": "2022-10-13T15:31:53.075357Z",
     "start_time": "2022-10-13T15:31:45.949860Z"
    },
    "hidden": true
   },
   "outputs": [
    {
     "name": "stdout",
     "output_type": "stream",
     "text": [
      "application_id                         0\n",
      "loanapply_insert_time                  0\n",
      "bank_id                                0\n",
      "product_id                             0\n",
      "loan_limit                             0\n",
      "loan_rate                              0\n",
      "is_applied                             0\n",
      "user_id                                0\n",
      "birth_year                             0\n",
      "gender                                 0\n",
      "insert_time                            0\n",
      "credit_score                           0\n",
      "yearly_income                          0\n",
      "income_type                            0\n",
      "company_enter_month                    0\n",
      "employment_type                        0\n",
      "houseown_type                          0\n",
      "desired_amount                         0\n",
      "purpose                                0\n",
      "personal_rehabilitation_yn             0\n",
      "personal_rehabilitation_complete_yn    0\n",
      "existing_loan_cnt                      0\n",
      "existing_loan_amt                      0\n",
      "company_enter_year                     0\n",
      "loanapply_insert_time_s                0\n",
      "bank_cumcnt                            0\n",
      "bank_popularity                        0\n",
      "product_cumcnt                         0\n",
      "product_popularity                     0\n",
      "dtype: int64\n",
      "application_id                               0\n",
      "loanapply_insert_time                        0\n",
      "bank_id                                      0\n",
      "product_id                                   0\n",
      "loan_limit                                   0\n",
      "loan_rate                                    0\n",
      "is_applied                             2603137\n",
      "user_id                                      0\n",
      "birth_year                                   0\n",
      "gender                                       0\n",
      "insert_time                                  0\n",
      "credit_score                                 0\n",
      "yearly_income                                0\n",
      "income_type                                  0\n",
      "company_enter_month                          0\n",
      "employment_type                              0\n",
      "houseown_type                                0\n",
      "desired_amount                               0\n",
      "purpose                                      0\n",
      "personal_rehabilitation_yn                   0\n",
      "personal_rehabilitation_complete_yn          0\n",
      "existing_loan_cnt                            0\n",
      "existing_loan_amt                            0\n",
      "company_enter_year                           0\n",
      "loanapply_insert_time_s                      0\n",
      "bank_cumcnt                                  0\n",
      "bank_popularity                              0\n",
      "product_cumcnt                               0\n",
      "product_popularity                           0\n",
      "dtype: int64\n"
     ]
    }
   ],
   "source": [
    "print(train_df4.isna().sum(0))\n",
    "print(test_df4.isna().sum(0))"
   ]
  },
  {
   "cell_type": "code",
   "execution_count": null,
   "metadata": {
    "hidden": true
   },
   "outputs": [],
   "source": []
  },
  {
   "cell_type": "code",
   "execution_count": 197,
   "metadata": {
    "ExecuteTime": {
     "end_time": "2022-10-13T15:32:07.973481Z",
     "start_time": "2022-10-13T15:32:07.946519Z"
    },
    "code_folding": [
     12
    ],
    "hidden": true
   },
   "outputs": [],
   "source": [
    "# 은행 분류 정의 (EDA 결과를 바탕으로)\n",
    "bank_cluster1= [55, 14, 44, 21, 42, 38, 34, 46, 29, 39, 15, 6, 61, 64, 13, 57, 32, 20, 35, 59, 31, 50, 27, 7, 25, 36, 1, 26, 24, 54, 22, 49, 8, 37, 58, 12, 43, 19, 33, 47, 30, 28, 10, 41, 18, 62, 17, 5, 63, 23, 11, 51, 45, 40, 56, 4, 2, 16, 52, 9]\n",
    "bank_cluster2= [29, 55, 42, 3, 46, 21, 14, 64, 15, 20, 57, 39, 35, 52, 44, 27, 59, 8, 45, 54, 50, 43, 26, 1, 61, 49, 31, 37, 58, 12, 36, 7, 25, 38, 19, 47, 18, 22, 62, 30, 5, 33, 24, 63, 23, 32, 40, 60, 28, 41, 56, 4, 16, 17, 2, 9]\n",
    "bank_cluster3= [13, 55, 35, 38, 64, 15, 34, 3, 6, 24, 14, 44, 37, 46, 21, 32, 57, 61, 42, 1, 43, 36, 20, 59, 25, 22, 50, 11, 26, 54, 49, 7, 31, 58, 12, 19, 33, 30, 47, 28, 10, 41, 17, 5, 63, 23, 40, 51, 56, 2]\n",
    "\n",
    "# 대출상품 분류 정의 (EDA 결과를 바탕으로)\n",
    "product_cluster1= [12, 128, 171, 196, 216, 113, 8, 215, 140, 197, 227, 265, 62, 204, 36, 92, 25, 258, 141, 254, 186, 262, 71, 56, 111, 249, 51, 15, 38, 150, 239, 174, 142, 176, 220, 191, 245, 90, 185, 163, 192, 67, 61, 80, 263, 259, 157, 82, 70, 1, 221, 60, 91, 39, 144, 31, 107, 206, 243, 175, 29, 68, 58, 224, 35, 246, 168, 147, 231, 264, 110, 138, 121, 235, 217, 266, 267, 96, 149, 65, 222, 26, 223, 16, 139, 114, 49, 78, 85, 40, 131, 200, 19, 194, 226, 233, 236, 108, 170, 169, 162, 270, 57, 20, 43, 247, 86, 22, 161, 129, 146, 252, 94, 98, 30, 79, 5, 81, 240, 59, 248, 123, 268, 137, 93, 42, 124, 24, 211, 238, 100, 126, 7, 181, 166, 187, 159, 250]\n",
    "product_cluster2= [265, 25, 258, 205, 227, 196, 128, 254, 152, 141, 111, 12, 71, 62, 216, 197, 38, 249, 234, 171, 148, 251, 187, 91, 270, 119, 259, 22, 31, 142, 246, 80, 90, 8, 185, 1, 144, 245, 92, 195, 136, 244, 206, 39, 175, 140, 68, 61, 35, 15, 60, 191, 75, 224, 163, 58, 103, 134, 127, 47, 223, 16, 78, 235, 131, 188, 94, 176, 49, 138, 96, 164, 200, 48, 121, 194, 189, 229, 20, 226, 184, 236, 266, 257, 261, 129, 267, 157, 183, 63, 217, 51, 110, 174, 30, 263, 161, 222, 162, 5, 108, 59, 67, 268, 137, 225, 264, 233, 42, 147, 168, 146, 166, 220, 238, 19, 26, 7, 181, 55, 250, 105, 190]\n",
    "product_cluster3= [123, 12, 29, 262, 113, 254, 204, 215, 15, 205, 36, 263, 197, 239, 152, 8, 192, 38, 141, 206, 186, 25, 227, 140, 196, 56, 71, 92, 128, 258, 171, 61, 246, 157, 111, 67, 150, 169, 221, 216, 142, 118, 80, 163, 107, 70, 168, 245, 81, 1, 259, 39, 191, 220, 174, 266, 243, 249, 175, 35, 90, 68, 159, 185, 60, 51, 144, 161, 91, 231, 110, 85, 138, 86, 217, 49, 98, 223, 16, 65, 149, 235, 57, 139, 222, 264, 40, 19, 194, 100, 43, 226, 170, 79, 108, 236, 233, 129, 252, 26, 162, 267, 224, 147, 46, 30, 5, 124, 248, 247, 121, 114, 58, 137, 126, 93, 24, 146, 7, 181]\n",
    "\n",
    "    \n",
    "## bank_group: bank의 loan_rate, loan_limit을 기준으로 그룹핑 \n",
    "def BankProductGroups(data, variable, cluster1, cluster2, cluster3):\n",
    "    \n",
    "    ## 차집합을 이용해 7개의 클러스터로 나눔\n",
    "    c123 = list(set(cluster1) & set(cluster2) & set(cluster3)) \n",
    "\n",
    "    c1 = list((set(cluster1) - set(cluster2)) - set(cluster3))\n",
    "    c2 = list((set(cluster2) - set(cluster3)) - set(cluster1))\n",
    "    c3 = list((set(cluster3) - set(cluster1)) - set(cluster2))\n",
    "\n",
    "    c12 = list((set(cluster1) & set(cluster2)) - set(c123))\n",
    "    c23 = list((set(cluster2) & set(cluster3)) - set(c123))\n",
    "    c31 = list((set(cluster3) & set(cluster1)) - set(c123))\n",
    "\n",
    "    clusters_list = [c1, c2, c3, c12, c23, c31, c123]\n",
    "\n",
    "    ## 내용이 없는 클러스터일 경우 삭제 \n",
    "    clusters_list = [cluster for cluster in clusters_list if cluster != []]\n",
    "#     print(clusters_list)\n",
    "    \n",
    "    ## bank_group, product_group: bank_id 를 loan_rate,loan_limit 이용해 clustering 한 결과 \n",
    "    for i, value in enumerate(clusters_list):\n",
    "        \n",
    "        # 각 group 에 속한 bank_id 혹은 product_id 를 확인할 수 있음 \n",
    "#         print(str(variable), 'cluster: ', (i+1), value)\n",
    "        print('cluster ', str(i), 'len: ', len(value), '\\n', value)\n",
    "        \n",
    "        if variable == 'bank_id':\n",
    "            data.loc[data[variable].isin(value), 'bank_group'] = i+1\n",
    "        elif variable == 'product_id':\n",
    "            data.loc[data[variable].isin(value), 'product_group'] = i+1 \n",
    "    \n",
    "    print(str(variable), 'group done.') \n",
    "    print('\\n')\n",
    "\n",
    "    return data "
   ]
  },
  {
   "cell_type": "code",
   "execution_count": 198,
   "metadata": {
    "ExecuteTime": {
     "end_time": "2022-10-13T15:32:22.845742Z",
     "start_time": "2022-10-13T15:32:22.830678Z"
    },
    "code_folding": [
     0
    ],
    "hidden": true
   },
   "outputs": [],
   "source": [
    "def bpGroup_ReplaceTestNA(train, test):  \n",
    "    \n",
    "    \n",
    "    data = pd.concat([train, test], axis=0).reset_index(drop=True)\n",
    "    train_index = train.shape[0] \n",
    "    \n",
    "    ## 1) bank_group NA 처리 \n",
    "      \n",
    "    # bank_group 가 결측이면 \n",
    "    if data['bank_group'].isna().sum() != 0 :\n",
    "        \n",
    "        # 케이스 1) train에 존재하는 bank_id 일 경우 \n",
    "        ## train의 가장 마지막 값으로 채우기 (mle 수렴한다고 가정)\n",
    "        \n",
    "        data['bank_group'] = data.groupby('bank_id')['bank_group'].ffill()  \n",
    "        \n",
    "        # 케이스 2) train에 없는 새로 생긴 bank_id 일 경우\n",
    "        \n",
    "        # bank_popularity 가 NA인 user_id 리스트 \n",
    "        na_banks = list(set(data.loc[data['bank_group'].isna(), 'bank_id']))\n",
    "        notNA_df = data[data['bank_group'].notna()] \n",
    "\n",
    "        for i in range(len(na_banks)): \n",
    "\n",
    "            ## 현재 NA인 bank_popularity 의 loan_rate 최댓값 \n",
    "            loan_rate_NA_max = data.loc[data['bank_id'] == na_banks[i],'loan_rate'].max() \n",
    "            # loan_rate 차이가 최소인 열 구하기 \n",
    "            min_diff_idx = (loan_rate_NA_max - notNA_df['loan_rate']).abs().idxmin()\n",
    "            # 그 열들의 평균 bank_popularity \n",
    "            data.loc[data['bank_id'] == na_banks[i], 'bank_group'] = np.mean(\n",
    "                    notNA_df.iloc[min_diff_idx, notNA_df.columns.get_loc(\"bank_group\")])\n",
    "        print('bank_group NA is done.') \n",
    "        \n",
    "    \n",
    "    ## 2) product_group  NA 처리 \n",
    "    if data['product_group'].isna().sum() != 0 :\n",
    "        \n",
    "        # 케이스 1) train에 존재하는 product_id 일 경우 \n",
    "        # train의 가장 마지막 값으로 채우기 (mle 수렴한다고 가정)\n",
    "        data['product_group'] = data.groupby('product_id')['product_group'].ffill()  \n",
    "    \n",
    "        # 케이스 2) train에 없는 새로 생긴 product_id 일 경우\n",
    "    \n",
    "        # product_popularity 가 NA인 user_id 리스트 \n",
    "        na_products = list(set(data.loc[data['product_group'].isna(), 'product_id']))\n",
    "        notNA_df = data[data['product_group'].notna()]\n",
    "\n",
    "        for i in range(len(na_products)): \n",
    "            \n",
    "            ## 현재 NA인 product_popularity 의 loan_rate 최댓값 \n",
    "            loan_rate_NA_max = data.loc[data['product_id'] == na_products[i],'loan_rate'].max()\n",
    "            # loan_rate 차이가 최소인 열 구하기 \n",
    "            min_diff_idx = (loan_rate_NA_max - notNA_df['loan_rate']).abs().idxmin()\n",
    "            # 그 열들의 평균 bank_popularity \n",
    "            data.loc[data['product_id'] == na_products[i], 'product_group'] = np.mean(\n",
    "                    notNA_df.iloc[min_diff_idx, notNA_df.columns.get_loc(\"product_group\")])\n",
    "        print('product_group NA is done.')     \n",
    "            \n",
    "    \n",
    "    train = data.loc[data.index.isin(np.arange(train_index))]\n",
    "    test = data.loc[~data.index.isin(np.arange(train_index))]\n",
    "    \n",
    "    return train, test "
   ]
  },
  {
   "cell_type": "code",
   "execution_count": 102,
   "metadata": {
    "ExecuteTime": {
     "end_time": "2022-10-13T16:15:00.607464Z",
     "start_time": "2022-10-13T16:15:00.590282Z"
    },
    "hidden": true
   },
   "outputs": [
    {
     "ename": "NameError",
     "evalue": "name 'train_df4' is not defined",
     "output_type": "error",
     "traceback": [
      "\u001b[1;31m---------------------------------------------------------------------------\u001b[0m",
      "\u001b[1;31mNameError\u001b[0m                                 Traceback (most recent call last)",
      "Input \u001b[1;32mIn [102]\u001b[0m, in \u001b[0;36m<cell line: 2>\u001b[1;34m()\u001b[0m\n\u001b[0;32m      1\u001b[0m \u001b[38;5;66;03m## train 적용  # train_df4, test_df4\u001b[39;00m\n\u001b[1;32m----> 2\u001b[0m train_df5 \u001b[38;5;241m=\u001b[39m BankProductGroups(\u001b[43mtrain_df4\u001b[49m, \u001b[38;5;124m'\u001b[39m\u001b[38;5;124mbank_id\u001b[39m\u001b[38;5;124m'\u001b[39m, bank_cluster1, bank_cluster2, bank_cluster3)\n\u001b[0;32m      3\u001b[0m train_df5 \u001b[38;5;241m=\u001b[39m BankProductGroups(train_df4, \u001b[38;5;124m'\u001b[39m\u001b[38;5;124mproduct_id\u001b[39m\u001b[38;5;124m'\u001b[39m, product_cluster1, product_cluster2, product_cluster3)\n\u001b[0;32m      5\u001b[0m \u001b[38;5;66;03m## test 적용 \u001b[39;00m\n",
      "\u001b[1;31mNameError\u001b[0m: name 'train_df4' is not defined"
     ]
    }
   ],
   "source": [
    "## train 적용  # train_df4, test_df4\n",
    "train_df5 = BankProductGroups(train_df4, 'bank_id', bank_cluster1, bank_cluster2, bank_cluster3)\n",
    "train_df5 = BankProductGroups(train_df4, 'product_id', product_cluster1, product_cluster2, product_cluster3)\n",
    "\n",
    "## test 적용 \n",
    "test_df5 = BankProductGroups(test_df4, 'bank_id', bank_cluster1, bank_cluster2, bank_cluster3)\n",
    "test_df5 = BankProductGroups(test_df4, 'product_id', product_cluster1, product_cluster2, product_cluster3)"
   ]
  },
  {
   "cell_type": "code",
   "execution_count": 200,
   "metadata": {
    "ExecuteTime": {
     "end_time": "2022-10-13T15:33:01.508641Z",
     "start_time": "2022-10-13T15:32:54.341892Z"
    },
    "hidden": true
   },
   "outputs": [
    {
     "name": "stdout",
     "output_type": "stream",
     "text": [
      "application_id                         0\n",
      "loanapply_insert_time                  0\n",
      "bank_id                                0\n",
      "product_id                             0\n",
      "loan_limit                             0\n",
      "loan_rate                              0\n",
      "is_applied                             0\n",
      "user_id                                0\n",
      "birth_year                             0\n",
      "gender                                 0\n",
      "insert_time                            0\n",
      "credit_score                           0\n",
      "yearly_income                          0\n",
      "income_type                            0\n",
      "company_enter_month                    0\n",
      "employment_type                        0\n",
      "houseown_type                          0\n",
      "desired_amount                         0\n",
      "purpose                                0\n",
      "personal_rehabilitation_yn             0\n",
      "personal_rehabilitation_complete_yn    0\n",
      "existing_loan_cnt                      0\n",
      "existing_loan_amt                      0\n",
      "company_enter_year                     0\n",
      "loanapply_insert_time_s                0\n",
      "bank_cumcnt                            0\n",
      "bank_popularity                        0\n",
      "product_cumcnt                         0\n",
      "product_popularity                     0\n",
      "bank_group                             0\n",
      "product_group                          0\n",
      "dtype: int64\n",
      "application_id                               0\n",
      "loanapply_insert_time                        0\n",
      "bank_id                                      0\n",
      "product_id                                   0\n",
      "loan_limit                                   0\n",
      "loan_rate                                    0\n",
      "is_applied                             2603137\n",
      "user_id                                      0\n",
      "birth_year                                   0\n",
      "gender                                       0\n",
      "insert_time                                  0\n",
      "credit_score                                 0\n",
      "yearly_income                                0\n",
      "income_type                                  0\n",
      "company_enter_month                          0\n",
      "employment_type                              0\n",
      "houseown_type                                0\n",
      "desired_amount                               0\n",
      "purpose                                      0\n",
      "personal_rehabilitation_yn                   0\n",
      "personal_rehabilitation_complete_yn          0\n",
      "existing_loan_cnt                            0\n",
      "existing_loan_amt                            0\n",
      "company_enter_year                           0\n",
      "loanapply_insert_time_s                      0\n",
      "bank_cumcnt                                  0\n",
      "bank_popularity                              0\n",
      "product_cumcnt                               0\n",
      "product_popularity                           0\n",
      "bank_group                                8333\n",
      "product_group                             9942\n",
      "dtype: int64\n"
     ]
    }
   ],
   "source": [
    "print(train_df5.isna().sum(0))\n",
    "print(test_df5.isna().sum(0))"
   ]
  },
  {
   "cell_type": "code",
   "execution_count": 101,
   "metadata": {
    "ExecuteTime": {
     "end_time": "2022-10-13T16:14:47.932058Z",
     "start_time": "2022-10-13T16:14:47.919065Z"
    },
    "hidden": true
   },
   "outputs": [
    {
     "ename": "NameError",
     "evalue": "name 'train_df5' is not defined",
     "output_type": "error",
     "traceback": [
      "\u001b[1;31m---------------------------------------------------------------------------\u001b[0m",
      "\u001b[1;31mNameError\u001b[0m                                 Traceback (most recent call last)",
      "Input \u001b[1;32mIn [101]\u001b[0m, in \u001b[0;36m<cell line: 2>\u001b[1;34m()\u001b[0m\n\u001b[0;32m      1\u001b[0m \u001b[38;5;66;03m## test NA 처리\u001b[39;00m\n\u001b[1;32m----> 2\u001b[0m train_df6, test_df6 \u001b[38;5;241m=\u001b[39m bpGroup_ReplaceTestNA(\u001b[43mtrain_df5\u001b[49m, test_df5)\n",
      "\u001b[1;31mNameError\u001b[0m: name 'train_df5' is not defined"
     ]
    }
   ],
   "source": [
    "## test NA 처리\n",
    "train_df6, test_df6 = bpGroup_ReplaceTestNA(train_df5, test_df5)"
   ]
  },
  {
   "cell_type": "code",
   "execution_count": 202,
   "metadata": {
    "ExecuteTime": {
     "end_time": "2022-10-13T15:34:10.034267Z",
     "start_time": "2022-10-13T15:34:02.937104Z"
    },
    "hidden": true
   },
   "outputs": [
    {
     "name": "stdout",
     "output_type": "stream",
     "text": [
      "application_id                         0\n",
      "loanapply_insert_time                  0\n",
      "bank_id                                0\n",
      "product_id                             0\n",
      "loan_limit                             0\n",
      "loan_rate                              0\n",
      "is_applied                             0\n",
      "user_id                                0\n",
      "birth_year                             0\n",
      "gender                                 0\n",
      "insert_time                            0\n",
      "credit_score                           0\n",
      "yearly_income                          0\n",
      "income_type                            0\n",
      "company_enter_month                    0\n",
      "employment_type                        0\n",
      "houseown_type                          0\n",
      "desired_amount                         0\n",
      "purpose                                0\n",
      "personal_rehabilitation_yn             0\n",
      "personal_rehabilitation_complete_yn    0\n",
      "existing_loan_cnt                      0\n",
      "existing_loan_amt                      0\n",
      "company_enter_year                     0\n",
      "loanapply_insert_time_s                0\n",
      "bank_cumcnt                            0\n",
      "bank_popularity                        0\n",
      "product_cumcnt                         0\n",
      "product_popularity                     0\n",
      "bank_group                             0\n",
      "product_group                          0\n",
      "dtype: int64\n",
      "application_id                               0\n",
      "loanapply_insert_time                        0\n",
      "bank_id                                      0\n",
      "product_id                                   0\n",
      "loan_limit                                   0\n",
      "loan_rate                                    0\n",
      "is_applied                             2603137\n",
      "user_id                                      0\n",
      "birth_year                                   0\n",
      "gender                                       0\n",
      "insert_time                                  0\n",
      "credit_score                                 0\n",
      "yearly_income                                0\n",
      "income_type                                  0\n",
      "company_enter_month                          0\n",
      "employment_type                              0\n",
      "houseown_type                                0\n",
      "desired_amount                               0\n",
      "purpose                                      0\n",
      "personal_rehabilitation_yn                   0\n",
      "personal_rehabilitation_complete_yn          0\n",
      "existing_loan_cnt                            0\n",
      "existing_loan_amt                            0\n",
      "company_enter_year                           0\n",
      "loanapply_insert_time_s                      0\n",
      "bank_cumcnt                                  0\n",
      "bank_popularity                              0\n",
      "product_cumcnt                               0\n",
      "product_popularity                           0\n",
      "bank_group                                   0\n",
      "product_group                                0\n",
      "dtype: int64\n"
     ]
    }
   ],
   "source": [
    "print(train_df6.isna().sum(0))\n",
    "print(test_df6.isna().sum(0))"
   ]
  },
  {
   "cell_type": "code",
   "execution_count": 203,
   "metadata": {
    "ExecuteTime": {
     "end_time": "2022-10-13T15:37:42.903655Z",
     "start_time": "2022-10-13T15:37:41.245962Z"
    },
    "hidden": true
   },
   "outputs": [
    {
     "data": {
      "text/html": [
       "<div>\n",
       "<style scoped>\n",
       "    .dataframe tbody tr th:only-of-type {\n",
       "        vertical-align: middle;\n",
       "    }\n",
       "\n",
       "    .dataframe tbody tr th {\n",
       "        vertical-align: top;\n",
       "    }\n",
       "\n",
       "    .dataframe thead th {\n",
       "        text-align: right;\n",
       "    }\n",
       "</style>\n",
       "<table border=\"1\" class=\"dataframe\">\n",
       "  <thead>\n",
       "    <tr style=\"text-align: right;\">\n",
       "      <th></th>\n",
       "      <th>application_id</th>\n",
       "      <th>loanapply_insert_time</th>\n",
       "      <th>bank_id</th>\n",
       "      <th>product_id</th>\n",
       "      <th>loan_limit</th>\n",
       "      <th>loan_rate</th>\n",
       "      <th>is_applied</th>\n",
       "      <th>user_id</th>\n",
       "      <th>birth_year</th>\n",
       "      <th>gender</th>\n",
       "      <th>...</th>\n",
       "      <th>existing_loan_cnt</th>\n",
       "      <th>existing_loan_amt</th>\n",
       "      <th>company_enter_year</th>\n",
       "      <th>loanapply_insert_time_s</th>\n",
       "      <th>bank_cumcnt</th>\n",
       "      <th>bank_popularity</th>\n",
       "      <th>product_cumcnt</th>\n",
       "      <th>product_popularity</th>\n",
       "      <th>bank_group</th>\n",
       "      <th>product_group</th>\n",
       "    </tr>\n",
       "  </thead>\n",
       "  <tbody>\n",
       "    <tr>\n",
       "      <th>0</th>\n",
       "      <td>180433</td>\n",
       "      <td>2022-03-01 00:12:05</td>\n",
       "      <td>19</td>\n",
       "      <td>231</td>\n",
       "      <td>16000000.0</td>\n",
       "      <td>15.0</td>\n",
       "      <td>0</td>\n",
       "      <td>623737</td>\n",
       "      <td>1997.0</td>\n",
       "      <td>1.0</td>\n",
       "      <td>...</td>\n",
       "      <td>3.0</td>\n",
       "      <td>11000000.0</td>\n",
       "      <td>2022.0</td>\n",
       "      <td>87125</td>\n",
       "      <td>1</td>\n",
       "      <td>0.000000</td>\n",
       "      <td>1</td>\n",
       "      <td>0.000000</td>\n",
       "      <td>5.0</td>\n",
       "      <td>6.0</td>\n",
       "    </tr>\n",
       "    <tr>\n",
       "      <th>1</th>\n",
       "      <td>180433</td>\n",
       "      <td>2022-03-01 00:12:05</td>\n",
       "      <td>13</td>\n",
       "      <td>262</td>\n",
       "      <td>22000000.0</td>\n",
       "      <td>16.6</td>\n",
       "      <td>0</td>\n",
       "      <td>623737</td>\n",
       "      <td>1997.0</td>\n",
       "      <td>1.0</td>\n",
       "      <td>...</td>\n",
       "      <td>3.0</td>\n",
       "      <td>11000000.0</td>\n",
       "      <td>2022.0</td>\n",
       "      <td>87125</td>\n",
       "      <td>1</td>\n",
       "      <td>0.000000</td>\n",
       "      <td>1</td>\n",
       "      <td>0.000000</td>\n",
       "      <td>4.0</td>\n",
       "      <td>6.0</td>\n",
       "    </tr>\n",
       "    <tr>\n",
       "      <th>2</th>\n",
       "      <td>180433</td>\n",
       "      <td>2022-03-01 00:12:06</td>\n",
       "      <td>21</td>\n",
       "      <td>196</td>\n",
       "      <td>3000000.0</td>\n",
       "      <td>10.9</td>\n",
       "      <td>1</td>\n",
       "      <td>623737</td>\n",
       "      <td>1997.0</td>\n",
       "      <td>1.0</td>\n",
       "      <td>...</td>\n",
       "      <td>3.0</td>\n",
       "      <td>11000000.0</td>\n",
       "      <td>2022.0</td>\n",
       "      <td>87126</td>\n",
       "      <td>1</td>\n",
       "      <td>1.000000</td>\n",
       "      <td>1</td>\n",
       "      <td>1.000000</td>\n",
       "      <td>5.0</td>\n",
       "      <td>7.0</td>\n",
       "    </tr>\n",
       "    <tr>\n",
       "      <th>3</th>\n",
       "      <td>1657888</td>\n",
       "      <td>2022-03-01 00:12:06</td>\n",
       "      <td>24</td>\n",
       "      <td>263</td>\n",
       "      <td>5000000.0</td>\n",
       "      <td>15.9</td>\n",
       "      <td>0</td>\n",
       "      <td>752985</td>\n",
       "      <td>1997.0</td>\n",
       "      <td>1.0</td>\n",
       "      <td>...</td>\n",
       "      <td>7.0</td>\n",
       "      <td>33000000.0</td>\n",
       "      <td>2021.0</td>\n",
       "      <td>87126</td>\n",
       "      <td>1</td>\n",
       "      <td>0.000000</td>\n",
       "      <td>1</td>\n",
       "      <td>0.000000</td>\n",
       "      <td>5.0</td>\n",
       "      <td>7.0</td>\n",
       "    </tr>\n",
       "    <tr>\n",
       "      <th>4</th>\n",
       "      <td>1657888</td>\n",
       "      <td>2022-03-01 00:12:06</td>\n",
       "      <td>42</td>\n",
       "      <td>216</td>\n",
       "      <td>3000000.0</td>\n",
       "      <td>13.5</td>\n",
       "      <td>0</td>\n",
       "      <td>752985</td>\n",
       "      <td>1997.0</td>\n",
       "      <td>1.0</td>\n",
       "      <td>...</td>\n",
       "      <td>7.0</td>\n",
       "      <td>33000000.0</td>\n",
       "      <td>2021.0</td>\n",
       "      <td>87126</td>\n",
       "      <td>1</td>\n",
       "      <td>0.000000</td>\n",
       "      <td>1</td>\n",
       "      <td>0.000000</td>\n",
       "      <td>5.0</td>\n",
       "      <td>7.0</td>\n",
       "    </tr>\n",
       "    <tr>\n",
       "      <th>...</th>\n",
       "      <td>...</td>\n",
       "      <td>...</td>\n",
       "      <td>...</td>\n",
       "      <td>...</td>\n",
       "      <td>...</td>\n",
       "      <td>...</td>\n",
       "      <td>...</td>\n",
       "      <td>...</td>\n",
       "      <td>...</td>\n",
       "      <td>...</td>\n",
       "      <td>...</td>\n",
       "      <td>...</td>\n",
       "      <td>...</td>\n",
       "      <td>...</td>\n",
       "      <td>...</td>\n",
       "      <td>...</td>\n",
       "      <td>...</td>\n",
       "      <td>...</td>\n",
       "      <td>...</td>\n",
       "      <td>...</td>\n",
       "      <td>...</td>\n",
       "    </tr>\n",
       "    <tr>\n",
       "      <th>7733091</th>\n",
       "      <td>455157</td>\n",
       "      <td>2022-05-31 23:54:28</td>\n",
       "      <td>35</td>\n",
       "      <td>168</td>\n",
       "      <td>3000000.0</td>\n",
       "      <td>18.3</td>\n",
       "      <td>0</td>\n",
       "      <td>717233</td>\n",
       "      <td>1973.0</td>\n",
       "      <td>1.0</td>\n",
       "      <td>...</td>\n",
       "      <td>12.0</td>\n",
       "      <td>293000000.0</td>\n",
       "      <td>1997.0</td>\n",
       "      <td>8034868</td>\n",
       "      <td>441005</td>\n",
       "      <td>0.028954</td>\n",
       "      <td>123237</td>\n",
       "      <td>0.017990</td>\n",
       "      <td>5.0</td>\n",
       "      <td>7.0</td>\n",
       "    </tr>\n",
       "    <tr>\n",
       "      <th>7733092</th>\n",
       "      <td>455157</td>\n",
       "      <td>2022-05-31 23:54:28</td>\n",
       "      <td>55</td>\n",
       "      <td>159</td>\n",
       "      <td>3000000.0</td>\n",
       "      <td>18.9</td>\n",
       "      <td>0</td>\n",
       "      <td>717233</td>\n",
       "      <td>1973.0</td>\n",
       "      <td>1.0</td>\n",
       "      <td>...</td>\n",
       "      <td>12.0</td>\n",
       "      <td>293000000.0</td>\n",
       "      <td>1997.0</td>\n",
       "      <td>8034868</td>\n",
       "      <td>126226</td>\n",
       "      <td>0.012406</td>\n",
       "      <td>12893</td>\n",
       "      <td>0.022027</td>\n",
       "      <td>5.0</td>\n",
       "      <td>6.0</td>\n",
       "    </tr>\n",
       "    <tr>\n",
       "      <th>7733093</th>\n",
       "      <td>455157</td>\n",
       "      <td>2022-05-31 23:54:29</td>\n",
       "      <td>22</td>\n",
       "      <td>221</td>\n",
       "      <td>5000000.0</td>\n",
       "      <td>18.4</td>\n",
       "      <td>0</td>\n",
       "      <td>717233</td>\n",
       "      <td>1973.0</td>\n",
       "      <td>1.0</td>\n",
       "      <td>...</td>\n",
       "      <td>12.0</td>\n",
       "      <td>293000000.0</td>\n",
       "      <td>1997.0</td>\n",
       "      <td>8034869</td>\n",
       "      <td>214358</td>\n",
       "      <td>0.029903</td>\n",
       "      <td>105765</td>\n",
       "      <td>0.038841</td>\n",
       "      <td>5.0</td>\n",
       "      <td>6.0</td>\n",
       "    </tr>\n",
       "    <tr>\n",
       "      <th>7733094</th>\n",
       "      <td>455157</td>\n",
       "      <td>2022-05-31 23:54:37</td>\n",
       "      <td>38</td>\n",
       "      <td>16</td>\n",
       "      <td>3000000.0</td>\n",
       "      <td>14.5</td>\n",
       "      <td>0</td>\n",
       "      <td>717233</td>\n",
       "      <td>1973.0</td>\n",
       "      <td>1.0</td>\n",
       "      <td>...</td>\n",
       "      <td>12.0</td>\n",
       "      <td>293000000.0</td>\n",
       "      <td>1997.0</td>\n",
       "      <td>8034877</td>\n",
       "      <td>381835</td>\n",
       "      <td>0.047620</td>\n",
       "      <td>109557</td>\n",
       "      <td>0.015809</td>\n",
       "      <td>5.0</td>\n",
       "      <td>7.0</td>\n",
       "    </tr>\n",
       "    <tr>\n",
       "      <th>7733095</th>\n",
       "      <td>831190</td>\n",
       "      <td>2022-05-31 23:54:38</td>\n",
       "      <td>52</td>\n",
       "      <td>187</td>\n",
       "      <td>2000000.0</td>\n",
       "      <td>9.5</td>\n",
       "      <td>0</td>\n",
       "      <td>472597</td>\n",
       "      <td>1992.0</td>\n",
       "      <td>0.0</td>\n",
       "      <td>...</td>\n",
       "      <td>2.0</td>\n",
       "      <td>5000000.0</td>\n",
       "      <td>2019.0</td>\n",
       "      <td>8034878</td>\n",
       "      <td>102722</td>\n",
       "      <td>0.071241</td>\n",
       "      <td>72250</td>\n",
       "      <td>0.028581</td>\n",
       "      <td>2.0</td>\n",
       "      <td>4.0</td>\n",
       "    </tr>\n",
       "  </tbody>\n",
       "</table>\n",
       "<p>7733096 rows × 31 columns</p>\n",
       "</div>"
      ],
      "text/plain": [
       "         application_id loanapply_insert_time  bank_id  product_id  \\\n",
       "0                180433   2022-03-01 00:12:05       19         231   \n",
       "1                180433   2022-03-01 00:12:05       13         262   \n",
       "2                180433   2022-03-01 00:12:06       21         196   \n",
       "3               1657888   2022-03-01 00:12:06       24         263   \n",
       "4               1657888   2022-03-01 00:12:06       42         216   \n",
       "...                 ...                   ...      ...         ...   \n",
       "7733091          455157   2022-05-31 23:54:28       35         168   \n",
       "7733092          455157   2022-05-31 23:54:28       55         159   \n",
       "7733093          455157   2022-05-31 23:54:29       22         221   \n",
       "7733094          455157   2022-05-31 23:54:37       38          16   \n",
       "7733095          831190   2022-05-31 23:54:38       52         187   \n",
       "\n",
       "         loan_limit  loan_rate is_applied  user_id  birth_year  gender  ...  \\\n",
       "0        16000000.0       15.0          0   623737      1997.0     1.0  ...   \n",
       "1        22000000.0       16.6          0   623737      1997.0     1.0  ...   \n",
       "2         3000000.0       10.9          1   623737      1997.0     1.0  ...   \n",
       "3         5000000.0       15.9          0   752985      1997.0     1.0  ...   \n",
       "4         3000000.0       13.5          0   752985      1997.0     1.0  ...   \n",
       "...             ...        ...        ...      ...         ...     ...  ...   \n",
       "7733091   3000000.0       18.3          0   717233      1973.0     1.0  ...   \n",
       "7733092   3000000.0       18.9          0   717233      1973.0     1.0  ...   \n",
       "7733093   5000000.0       18.4          0   717233      1973.0     1.0  ...   \n",
       "7733094   3000000.0       14.5          0   717233      1973.0     1.0  ...   \n",
       "7733095   2000000.0        9.5          0   472597      1992.0     0.0  ...   \n",
       "\n",
       "        existing_loan_cnt  existing_loan_amt  company_enter_year  \\\n",
       "0                     3.0         11000000.0              2022.0   \n",
       "1                     3.0         11000000.0              2022.0   \n",
       "2                     3.0         11000000.0              2022.0   \n",
       "3                     7.0         33000000.0              2021.0   \n",
       "4                     7.0         33000000.0              2021.0   \n",
       "...                   ...                ...                 ...   \n",
       "7733091              12.0        293000000.0              1997.0   \n",
       "7733092              12.0        293000000.0              1997.0   \n",
       "7733093              12.0        293000000.0              1997.0   \n",
       "7733094              12.0        293000000.0              1997.0   \n",
       "7733095               2.0          5000000.0              2019.0   \n",
       "\n",
       "        loanapply_insert_time_s  bank_cumcnt bank_popularity product_cumcnt  \\\n",
       "0                         87125            1        0.000000              1   \n",
       "1                         87125            1        0.000000              1   \n",
       "2                         87126            1        1.000000              1   \n",
       "3                         87126            1        0.000000              1   \n",
       "4                         87126            1        0.000000              1   \n",
       "...                         ...          ...             ...            ...   \n",
       "7733091                 8034868       441005        0.028954         123237   \n",
       "7733092                 8034868       126226        0.012406          12893   \n",
       "7733093                 8034869       214358        0.029903         105765   \n",
       "7733094                 8034877       381835        0.047620         109557   \n",
       "7733095                 8034878       102722        0.071241          72250   \n",
       "\n",
       "         product_popularity bank_group product_group  \n",
       "0                  0.000000        5.0           6.0  \n",
       "1                  0.000000        4.0           6.0  \n",
       "2                  1.000000        5.0           7.0  \n",
       "3                  0.000000        5.0           7.0  \n",
       "4                  0.000000        5.0           7.0  \n",
       "...                     ...        ...           ...  \n",
       "7733091            0.017990        5.0           7.0  \n",
       "7733092            0.022027        5.0           6.0  \n",
       "7733093            0.038841        5.0           6.0  \n",
       "7733094            0.015809        5.0           7.0  \n",
       "7733095            0.028581        2.0           4.0  \n",
       "\n",
       "[7733096 rows x 31 columns]"
      ]
     },
     "execution_count": 203,
     "metadata": {},
     "output_type": "execute_result"
    }
   ],
   "source": [
    "train_df6"
   ]
  },
  {
   "cell_type": "code",
   "execution_count": 204,
   "metadata": {
    "ExecuteTime": {
     "end_time": "2022-10-13T15:38:01.096675Z",
     "start_time": "2022-10-13T15:38:00.639308Z"
    },
    "hidden": true
   },
   "outputs": [
    {
     "data": {
      "text/html": [
       "<div>\n",
       "<style scoped>\n",
       "    .dataframe tbody tr th:only-of-type {\n",
       "        vertical-align: middle;\n",
       "    }\n",
       "\n",
       "    .dataframe tbody tr th {\n",
       "        vertical-align: top;\n",
       "    }\n",
       "\n",
       "    .dataframe thead th {\n",
       "        text-align: right;\n",
       "    }\n",
       "</style>\n",
       "<table border=\"1\" class=\"dataframe\">\n",
       "  <thead>\n",
       "    <tr style=\"text-align: right;\">\n",
       "      <th></th>\n",
       "      <th>application_id</th>\n",
       "      <th>loanapply_insert_time</th>\n",
       "      <th>bank_id</th>\n",
       "      <th>product_id</th>\n",
       "      <th>loan_limit</th>\n",
       "      <th>loan_rate</th>\n",
       "      <th>is_applied</th>\n",
       "      <th>user_id</th>\n",
       "      <th>birth_year</th>\n",
       "      <th>gender</th>\n",
       "      <th>...</th>\n",
       "      <th>existing_loan_cnt</th>\n",
       "      <th>existing_loan_amt</th>\n",
       "      <th>company_enter_year</th>\n",
       "      <th>loanapply_insert_time_s</th>\n",
       "      <th>bank_cumcnt</th>\n",
       "      <th>bank_popularity</th>\n",
       "      <th>product_cumcnt</th>\n",
       "      <th>product_popularity</th>\n",
       "      <th>bank_group</th>\n",
       "      <th>product_group</th>\n",
       "    </tr>\n",
       "  </thead>\n",
       "  <tbody>\n",
       "    <tr>\n",
       "      <th>7733096</th>\n",
       "      <td>506292</td>\n",
       "      <td>2022-06-01 00:12:24</td>\n",
       "      <td>27</td>\n",
       "      <td>148</td>\n",
       "      <td>13000000.0</td>\n",
       "      <td>7.2</td>\n",
       "      <td>NaN</td>\n",
       "      <td>669202</td>\n",
       "      <td>1981.0</td>\n",
       "      <td>1.0</td>\n",
       "      <td>...</td>\n",
       "      <td>1.0</td>\n",
       "      <td>6.299001e+07</td>\n",
       "      <td>2022.0</td>\n",
       "      <td>8035944</td>\n",
       "      <td>217653</td>\n",
       "      <td>0.073907</td>\n",
       "      <td>87541</td>\n",
       "      <td>0.082854</td>\n",
       "      <td>2.0</td>\n",
       "      <td>2.0</td>\n",
       "    </tr>\n",
       "    <tr>\n",
       "      <th>7733097</th>\n",
       "      <td>506292</td>\n",
       "      <td>2022-06-01 00:12:24</td>\n",
       "      <td>59</td>\n",
       "      <td>251</td>\n",
       "      <td>11000000.0</td>\n",
       "      <td>6.8</td>\n",
       "      <td>NaN</td>\n",
       "      <td>669202</td>\n",
       "      <td>1981.0</td>\n",
       "      <td>1.0</td>\n",
       "      <td>...</td>\n",
       "      <td>1.0</td>\n",
       "      <td>6.299001e+07</td>\n",
       "      <td>2022.0</td>\n",
       "      <td>8035944</td>\n",
       "      <td>299533</td>\n",
       "      <td>0.108473</td>\n",
       "      <td>121466</td>\n",
       "      <td>0.186803</td>\n",
       "      <td>5.0</td>\n",
       "      <td>2.0</td>\n",
       "    </tr>\n",
       "    <tr>\n",
       "      <th>7733098</th>\n",
       "      <td>506292</td>\n",
       "      <td>2022-06-01 00:12:24</td>\n",
       "      <td>19</td>\n",
       "      <td>231</td>\n",
       "      <td>24000000.0</td>\n",
       "      <td>15.6</td>\n",
       "      <td>NaN</td>\n",
       "      <td>669202</td>\n",
       "      <td>1981.0</td>\n",
       "      <td>1.0</td>\n",
       "      <td>...</td>\n",
       "      <td>1.0</td>\n",
       "      <td>6.299001e+07</td>\n",
       "      <td>2022.0</td>\n",
       "      <td>8035944</td>\n",
       "      <td>205488</td>\n",
       "      <td>0.049137</td>\n",
       "      <td>66382</td>\n",
       "      <td>0.048809</td>\n",
       "      <td>5.0</td>\n",
       "      <td>6.0</td>\n",
       "    </tr>\n",
       "    <tr>\n",
       "      <th>7733099</th>\n",
       "      <td>506292</td>\n",
       "      <td>2022-06-01 00:12:25</td>\n",
       "      <td>56</td>\n",
       "      <td>5</td>\n",
       "      <td>2000000.0</td>\n",
       "      <td>18.5</td>\n",
       "      <td>NaN</td>\n",
       "      <td>669202</td>\n",
       "      <td>1981.0</td>\n",
       "      <td>1.0</td>\n",
       "      <td>...</td>\n",
       "      <td>1.0</td>\n",
       "      <td>6.299001e+07</td>\n",
       "      <td>2022.0</td>\n",
       "      <td>8035945</td>\n",
       "      <td>59150</td>\n",
       "      <td>0.071785</td>\n",
       "      <td>59150</td>\n",
       "      <td>0.071785</td>\n",
       "      <td>5.0</td>\n",
       "      <td>7.0</td>\n",
       "    </tr>\n",
       "    <tr>\n",
       "      <th>7733100</th>\n",
       "      <td>506292</td>\n",
       "      <td>2022-06-01 00:12:34</td>\n",
       "      <td>19</td>\n",
       "      <td>127</td>\n",
       "      <td>13000000.0</td>\n",
       "      <td>9.5</td>\n",
       "      <td>NaN</td>\n",
       "      <td>669202</td>\n",
       "      <td>1981.0</td>\n",
       "      <td>1.0</td>\n",
       "      <td>...</td>\n",
       "      <td>1.0</td>\n",
       "      <td>6.299001e+07</td>\n",
       "      <td>2022.0</td>\n",
       "      <td>8035954</td>\n",
       "      <td>205489</td>\n",
       "      <td>0.049137</td>\n",
       "      <td>108515</td>\n",
       "      <td>0.060333</td>\n",
       "      <td>5.0</td>\n",
       "      <td>2.0</td>\n",
       "    </tr>\n",
       "    <tr>\n",
       "      <th>...</th>\n",
       "      <td>...</td>\n",
       "      <td>...</td>\n",
       "      <td>...</td>\n",
       "      <td>...</td>\n",
       "      <td>...</td>\n",
       "      <td>...</td>\n",
       "      <td>...</td>\n",
       "      <td>...</td>\n",
       "      <td>...</td>\n",
       "      <td>...</td>\n",
       "      <td>...</td>\n",
       "      <td>...</td>\n",
       "      <td>...</td>\n",
       "      <td>...</td>\n",
       "      <td>...</td>\n",
       "      <td>...</td>\n",
       "      <td>...</td>\n",
       "      <td>...</td>\n",
       "      <td>...</td>\n",
       "      <td>...</td>\n",
       "      <td>...</td>\n",
       "    </tr>\n",
       "    <tr>\n",
       "      <th>10336228</th>\n",
       "      <td>1495740</td>\n",
       "      <td>2022-06-30 23:54:07</td>\n",
       "      <td>55</td>\n",
       "      <td>144</td>\n",
       "      <td>34000000.0</td>\n",
       "      <td>13.6</td>\n",
       "      <td>NaN</td>\n",
       "      <td>274137</td>\n",
       "      <td>1980.0</td>\n",
       "      <td>1.0</td>\n",
       "      <td>...</td>\n",
       "      <td>3.0</td>\n",
       "      <td>4.500000e+07</td>\n",
       "      <td>2020.0</td>\n",
       "      <td>10626847</td>\n",
       "      <td>169362</td>\n",
       "      <td>0.012406</td>\n",
       "      <td>14207</td>\n",
       "      <td>0.013068</td>\n",
       "      <td>5.0</td>\n",
       "      <td>7.0</td>\n",
       "    </tr>\n",
       "    <tr>\n",
       "      <th>10336229</th>\n",
       "      <td>1495740</td>\n",
       "      <td>2022-06-30 23:54:13</td>\n",
       "      <td>8</td>\n",
       "      <td>31</td>\n",
       "      <td>6000000.0</td>\n",
       "      <td>9.5</td>\n",
       "      <td>NaN</td>\n",
       "      <td>274137</td>\n",
       "      <td>1980.0</td>\n",
       "      <td>1.0</td>\n",
       "      <td>...</td>\n",
       "      <td>3.0</td>\n",
       "      <td>4.500000e+07</td>\n",
       "      <td>2020.0</td>\n",
       "      <td>10626853</td>\n",
       "      <td>118549</td>\n",
       "      <td>0.112504</td>\n",
       "      <td>81558</td>\n",
       "      <td>0.143277</td>\n",
       "      <td>2.0</td>\n",
       "      <td>4.0</td>\n",
       "    </tr>\n",
       "    <tr>\n",
       "      <th>10336230</th>\n",
       "      <td>634459</td>\n",
       "      <td>2022-06-30 23:54:48</td>\n",
       "      <td>19</td>\n",
       "      <td>231</td>\n",
       "      <td>11000000.0</td>\n",
       "      <td>16.6</td>\n",
       "      <td>NaN</td>\n",
       "      <td>244440</td>\n",
       "      <td>2000.0</td>\n",
       "      <td>1.0</td>\n",
       "      <td>...</td>\n",
       "      <td>1.0</td>\n",
       "      <td>6.299001e+07</td>\n",
       "      <td>2022.0</td>\n",
       "      <td>10626888</td>\n",
       "      <td>283973</td>\n",
       "      <td>0.049137</td>\n",
       "      <td>97348</td>\n",
       "      <td>0.048809</td>\n",
       "      <td>5.0</td>\n",
       "      <td>6.0</td>\n",
       "    </tr>\n",
       "    <tr>\n",
       "      <th>10336231</th>\n",
       "      <td>634459</td>\n",
       "      <td>2022-06-30 23:54:48</td>\n",
       "      <td>10</td>\n",
       "      <td>149</td>\n",
       "      <td>30000000.0</td>\n",
       "      <td>14.5</td>\n",
       "      <td>NaN</td>\n",
       "      <td>244440</td>\n",
       "      <td>2000.0</td>\n",
       "      <td>1.0</td>\n",
       "      <td>...</td>\n",
       "      <td>1.0</td>\n",
       "      <td>6.299001e+07</td>\n",
       "      <td>2022.0</td>\n",
       "      <td>10626888</td>\n",
       "      <td>325535</td>\n",
       "      <td>0.031744</td>\n",
       "      <td>159437</td>\n",
       "      <td>0.034740</td>\n",
       "      <td>4.0</td>\n",
       "      <td>6.0</td>\n",
       "    </tr>\n",
       "    <tr>\n",
       "      <th>10336232</th>\n",
       "      <td>634459</td>\n",
       "      <td>2022-06-30 23:54:48</td>\n",
       "      <td>10</td>\n",
       "      <td>65</td>\n",
       "      <td>30000000.0</td>\n",
       "      <td>14.5</td>\n",
       "      <td>NaN</td>\n",
       "      <td>244440</td>\n",
       "      <td>2000.0</td>\n",
       "      <td>1.0</td>\n",
       "      <td>...</td>\n",
       "      <td>1.0</td>\n",
       "      <td>6.299001e+07</td>\n",
       "      <td>2022.0</td>\n",
       "      <td>10626888</td>\n",
       "      <td>325536</td>\n",
       "      <td>0.031744</td>\n",
       "      <td>166099</td>\n",
       "      <td>0.028896</td>\n",
       "      <td>4.0</td>\n",
       "      <td>6.0</td>\n",
       "    </tr>\n",
       "  </tbody>\n",
       "</table>\n",
       "<p>2603137 rows × 31 columns</p>\n",
       "</div>"
      ],
      "text/plain": [
       "          application_id loanapply_insert_time  bank_id  product_id  \\\n",
       "7733096           506292   2022-06-01 00:12:24       27         148   \n",
       "7733097           506292   2022-06-01 00:12:24       59         251   \n",
       "7733098           506292   2022-06-01 00:12:24       19         231   \n",
       "7733099           506292   2022-06-01 00:12:25       56           5   \n",
       "7733100           506292   2022-06-01 00:12:34       19         127   \n",
       "...                  ...                   ...      ...         ...   \n",
       "10336228         1495740   2022-06-30 23:54:07       55         144   \n",
       "10336229         1495740   2022-06-30 23:54:13        8          31   \n",
       "10336230          634459   2022-06-30 23:54:48       19         231   \n",
       "10336231          634459   2022-06-30 23:54:48       10         149   \n",
       "10336232          634459   2022-06-30 23:54:48       10          65   \n",
       "\n",
       "          loan_limit  loan_rate is_applied  user_id  birth_year  gender  ...  \\\n",
       "7733096   13000000.0        7.2        NaN   669202      1981.0     1.0  ...   \n",
       "7733097   11000000.0        6.8        NaN   669202      1981.0     1.0  ...   \n",
       "7733098   24000000.0       15.6        NaN   669202      1981.0     1.0  ...   \n",
       "7733099    2000000.0       18.5        NaN   669202      1981.0     1.0  ...   \n",
       "7733100   13000000.0        9.5        NaN   669202      1981.0     1.0  ...   \n",
       "...              ...        ...        ...      ...         ...     ...  ...   \n",
       "10336228  34000000.0       13.6        NaN   274137      1980.0     1.0  ...   \n",
       "10336229   6000000.0        9.5        NaN   274137      1980.0     1.0  ...   \n",
       "10336230  11000000.0       16.6        NaN   244440      2000.0     1.0  ...   \n",
       "10336231  30000000.0       14.5        NaN   244440      2000.0     1.0  ...   \n",
       "10336232  30000000.0       14.5        NaN   244440      2000.0     1.0  ...   \n",
       "\n",
       "         existing_loan_cnt  existing_loan_amt  company_enter_year  \\\n",
       "7733096                1.0       6.299001e+07              2022.0   \n",
       "7733097                1.0       6.299001e+07              2022.0   \n",
       "7733098                1.0       6.299001e+07              2022.0   \n",
       "7733099                1.0       6.299001e+07              2022.0   \n",
       "7733100                1.0       6.299001e+07              2022.0   \n",
       "...                    ...                ...                 ...   \n",
       "10336228               3.0       4.500000e+07              2020.0   \n",
       "10336229               3.0       4.500000e+07              2020.0   \n",
       "10336230               1.0       6.299001e+07              2022.0   \n",
       "10336231               1.0       6.299001e+07              2022.0   \n",
       "10336232               1.0       6.299001e+07              2022.0   \n",
       "\n",
       "         loanapply_insert_time_s  bank_cumcnt bank_popularity product_cumcnt  \\\n",
       "7733096                  8035944       217653        0.073907          87541   \n",
       "7733097                  8035944       299533        0.108473         121466   \n",
       "7733098                  8035944       205488        0.049137          66382   \n",
       "7733099                  8035945        59150        0.071785          59150   \n",
       "7733100                  8035954       205489        0.049137         108515   \n",
       "...                          ...          ...             ...            ...   \n",
       "10336228                10626847       169362        0.012406          14207   \n",
       "10336229                10626853       118549        0.112504          81558   \n",
       "10336230                10626888       283973        0.049137          97348   \n",
       "10336231                10626888       325535        0.031744         159437   \n",
       "10336232                10626888       325536        0.031744         166099   \n",
       "\n",
       "          product_popularity bank_group product_group  \n",
       "7733096             0.082854        2.0           2.0  \n",
       "7733097             0.186803        5.0           2.0  \n",
       "7733098             0.048809        5.0           6.0  \n",
       "7733099             0.071785        5.0           7.0  \n",
       "7733100             0.060333        5.0           2.0  \n",
       "...                      ...        ...           ...  \n",
       "10336228            0.013068        5.0           7.0  \n",
       "10336229            0.143277        2.0           4.0  \n",
       "10336230            0.048809        5.0           6.0  \n",
       "10336231            0.034740        4.0           6.0  \n",
       "10336232            0.028896        4.0           6.0  \n",
       "\n",
       "[2603137 rows x 31 columns]"
      ]
     },
     "execution_count": 204,
     "metadata": {},
     "output_type": "execute_result"
    }
   ],
   "source": [
    "test_df6"
   ]
  },
  {
   "cell_type": "markdown",
   "metadata": {},
   "source": [
    "#### 휴지통 끝"
   ]
  },
  {
   "cell_type": "code",
   "execution_count": null,
   "metadata": {},
   "outputs": [],
   "source": []
  },
  {
   "cell_type": "code",
   "execution_count": null,
   "metadata": {},
   "outputs": [],
   "source": []
  },
  {
   "cell_type": "code",
   "execution_count": null,
   "metadata": {},
   "outputs": [],
   "source": []
  },
  {
   "cell_type": "code",
   "execution_count": null,
   "metadata": {},
   "outputs": [],
   "source": []
  }
 ],
 "metadata": {
  "accelerator": "GPU",
  "colab": {
   "authorship_tag": "ABX9TyOlbnX/2nAP1KgJGwkuV9J+",
   "collapsed_sections": [
    "6py13V8mw1Bv"
   ],
   "machine_shape": "hm",
   "provenance": []
  },
  "hide_input": false,
  "kernelspec": {
   "display_name": "Python 3 (ipykernel)",
   "language": "python",
   "name": "python3"
  },
  "language_info": {
   "codemirror_mode": {
    "name": "ipython",
    "version": 3
   },
   "file_extension": ".py",
   "mimetype": "text/x-python",
   "name": "python",
   "nbconvert_exporter": "python",
   "pygments_lexer": "ipython3",
   "version": "3.9.12"
  },
  "toc": {
   "base_numbering": 1,
   "nav_menu": {},
   "number_sections": true,
   "sideBar": true,
   "skip_h1_title": false,
   "title_cell": "Table of Contents",
   "title_sidebar": "Contents",
   "toc_cell": false,
   "toc_position": {},
   "toc_section_display": true,
   "toc_window_display": false
  },
  "varInspector": {
   "cols": {
    "lenName": 16,
    "lenType": 16,
    "lenVar": 40
   },
   "kernels_config": {
    "python": {
     "delete_cmd_postfix": "",
     "delete_cmd_prefix": "del ",
     "library": "var_list.py",
     "varRefreshCmd": "print(var_dic_list())"
    },
    "r": {
     "delete_cmd_postfix": ") ",
     "delete_cmd_prefix": "rm(",
     "library": "var_list.r",
     "varRefreshCmd": "cat(var_dic_list()) "
    }
   },
   "types_to_exclude": [
    "module",
    "function",
    "builtin_function_or_method",
    "instance",
    "_Feature"
   ],
   "window_display": false
  }
 },
 "nbformat": 4,
 "nbformat_minor": 1
}
